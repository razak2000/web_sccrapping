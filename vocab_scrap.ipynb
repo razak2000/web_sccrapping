{
 "cells": [
  {
   "cell_type": "code",
   "execution_count": 1,
   "metadata": {},
   "outputs": [],
   "source": [
    "import os, requests, urllib\n",
    "import re\n",
    "from bs4 import BeautifulSoup\n",
    "import time"
   ]
  },
  {
   "cell_type": "markdown",
   "metadata": {},
   "source": [
    "ആണയിട്ട്‌ ത്യജിക്കുക<font color='red'><b>,</b></font> ശപഥപൂര്‍വ്വം ഉപേക്ഷിക്കുക<font color='red'><b>,</b></font> സത്യം ചെയ്‌ത്‌ ത്യജിക്കുക<font color='red'><b>,</b></font> ശപഥപൂര്‍വം ഉപേക്ഷിക്കുക<font color='red'><b>,</b></font> ആണയിട്ട് ത്യജിക്കുക<font color='red'><b>,</b></font> ഇല്ലെന്ന് ആണയിടുക<font color='red'><b>,</b></font> സത്യം ചെയ്ത് ത്യജിക്കുക"
   ]
  },
  {
   "cell_type": "code",
   "execution_count": 2,
   "metadata": {},
   "outputs": [],
   "source": [
    "folder = '/home/abdul/study/web_scraping'\n",
    "base_url = 'https://olam.in/Dictionary/en_ml/'"
   ]
  },
  {
   "cell_type": "code",
   "execution_count": 29,
   "metadata": {},
   "outputs": [],
   "source": [
    "def scrap_meanings(word):\n",
    "    word_url = base_url + word\n",
    "#     print(word_url)\n",
    "    page = requests.get(word_url)\n",
    "    result = BeautifulSoup(page.content, 'lxml')\n",
    "    word_tag = result.find(name='span', text=word.title()) \n",
    "    meanings = list()\n",
    "    if word_tag:\n",
    "        meaning_tags = word_tag.parent.parent.find_all(name='span', attrs={\"class\":\"w\"})\n",
    "        # print(meaning_tags)\n",
    "        for meaning_tag in meaning_tags:\n",
    "            # print(meaning_tag.string)\n",
    "            if meaning_tag.string:\n",
    "                meanings.append(meaning_tag.string) \n",
    "    return ', '.join(meanings)\n",
    "# res = scrap_meanings('careful')\n",
    "# print(res)"
   ]
  },
  {
   "cell_type": "code",
   "execution_count": 30,
   "metadata": {},
   "outputs": [],
   "source": [
    "def get_meanings(in_file, out_file):\n",
    "    with open(os.path.join(folder, in_file)) as fileIn:\n",
    "        with open(os.path.join(folder, out_file), 'w') as fileOut:\n",
    "            # malayalam_dictionary = dict()\n",
    "            for word in fileIn:\n",
    "                meaning = scrap_meanings(word.strip('\\n'))\n",
    "                print(word.strip('\\n'))\n",
    "                # malayalam_dictionary[word.strip('\\n')] = meaning\n",
    "                word_str = '{}: {}\\n'.format(word.strip('\\n'), meaning)\n",
    "                # print(word_str)\n",
    "                fileOut.write(word_str)\n",
    "        \n",
    "            # for key in sorted(malayalam_dictionary.keys()):\n",
    "            #     word_str = '{}: {}\\n'.format(key, malayalam_dictionary[key])\n",
    "            #     # print(word_str)\n",
    "            #     fileOut.write(word_str)"
   ]
  },
  {
   "cell_type": "code",
   "execution_count": 20,
   "metadata": {},
   "outputs": [
    {
     "name": "stdout",
     "output_type": "stream",
     "text": [
      "[<span class=\"w\">പ്രയാസമുള്ള</span>, <span class=\"w\"></span>, <span class=\"w\">മുന്‍കരുതലുള്ള</span>, <span class=\"w\">ശ്രദ്ധയുള്ള</span>, <span class=\"w\">അവധാനപൂര്‍വ്വമായ</span>, <span class=\"w\">ജാഗ്രതയുള്ള</span>, <span class=\"w\">ജാഗരൂകനായ</span>, <span class=\"w\">നിപുണമായ</span>, <span class=\"w\">ഭദ്രമായ</span>, <span class=\"w\">സൂക്ഷ്‌മമുള്ള</span>, <span class=\"w\">ശ്രദ്ധയോടെ</span>, <span class=\"w\">സൂക്ഷ്മമുള്ള</span>, <span class=\"w\">ശ്രദ്ധയോടെ</span>]\nപ്രയാസമുള്ള\nNone\nമുന്‍കരുതലുള്ള\nശ്രദ്ധയുള്ള\nഅവധാനപൂര്‍വ്വമായ\nജാഗ്രതയുള്ള\nജാഗരൂകനായ\nനിപുണമായ\nഭദ്രമായ\nസൂക്ഷ്‌മമുള്ള\nശ്രദ്ധയോടെ\nസൂക്ഷ്മമുള്ള\nശ്രദ്ധയോടെ\n"
     ]
    },
    {
     "ename": "TypeError",
     "evalue": "sequence item 1: expected str instance, NoneType found",
     "traceback": [
      "\u001b[0;31m---------------------------------------------------------------------------\u001b[0m",
      "\u001b[0;31mTypeError\u001b[0m                                 Traceback (most recent call last)",
      "\u001b[0;32m<ipython-input-23-0eed41e3c22b>\u001b[0m in \u001b[0;36m<module>\u001b[0;34m()\u001b[0m\n\u001b[1;32m      1\u001b[0m \u001b[0;34m\u001b[0m\u001b[0m\n\u001b[0;32m----> 2\u001b[0;31m \u001b[0mscrap_meanings\u001b[0m\u001b[0;34m(\u001b[0m\u001b[0;34m'careful'\u001b[0m\u001b[0;34m)\u001b[0m\u001b[0;34m\u001b[0m\u001b[0;34m\u001b[0m\u001b[0m\n\u001b[0m",
      "\u001b[0;32m<ipython-input-22-e960b8dbd5ed>\u001b[0m in \u001b[0;36mscrap_meanings\u001b[0;34m(word)\u001b[0m\n\u001b[1;32m     12\u001b[0m             \u001b[0mprint\u001b[0m\u001b[0;34m(\u001b[0m\u001b[0mmeaning_tag\u001b[0m\u001b[0;34m.\u001b[0m\u001b[0mstring\u001b[0m\u001b[0;34m)\u001b[0m\u001b[0;34m\u001b[0m\u001b[0;34m\u001b[0m\u001b[0m\n\u001b[1;32m     13\u001b[0m             \u001b[0mmeanings\u001b[0m\u001b[0;34m.\u001b[0m\u001b[0mappend\u001b[0m\u001b[0;34m(\u001b[0m\u001b[0mmeaning_tag\u001b[0m\u001b[0;34m.\u001b[0m\u001b[0mstring\u001b[0m\u001b[0;34m)\u001b[0m\u001b[0;34m\u001b[0m\u001b[0;34m\u001b[0m\u001b[0m\n\u001b[0;32m---> 14\u001b[0;31m     \u001b[0;32mreturn\u001b[0m \u001b[0;34m', '\u001b[0m\u001b[0;34m.\u001b[0m\u001b[0mjoin\u001b[0m\u001b[0;34m(\u001b[0m\u001b[0mmeanings\u001b[0m\u001b[0;34m)\u001b[0m\u001b[0;34m\u001b[0m\u001b[0;34m\u001b[0m\u001b[0m\n\u001b[0m\u001b[1;32m     15\u001b[0m \u001b[0;31m# res = scrap_meanings('abandoned')\u001b[0m\u001b[0;34m\u001b[0m\u001b[0;34m\u001b[0m\u001b[0;34m\u001b[0m\u001b[0m\n\u001b[1;32m     16\u001b[0m \u001b[0;31m# print(res)\u001b[0m\u001b[0;34m\u001b[0m\u001b[0;34m\u001b[0m\u001b[0;34m\u001b[0m\u001b[0m\n",
      "\u001b[0;31mTypeError\u001b[0m: sequence item 1: expected str instance, NoneType found"
     ],
     "output_type": "error"
    }
   ],
   "source": [
    "get_meanings('test_words.txt', 'test_results1.txt')\n"
   ]
  },
  {
   "cell_type": "code",
   "execution_count": 23,
   "metadata": {},
   "outputs": [
    {
     "name": "stdout",
     "output_type": "stream",
     "text": [
      "[<span class=\"w\">പ്രയാസമുള്ള</span>, <span class=\"w\"></span>, <span class=\"w\">മുന്‍കരുതലുള്ള</span>, <span class=\"w\">ശ്രദ്ധയുള്ള</span>, <span class=\"w\">അവധാനപൂര്‍വ്വമായ</span>, <span class=\"w\">ജാഗ്രതയുള്ള</span>, <span class=\"w\">ജാഗരൂകനായ</span>, <span class=\"w\">നിപുണമായ</span>, <span class=\"w\">ഭദ്രമായ</span>, <span class=\"w\">സൂക്ഷ്‌മമുള്ള</span>, <span class=\"w\">ശ്രദ്ധയോടെ</span>, <span class=\"w\">സൂക്ഷ്മമുള്ള</span>, <span class=\"w\">ശ്രദ്ധയോടെ</span>]\nപ്രയാസമുള്ള\nNone\nമുന്‍കരുതലുള്ള\nശ്രദ്ധയുള്ള\nഅവധാനപൂര്‍വ്വമായ\nജാഗ്രതയുള്ള\nജാഗരൂകനായ\nനിപുണമായ\nഭദ്രമായ\nസൂക്ഷ്‌മമുള്ള\nശ്രദ്ധയോടെ\nസൂക്ഷ്മമുള്ള\nശ്രദ്ധയോടെ\n"
     ]
    },
    {
     "ename": "TypeError",
     "evalue": "sequence item 1: expected str instance, NoneType found",
     "traceback": [
      "\u001b[0;31m---------------------------------------------------------------------------\u001b[0m",
      "\u001b[0;31mTypeError\u001b[0m                                 Traceback (most recent call last)",
      "\u001b[0;32m<ipython-input-23-0eed41e3c22b>\u001b[0m in \u001b[0;36m<module>\u001b[0;34m()\u001b[0m\n\u001b[1;32m      1\u001b[0m \u001b[0;34m\u001b[0m\u001b[0m\n\u001b[0;32m----> 2\u001b[0;31m \u001b[0mscrap_meanings\u001b[0m\u001b[0;34m(\u001b[0m\u001b[0;34m'careful'\u001b[0m\u001b[0;34m)\u001b[0m\u001b[0;34m\u001b[0m\u001b[0;34m\u001b[0m\u001b[0m\n\u001b[0m",
      "\u001b[0;32m<ipython-input-22-e960b8dbd5ed>\u001b[0m in \u001b[0;36mscrap_meanings\u001b[0;34m(word)\u001b[0m\n\u001b[1;32m     12\u001b[0m             \u001b[0mprint\u001b[0m\u001b[0;34m(\u001b[0m\u001b[0mmeaning_tag\u001b[0m\u001b[0;34m.\u001b[0m\u001b[0mstring\u001b[0m\u001b[0;34m)\u001b[0m\u001b[0;34m\u001b[0m\u001b[0;34m\u001b[0m\u001b[0m\n\u001b[1;32m     13\u001b[0m             \u001b[0mmeanings\u001b[0m\u001b[0;34m.\u001b[0m\u001b[0mappend\u001b[0m\u001b[0;34m(\u001b[0m\u001b[0mmeaning_tag\u001b[0m\u001b[0;34m.\u001b[0m\u001b[0mstring\u001b[0m\u001b[0;34m)\u001b[0m\u001b[0;34m\u001b[0m\u001b[0;34m\u001b[0m\u001b[0m\n\u001b[0;32m---> 14\u001b[0;31m     \u001b[0;32mreturn\u001b[0m \u001b[0;34m', '\u001b[0m\u001b[0;34m.\u001b[0m\u001b[0mjoin\u001b[0m\u001b[0;34m(\u001b[0m\u001b[0mmeanings\u001b[0m\u001b[0;34m)\u001b[0m\u001b[0;34m\u001b[0m\u001b[0;34m\u001b[0m\u001b[0m\n\u001b[0m\u001b[1;32m     15\u001b[0m \u001b[0;31m# res = scrap_meanings('abandoned')\u001b[0m\u001b[0;34m\u001b[0m\u001b[0;34m\u001b[0m\u001b[0;34m\u001b[0m\u001b[0m\n\u001b[1;32m     16\u001b[0m \u001b[0;31m# print(res)\u001b[0m\u001b[0;34m\u001b[0m\u001b[0;34m\u001b[0m\u001b[0;34m\u001b[0m\u001b[0m\n",
      "\u001b[0;31mTypeError\u001b[0m: sequence item 1: expected str instance, NoneType found"
     ],
     "output_type": "error"
    }
   ],
   "source": [
    "\n",
    "scrap_meanings('careful')"
   ]
  },
  {
   "cell_type": "code",
   "execution_count": 31,
   "metadata": {},
   "outputs": [
    {
     "name": "stdout",
     "output_type": "stream",
     "text": [
      "careful\n"
     ]
    },
    {
     "name": "stdout",
     "output_type": "stream",
     "text": [
      "careless\n"
     ]
    },
    {
     "name": "stdout",
     "output_type": "stream",
     "text": [
      "carelessness\n"
     ]
    },
    {
     "name": "stdout",
     "output_type": "stream",
     "text": [
      "cares\n"
     ]
    },
    {
     "name": "stdout",
     "output_type": "stream",
     "text": [
      "caressing\n"
     ]
    },
    {
     "name": "stdout",
     "output_type": "stream",
     "text": [
      "careworn\n"
     ]
    },
    {
     "name": "stdout",
     "output_type": "stream",
     "text": [
      "carping\n"
     ]
    },
    {
     "name": "stdout",
     "output_type": "stream",
     "text": [
      "caste\n"
     ]
    },
    {
     "name": "stdout",
     "output_type": "stream",
     "text": [
      "castellated\n"
     ]
    },
    {
     "name": "stdout",
     "output_type": "stream",
     "text": [
      "casual\n"
     ]
    },
    {
     "name": "stdout",
     "output_type": "stream",
     "text": [
      "casuists\n"
     ]
    },
    {
     "name": "stdout",
     "output_type": "stream",
     "text": [
      "cataclysmic\n"
     ]
    },
    {
     "name": "stdout",
     "output_type": "stream",
     "text": [
      "cause\n"
     ]
    },
    {
     "name": "stdout",
     "output_type": "stream",
     "text": [
      "causelessly\n"
     ]
    },
    {
     "name": "stdout",
     "output_type": "stream",
     "text": [
      "causes\n"
     ]
    },
    {
     "name": "stdout",
     "output_type": "stream",
     "text": [
      "caustic\n"
     ]
    },
    {
     "name": "stdout",
     "output_type": "stream",
     "text": [
      "caution\n"
     ]
    },
    {
     "name": "stdout",
     "output_type": "stream",
     "text": [
      "cautious\n"
     ]
    },
    {
     "name": "stdout",
     "output_type": "stream",
     "text": [
      "cavernous\n"
     ]
    },
    {
     "name": "stdout",
     "output_type": "stream",
     "text": [
      "caviling\n"
     ]
    },
    {
     "name": "stdout",
     "output_type": "stream",
     "text": [
      "ceaseless\n"
     ]
    },
    {
     "name": "stdout",
     "output_type": "stream",
     "text": [
      "celebrated\n"
     ]
    },
    {
     "name": "stdout",
     "output_type": "stream",
     "text": [
      "celerity\n"
     ]
    },
    {
     "name": "stdout",
     "output_type": "stream",
     "text": [
      "celestial\n"
     ]
    },
    {
     "name": "stdout",
     "output_type": "stream",
     "text": [
      "censor\n"
     ]
    },
    {
     "name": "stdout",
     "output_type": "stream",
     "text": [
      "censorious\n"
     ]
    },
    {
     "name": "stdout",
     "output_type": "stream",
     "text": [
      "censure\n"
     ]
    },
    {
     "name": "stdout",
     "output_type": "stream",
     "text": [
      "censured\n"
     ]
    },
    {
     "name": "stdout",
     "output_type": "stream",
     "text": [
      "censures\n"
     ]
    },
    {
     "name": "stdout",
     "output_type": "stream",
     "text": [
      "centralized\n"
     ]
    },
    {
     "name": "stdout",
     "output_type": "stream",
     "text": [
      "centuries\n"
     ]
    },
    {
     "name": "stdout",
     "output_type": "stream",
     "text": [
      "ceremonies\n"
     ]
    },
    {
     "name": "stdout",
     "output_type": "stream",
     "text": [
      "ceremonious\n"
     ]
    },
    {
     "name": "stdout",
     "output_type": "stream",
     "text": [
      "ceremony\n"
     ]
    },
    {
     "name": "stdout",
     "output_type": "stream",
     "text": [
      "certain\n"
     ]
    },
    {
     "name": "stdout",
     "output_type": "stream",
     "text": [
      "certainties\n"
     ]
    },
    {
     "name": "stdout",
     "output_type": "stream",
     "text": [
      "cerulean\n"
     ]
    },
    {
     "name": "stdout",
     "output_type": "stream",
     "text": [
      "cessations\n"
     ]
    },
    {
     "name": "stdout",
     "output_type": "stream",
     "text": [
      "chafe\n"
     ]
    },
    {
     "name": "stdout",
     "output_type": "stream",
     "text": [
      "chagrin\n"
     ]
    },
    {
     "name": "stdout",
     "output_type": "stream",
     "text": [
      "challenge\n"
     ]
    },
    {
     "name": "stdout",
     "output_type": "stream",
     "text": [
      "chance\n"
     ]
    },
    {
     "name": "stdout",
     "output_type": "stream",
     "text": [
      "change\n"
     ]
    },
    {
     "name": "stdout",
     "output_type": "stream",
     "text": [
      "changes\n"
     ]
    },
    {
     "name": "stdout",
     "output_type": "stream",
     "text": [
      "changing\n"
     ]
    },
    {
     "name": "stdout",
     "output_type": "stream",
     "text": [
      "channeled\n"
     ]
    },
    {
     "name": "stdout",
     "output_type": "stream",
     "text": [
      "chant\n"
     ]
    },
    {
     "name": "stdout",
     "output_type": "stream",
     "text": [
      "chaos\n"
     ]
    },
    {
     "name": "stdout",
     "output_type": "stream",
     "text": [
      "chaotic\n"
     ]
    },
    {
     "name": "stdout",
     "output_type": "stream",
     "text": [
      "character\n"
     ]
    },
    {
     "name": "stdout",
     "output_type": "stream",
     "text": [
      "characteristic\n"
     ]
    },
    {
     "name": "stdout",
     "output_type": "stream",
     "text": [
      "characteristics\n"
     ]
    },
    {
     "name": "stdout",
     "output_type": "stream",
     "text": [
      "characterize\n"
     ]
    },
    {
     "name": "stdout",
     "output_type": "stream",
     "text": [
      "charges\n"
     ]
    },
    {
     "name": "stdout",
     "output_type": "stream",
     "text": [
      "charitable\n"
     ]
    },
    {
     "name": "stdout",
     "output_type": "stream",
     "text": [
      "charity\n"
     ]
    },
    {
     "name": "stdout",
     "output_type": "stream",
     "text": [
      "charlatan\n"
     ]
    },
    {
     "name": "stdout",
     "output_type": "stream",
     "text": [
      "charm\n"
     ]
    },
    {
     "name": "stdout",
     "output_type": "stream",
     "text": [
      "charming\n"
     ]
    },
    {
     "name": "stdout",
     "output_type": "stream",
     "text": [
      "chary\n"
     ]
    },
    {
     "name": "stdout",
     "output_type": "stream",
     "text": [
      "chasm\n"
     ]
    },
    {
     "name": "stdout",
     "output_type": "stream",
     "text": [
      "chaste\n"
     ]
    },
    {
     "name": "stdout",
     "output_type": "stream",
     "text": [
      "chastened\n"
     ]
    },
    {
     "name": "stdout",
     "output_type": "stream",
     "text": [
      "chastening\n"
     ]
    },
    {
     "name": "stdout",
     "output_type": "stream",
     "text": [
      "chatter\n"
     ]
    },
    {
     "name": "stdout",
     "output_type": "stream",
     "text": [
      "chattering\n"
     ]
    },
    {
     "name": "stdout",
     "output_type": "stream",
     "text": [
      "chatty\n"
     ]
    },
    {
     "name": "stdout",
     "output_type": "stream",
     "text": [
      "cheap\n"
     ]
    },
    {
     "name": "stdout",
     "output_type": "stream",
     "text": [
      "checked\n"
     ]
    },
    {
     "name": "stdout",
     "output_type": "stream",
     "text": [
      "cheek\n"
     ]
    },
    {
     "name": "stdout",
     "output_type": "stream",
     "text": [
      "cheeks\n"
     ]
    },
    {
     "name": "stdout",
     "output_type": "stream",
     "text": [
      "cheer\n"
     ]
    },
    {
     "name": "stdout",
     "output_type": "stream",
     "text": [
      "cheerful\n"
     ]
    },
    {
     "name": "stdout",
     "output_type": "stream",
     "text": [
      "cheerfulness\n"
     ]
    },
    {
     "name": "stdout",
     "output_type": "stream",
     "text": [
      "cheering\n"
     ]
    },
    {
     "name": "stdout",
     "output_type": "stream",
     "text": [
      "cheery\n"
     ]
    },
    {
     "name": "stdout",
     "output_type": "stream",
     "text": [
      "chequered\n"
     ]
    },
    {
     "name": "stdout",
     "output_type": "stream",
     "text": [
      "cherish\n"
     ]
    },
    {
     "name": "stdout",
     "output_type": "stream",
     "text": [
      "cherished\n"
     ]
    },
    {
     "name": "stdout",
     "output_type": "stream",
     "text": [
      "chief\n"
     ]
    },
    {
     "name": "stdout",
     "output_type": "stream",
     "text": [
      "childhood\n"
     ]
    },
    {
     "name": "stdout",
     "output_type": "stream",
     "text": [
      "childish\n"
     ]
    },
    {
     "name": "stdout",
     "output_type": "stream",
     "text": [
      "childlike\n"
     ]
    },
    {
     "name": "stdout",
     "output_type": "stream",
     "text": [
      "chill\n"
     ]
    },
    {
     "name": "stdout",
     "output_type": "stream",
     "text": [
      "chilled\n"
     ]
    },
    {
     "name": "stdout",
     "output_type": "stream",
     "text": [
      "chimerical\n"
     ]
    },
    {
     "name": "stdout",
     "output_type": "stream",
     "text": [
      "chirpy\n"
     ]
    },
    {
     "name": "stdout",
     "output_type": "stream",
     "text": [
      "chivalrous\n"
     ]
    },
    {
     "name": "stdout",
     "output_type": "stream",
     "text": [
      "chivalry\n"
     ]
    },
    {
     "name": "stdout",
     "output_type": "stream",
     "text": [
      "choicest\n"
     ]
    },
    {
     "name": "stdout",
     "output_type": "stream",
     "text": [
      "choleric\n"
     ]
    },
    {
     "name": "stdout",
     "output_type": "stream",
     "text": [
      "choral\n"
     ]
    },
    {
     "name": "stdout",
     "output_type": "stream",
     "text": [
      "chorus\n"
     ]
    },
    {
     "name": "stdout",
     "output_type": "stream",
     "text": [
      "chronic\n"
     ]
    },
    {
     "name": "stdout",
     "output_type": "stream",
     "text": [
      "chronicler\n"
     ]
    },
    {
     "name": "stdout",
     "output_type": "stream",
     "text": [
      "churlish\n"
     ]
    },
    {
     "name": "stdout",
     "output_type": "stream",
     "text": [
      "churlishness\n"
     ]
    },
    {
     "name": "stdout",
     "output_type": "stream",
     "text": [
      "circling\n"
     ]
    },
    {
     "name": "stdout",
     "output_type": "stream",
     "text": [
      "circuitous\n"
     ]
    },
    {
     "name": "stdout",
     "output_type": "stream",
     "text": [
      "circulation\n"
     ]
    },
    {
     "name": "stdout",
     "output_type": "stream",
     "text": [
      "circumlocution\n"
     ]
    },
    {
     "name": "stdout",
     "output_type": "stream",
     "text": [
      "circumscribe\n"
     ]
    },
    {
     "name": "stdout",
     "output_type": "stream",
     "text": [
      "circumscribed\n"
     ]
    },
    {
     "name": "stdout",
     "output_type": "stream",
     "text": [
      "circumstance\n"
     ]
    },
    {
     "name": "stdout",
     "output_type": "stream",
     "text": [
      "circumstances\n"
     ]
    },
    {
     "name": "stdout",
     "output_type": "stream",
     "text": [
      "citation\n"
     ]
    },
    {
     "name": "stdout",
     "output_type": "stream",
     "text": [
      "civic\n"
     ]
    },
    {
     "name": "stdout",
     "output_type": "stream",
     "text": [
      "civility\n"
     ]
    },
    {
     "name": "stdout",
     "output_type": "stream",
     "text": [
      "civilization\n"
     ]
    },
    {
     "name": "stdout",
     "output_type": "stream",
     "text": [
      "civilized\n"
     ]
    },
    {
     "name": "stdout",
     "output_type": "stream",
     "text": [
      "civilizing\n"
     ]
    },
    {
     "name": "stdout",
     "output_type": "stream",
     "text": [
      "claim\n"
     ]
    },
    {
     "name": "stdout",
     "output_type": "stream",
     "text": [
      "clammy\n"
     ]
    },
    {
     "name": "stdout",
     "output_type": "stream",
     "text": [
      "clamor\n"
     ]
    },
    {
     "name": "stdout",
     "output_type": "stream",
     "text": [
      "clamorous\n"
     ]
    },
    {
     "name": "stdout",
     "output_type": "stream",
     "text": [
      "clang\n"
     ]
    },
    {
     "name": "stdout",
     "output_type": "stream",
     "text": [
      "clangorous\n"
     ]
    },
    {
     "name": "stdout",
     "output_type": "stream",
     "text": [
      "claptrap\n"
     ]
    },
    {
     "name": "stdout",
     "output_type": "stream",
     "text": [
      "clarion\n"
     ]
    },
    {
     "name": "stdout",
     "output_type": "stream",
     "text": [
      "clarity\n"
     ]
    },
    {
     "name": "stdout",
     "output_type": "stream",
     "text": [
      "class\n"
     ]
    },
    {
     "name": "stdout",
     "output_type": "stream",
     "text": [
      "classical\n"
     ]
    },
    {
     "name": "stdout",
     "output_type": "stream",
     "text": [
      "classified\n"
     ]
    },
    {
     "name": "stdout",
     "output_type": "stream",
     "text": [
      "classify\n"
     ]
    },
    {
     "name": "stdout",
     "output_type": "stream",
     "text": [
      "clatter\n"
     ]
    },
    {
     "name": "stdout",
     "output_type": "stream",
     "text": [
      "clattering\n"
     ]
    },
    {
     "name": "stdout",
     "output_type": "stream",
     "text": [
      "clean\n"
     ]
    },
    {
     "name": "stdout",
     "output_type": "stream",
     "text": [
      "clear\n"
     ]
    },
    {
     "name": "stdout",
     "output_type": "stream",
     "text": [
      "clear-headed\n"
     ]
    },
    {
     "name": "stdout",
     "output_type": "stream",
     "text": [
      "clearness\n"
     ]
    },
    {
     "name": "stdout",
     "output_type": "stream",
     "text": [
      "clever\n"
     ]
    },
    {
     "name": "stdout",
     "output_type": "stream",
     "text": [
      "cleverness\n"
     ]
    },
    {
     "name": "stdout",
     "output_type": "stream",
     "text": [
      "climactic\n"
     ]
    },
    {
     "name": "stdout",
     "output_type": "stream",
     "text": [
      "climax\n"
     ]
    },
    {
     "name": "stdout",
     "output_type": "stream",
     "text": [
      "clinching\n"
     ]
    },
    {
     "name": "stdout",
     "output_type": "stream",
     "text": [
      "cloaked\n"
     ]
    },
    {
     "name": "stdout",
     "output_type": "stream",
     "text": [
      "clogged\n"
     ]
    },
    {
     "name": "stdout",
     "output_type": "stream",
     "text": [
      "cloistered\n"
     ]
    },
    {
     "name": "stdout",
     "output_type": "stream",
     "text": [
      "close\n"
     ]
    },
    {
     "name": "stdout",
     "output_type": "stream",
     "text": [
      "cloudless\n"
     ]
    },
    {
     "name": "stdout",
     "output_type": "stream",
     "text": [
      "clouds\n"
     ]
    },
    {
     "name": "stdout",
     "output_type": "stream",
     "text": [
      "cloudy\n"
     ]
    },
    {
     "name": "stdout",
     "output_type": "stream",
     "text": [
      "clownish\n"
     ]
    },
    {
     "name": "stdout",
     "output_type": "stream",
     "text": [
      "clownishly\n"
     ]
    },
    {
     "name": "stdout",
     "output_type": "stream",
     "text": [
      "cloy\n"
     ]
    },
    {
     "name": "stdout",
     "output_type": "stream",
     "text": [
      "cloying\n"
     ]
    },
    {
     "name": "stdout",
     "output_type": "stream",
     "text": [
      "clumsy\n"
     ]
    },
    {
     "name": "stdout",
     "output_type": "stream",
     "text": [
      "clustering\n"
     ]
    },
    {
     "name": "stdout",
     "output_type": "stream",
     "text": [
      "coarse\n"
     ]
    },
    {
     "name": "stdout",
     "output_type": "stream",
     "text": [
      "coarseness\n"
     ]
    },
    {
     "name": "stdout",
     "output_type": "stream",
     "text": [
      "coax\n"
     ]
    },
    {
     "name": "stdout",
     "output_type": "stream",
     "text": [
      "coaxed\n"
     ]
    },
    {
     "name": "stdout",
     "output_type": "stream",
     "text": [
      "coaxing\n"
     ]
    },
    {
     "name": "stdout",
     "output_type": "stream",
     "text": [
      "coercion\n"
     ]
    },
    {
     "name": "stdout",
     "output_type": "stream",
     "text": [
      "coercive\n"
     ]
    },
    {
     "name": "stdout",
     "output_type": "stream",
     "text": [
      "coexistent\n"
     ]
    },
    {
     "name": "stdout",
     "output_type": "stream",
     "text": [
      "cogent\n"
     ]
    },
    {
     "name": "stdout",
     "output_type": "stream",
     "text": [
      "cogitate\n"
     ]
    },
    {
     "name": "stdout",
     "output_type": "stream",
     "text": [
      "coherence\n"
     ]
    },
    {
     "name": "stdout",
     "output_type": "stream",
     "text": [
      "coherent\n"
     ]
    },
    {
     "name": "stdout",
     "output_type": "stream",
     "text": [
      "cohesion\n"
     ]
    },
    {
     "name": "stdout",
     "output_type": "stream",
     "text": [
      "coincidence\n"
     ]
    },
    {
     "name": "stdout",
     "output_type": "stream",
     "text": [
      "coined\n"
     ]
    },
    {
     "name": "stdout",
     "output_type": "stream",
     "text": [
      "cold\n"
     ]
    },
    {
     "name": "stdout",
     "output_type": "stream",
     "text": [
      "coldness\n"
     ]
    },
    {
     "name": "stdout",
     "output_type": "stream",
     "text": [
      "collateral\n"
     ]
    },
    {
     "name": "stdout",
     "output_type": "stream",
     "text": [
      "collected\n"
     ]
    },
    {
     "name": "stdout",
     "output_type": "stream",
     "text": [
      "collective\n"
     ]
    },
    {
     "name": "stdout",
     "output_type": "stream",
     "text": [
      "colloquial\n"
     ]
    },
    {
     "name": "stdout",
     "output_type": "stream",
     "text": [
      "colonial\n"
     ]
    },
    {
     "name": "stdout",
     "output_type": "stream",
     "text": [
      "color\n"
     ]
    },
    {
     "name": "stdout",
     "output_type": "stream",
     "text": [
      "colorless\n"
     ]
    },
    {
     "name": "stdout",
     "output_type": "stream",
     "text": [
      "colossal\n"
     ]
    },
    {
     "name": "stdout",
     "output_type": "stream",
     "text": [
      "comatose\n"
     ]
    },
    {
     "name": "stdout",
     "output_type": "stream",
     "text": [
      "combative\n"
     ]
    },
    {
     "name": "stdout",
     "output_type": "stream",
     "text": [
      "combination\n"
     ]
    },
    {
     "name": "stdout",
     "output_type": "stream",
     "text": [
      "combined\n"
     ]
    },
    {
     "name": "stdout",
     "output_type": "stream",
     "text": [
      "comely\n"
     ]
    },
    {
     "name": "stdout",
     "output_type": "stream",
     "text": [
      "comfort\n"
     ]
    },
    {
     "name": "stdout",
     "output_type": "stream",
     "text": [
      "comfort-loving\n"
     ]
    },
    {
     "name": "stdout",
     "output_type": "stream",
     "text": [
      "comfortable\n"
     ]
    },
    {
     "name": "stdout",
     "output_type": "stream",
     "text": [
      "comforting\n"
     ]
    },
    {
     "name": "stdout",
     "output_type": "stream",
     "text": [
      "comforts\n"
     ]
    },
    {
     "name": "stdout",
     "output_type": "stream",
     "text": [
      "comic\n"
     ]
    },
    {
     "name": "stdout",
     "output_type": "stream",
     "text": [
      "command\n"
     ]
    },
    {
     "name": "stdout",
     "output_type": "stream",
     "text": [
      "commanding\n"
     ]
    },
    {
     "name": "stdout",
     "output_type": "stream",
     "text": [
      "commend\n"
     ]
    },
    {
     "name": "stdout",
     "output_type": "stream",
     "text": [
      "commendable\n"
     ]
    },
    {
     "name": "stdout",
     "output_type": "stream",
     "text": [
      "comment\n"
     ]
    },
    {
     "name": "stdout",
     "output_type": "stream",
     "text": [
      "comments\n"
     ]
    },
    {
     "name": "stdout",
     "output_type": "stream",
     "text": [
      "commerce\n"
     ]
    },
    {
     "name": "stdout",
     "output_type": "stream",
     "text": [
      "commercial\n"
     ]
    },
    {
     "name": "stdout",
     "output_type": "stream",
     "text": [
      "commercialism\n"
     ]
    },
    {
     "name": "stdout",
     "output_type": "stream",
     "text": [
      "commingled\n"
     ]
    },
    {
     "name": "stdout",
     "output_type": "stream",
     "text": [
      "commodiously\n"
     ]
    },
    {
     "name": "stdout",
     "output_type": "stream",
     "text": [
      "commodity\n"
     ]
    },
    {
     "name": "stdout",
     "output_type": "stream",
     "text": [
      "common\n"
     ]
    },
    {
     "name": "stdout",
     "output_type": "stream",
     "text": [
      "commonness\n"
     ]
    },
    {
     "name": "stdout",
     "output_type": "stream",
     "text": [
      "commonplace\n"
     ]
    },
    {
     "name": "stdout",
     "output_type": "stream",
     "text": [
      "commonplaces\n"
     ]
    },
    {
     "name": "stdout",
     "output_type": "stream",
     "text": [
      "commotion\n"
     ]
    },
    {
     "name": "stdout",
     "output_type": "stream",
     "text": [
      "communicative\n"
     ]
    },
    {
     "name": "stdout",
     "output_type": "stream",
     "text": [
      "communicativeness\n"
     ]
    },
    {
     "name": "stdout",
     "output_type": "stream",
     "text": [
      "compact\n"
     ]
    },
    {
     "name": "stdout",
     "output_type": "stream",
     "text": [
      "companion\n"
     ]
    },
    {
     "name": "stdout",
     "output_type": "stream",
     "text": [
      "comparative\n"
     ]
    },
    {
     "name": "stdout",
     "output_type": "stream",
     "text": [
      "compare\n"
     ]
    },
    {
     "name": "stdout",
     "output_type": "stream",
     "text": [
      "comparison\n"
     ]
    },
    {
     "name": "stdout",
     "output_type": "stream",
     "text": [
      "compass\n"
     ]
    },
    {
     "name": "stdout",
     "output_type": "stream",
     "text": [
      "compassion\n"
     ]
    },
    {
     "name": "stdout",
     "output_type": "stream",
     "text": [
      "compassionate\n"
     ]
    },
    {
     "name": "stdout",
     "output_type": "stream",
     "text": [
      "compel\n"
     ]
    },
    {
     "name": "stdout",
     "output_type": "stream",
     "text": [
      "compelling\n"
     ]
    },
    {
     "name": "stdout",
     "output_type": "stream",
     "text": [
      "compendious\n"
     ]
    },
    {
     "name": "stdout",
     "output_type": "stream",
     "text": [
      "compensatory\n"
     ]
    },
    {
     "name": "stdout",
     "output_type": "stream",
     "text": [
      "competent\n"
     ]
    },
    {
     "name": "stdout",
     "output_type": "stream",
     "text": [
      "competitive\n"
     ]
    },
    {
     "name": "stdout",
     "output_type": "stream",
     "text": [
      "complacency\n"
     ]
    },
    {
     "name": "stdout",
     "output_type": "stream",
     "text": [
      "complacent\n"
     ]
    },
    {
     "name": "stdout",
     "output_type": "stream",
     "text": [
      "complaining\n"
     ]
    },
    {
     "name": "stdout",
     "output_type": "stream",
     "text": [
      "complaints\n"
     ]
    },
    {
     "name": "stdout",
     "output_type": "stream",
     "text": [
      "complaisance\n"
     ]
    },
    {
     "name": "stdout",
     "output_type": "stream",
     "text": [
      "complaisant\n"
     ]
    },
    {
     "name": "stdout",
     "output_type": "stream",
     "text": [
      "complement\n"
     ]
    },
    {
     "name": "stdout",
     "output_type": "stream",
     "text": [
      "complete\n"
     ]
    },
    {
     "name": "stdout",
     "output_type": "stream",
     "text": [
      "completely\n"
     ]
    },
    {
     "name": "stdout",
     "output_type": "stream",
     "text": [
      "completeness\n"
     ]
    },
    {
     "name": "stdout",
     "output_type": "stream",
     "text": [
      "complex\n"
     ]
    },
    {
     "name": "stdout",
     "output_type": "stream",
     "text": [
      "complexities\n"
     ]
    },
    {
     "name": "stdout",
     "output_type": "stream",
     "text": [
      "compliance\n"
     ]
    },
    {
     "name": "stdout",
     "output_type": "stream",
     "text": [
      "compliant\n"
     ]
    },
    {
     "name": "stdout",
     "output_type": "stream",
     "text": [
      "complicated\n"
     ]
    },
    {
     "name": "stdout",
     "output_type": "stream",
     "text": [
      "complications\n"
     ]
    },
    {
     "name": "stdout",
     "output_type": "stream",
     "text": [
      "compliment\n"
     ]
    },
    {
     "name": "stdout",
     "output_type": "stream",
     "text": [
      "complimentary\n"
     ]
    },
    {
     "name": "stdout",
     "output_type": "stream",
     "text": [
      "component\n"
     ]
    },
    {
     "name": "stdout",
     "output_type": "stream",
     "text": [
      "composed\n"
     ]
    },
    {
     "name": "stdout",
     "output_type": "stream",
     "text": [
      "composite\n"
     ]
    },
    {
     "name": "stdout",
     "output_type": "stream",
     "text": [
      "composition\n"
     ]
    },
    {
     "name": "stdout",
     "output_type": "stream",
     "text": [
      "composure\n"
     ]
    },
    {
     "name": "stdout",
     "output_type": "stream",
     "text": [
      "compound\n"
     ]
    },
    {
     "name": "stdout",
     "output_type": "stream",
     "text": [
      "comprehensible\n"
     ]
    },
    {
     "name": "stdout",
     "output_type": "stream",
     "text": [
      "comprehension\n"
     ]
    },
    {
     "name": "stdout",
     "output_type": "stream",
     "text": [
      "comprehensive\n"
     ]
    },
    {
     "name": "stdout",
     "output_type": "stream",
     "text": [
      "compressed\n"
     ]
    },
    {
     "name": "stdout",
     "output_type": "stream",
     "text": [
      "compression\n"
     ]
    },
    {
     "name": "stdout",
     "output_type": "stream",
     "text": [
      "compromises\n"
     ]
    },
    {
     "name": "stdout",
     "output_type": "stream",
     "text": [
      "compromising\n"
     ]
    },
    {
     "name": "stdout",
     "output_type": "stream",
     "text": [
      "compulsory\n"
     ]
    },
    {
     "name": "stdout",
     "output_type": "stream",
     "text": [
      "compunctious\n"
     ]
    },
    {
     "name": "stdout",
     "output_type": "stream",
     "text": [
      "concatenated\n"
     ]
    },
    {
     "name": "stdout",
     "output_type": "stream",
     "text": [
      "conceal\n"
     ]
    },
    {
     "name": "stdout",
     "output_type": "stream",
     "text": [
      "concealed\n"
     ]
    },
    {
     "name": "stdout",
     "output_type": "stream",
     "text": [
      "concealment\n"
     ]
    },
    {
     "name": "stdout",
     "output_type": "stream",
     "text": [
      "conceit\n"
     ]
    },
    {
     "name": "stdout",
     "output_type": "stream",
     "text": [
      "conceited\n"
     ]
    },
    {
     "name": "stdout",
     "output_type": "stream",
     "text": [
      "conceivable\n"
     ]
    },
    {
     "name": "stdout",
     "output_type": "stream",
     "text": [
      "conceived\n"
     ]
    },
    {
     "name": "stdout",
     "output_type": "stream",
     "text": [
      "concentrate\n"
     ]
    },
    {
     "name": "stdout",
     "output_type": "stream",
     "text": [
      "concentrated\n"
     ]
    },
    {
     "name": "stdout",
     "output_type": "stream",
     "text": [
      "conception\n"
     ]
    },
    {
     "name": "stdout",
     "output_type": "stream",
     "text": [
      "concern\n"
     ]
    },
    {
     "name": "stdout",
     "output_type": "stream",
     "text": [
      "concerned\n"
     ]
    },
    {
     "name": "stdout",
     "output_type": "stream",
     "text": [
      "concerted\n"
     ]
    },
    {
     "name": "stdout",
     "output_type": "stream",
     "text": [
      "concession\n"
     ]
    },
    {
     "name": "stdout",
     "output_type": "stream",
     "text": [
      "concessions\n"
     ]
    },
    {
     "name": "stdout",
     "output_type": "stream",
     "text": [
      "conciliating\n"
     ]
    },
    {
     "name": "stdout",
     "output_type": "stream",
     "text": [
      "conciliatory\n"
     ]
    },
    {
     "name": "stdout",
     "output_type": "stream",
     "text": [
      "concise\n"
     ]
    },
    {
     "name": "stdout",
     "output_type": "stream",
     "text": [
      "conclusion\n"
     ]
    },
    {
     "name": "stdout",
     "output_type": "stream",
     "text": [
      "conclusions\n"
     ]
    },
    {
     "name": "stdout",
     "output_type": "stream",
     "text": [
      "conclusive\n"
     ]
    },
    {
     "name": "stdout",
     "output_type": "stream",
     "text": [
      "concomitant\n"
     ]
    },
    {
     "name": "stdout",
     "output_type": "stream",
     "text": [
      "concomitants\n"
     ]
    },
    {
     "name": "stdout",
     "output_type": "stream",
     "text": [
      "concord\n"
     ]
    },
    {
     "name": "stdout",
     "output_type": "stream",
     "text": [
      "concrete\n"
     ]
    },
    {
     "name": "stdout",
     "output_type": "stream",
     "text": [
      "concurrent\n"
     ]
    },
    {
     "name": "stdout",
     "output_type": "stream",
     "text": [
      "condemnable\n"
     ]
    },
    {
     "name": "stdout",
     "output_type": "stream",
     "text": [
      "condemnation\n"
     ]
    },
    {
     "name": "stdout",
     "output_type": "stream",
     "text": [
      "condemned\n"
     ]
    },
    {
     "name": "stdout",
     "output_type": "stream",
     "text": [
      "condensation\n"
     ]
    },
    {
     "name": "stdout",
     "output_type": "stream",
     "text": [
      "condescending\n"
     ]
    },
    {
     "name": "stdout",
     "output_type": "stream",
     "text": [
      "condescension\n"
     ]
    },
    {
     "name": "stdout",
     "output_type": "stream",
     "text": [
      "condition\n"
     ]
    },
    {
     "name": "stdout",
     "output_type": "stream",
     "text": [
      "conditional\n"
     ]
    },
    {
     "name": "stdout",
     "output_type": "stream",
     "text": [
      "conditions\n"
     ]
    },
    {
     "name": "stdout",
     "output_type": "stream",
     "text": [
      "condolence\n"
     ]
    },
    {
     "name": "stdout",
     "output_type": "stream",
     "text": [
      "condoned\n"
     ]
    },
    {
     "name": "stdout",
     "output_type": "stream",
     "text": [
      "conduct\n"
     ]
    },
    {
     "name": "stdout",
     "output_type": "stream",
     "text": [
      "confessed\n"
     ]
    },
    {
     "name": "stdout",
     "output_type": "stream",
     "text": [
      "confessedly\n"
     ]
    },
    {
     "name": "stdout",
     "output_type": "stream",
     "text": [
      "confession\n"
     ]
    },
    {
     "name": "stdout",
     "output_type": "stream",
     "text": [
      "confidence\n"
     ]
    },
    {
     "name": "stdout",
     "output_type": "stream",
     "text": [
      "confident\n"
     ]
    },
    {
     "name": "stdout",
     "output_type": "stream",
     "text": [
      "confidently\n"
     ]
    },
    {
     "name": "stdout",
     "output_type": "stream",
     "text": [
      "confiding\n"
     ]
    },
    {
     "name": "stdout",
     "output_type": "stream",
     "text": [
      "confirm\n"
     ]
    },
    {
     "name": "stdout",
     "output_type": "stream",
     "text": [
      "confirmed\n"
     ]
    },
    {
     "name": "stdout",
     "output_type": "stream",
     "text": [
      "conflict\n"
     ]
    },
    {
     "name": "stdout",
     "output_type": "stream",
     "text": [
      "conflicting\n"
     ]
    },
    {
     "name": "stdout",
     "output_type": "stream",
     "text": [
      "conform\n"
     ]
    },
    {
     "name": "stdout",
     "output_type": "stream",
     "text": [
      "conformations\n"
     ]
    },
    {
     "name": "stdout",
     "output_type": "stream",
     "text": [
      "conforming\n"
     ]
    },
    {
     "name": "stdout",
     "output_type": "stream",
     "text": [
      "confounded\n"
     ]
    },
    {
     "name": "stdout",
     "output_type": "stream",
     "text": [
      "confuse\n"
     ]
    },
    {
     "name": "stdout",
     "output_type": "stream",
     "text": [
      "confused\n"
     ]
    },
    {
     "name": "stdout",
     "output_type": "stream",
     "text": [
      "confusing\n"
     ]
    },
    {
     "name": "stdout",
     "output_type": "stream",
     "text": [
      "confusion\n"
     ]
    },
    {
     "name": "stdout",
     "output_type": "stream",
     "text": [
      "congratulations\n"
     ]
    },
    {
     "name": "stdout",
     "output_type": "stream",
     "text": [
      "congruous\n"
     ]
    },
    {
     "name": "stdout",
     "output_type": "stream",
     "text": [
      "conjectural\n"
     ]
    },
    {
     "name": "stdout",
     "output_type": "stream",
     "text": [
      "conjecture\n"
     ]
    },
    {
     "name": "stdout",
     "output_type": "stream",
     "text": [
      "conjugal\n"
     ]
    },
    {
     "name": "stdout",
     "output_type": "stream",
     "text": [
      "connected\n"
     ]
    },
    {
     "name": "stdout",
     "output_type": "stream",
     "text": [
      "connection\n"
     ]
    },
    {
     "name": "stdout",
     "output_type": "stream",
     "text": [
      "connotative\n"
     ]
    },
    {
     "name": "stdout",
     "output_type": "stream",
     "text": [
      "connubial\n"
     ]
    },
    {
     "name": "stdout",
     "output_type": "stream",
     "text": [
      "conquer\n"
     ]
    },
    {
     "name": "stdout",
     "output_type": "stream",
     "text": [
      "conquered\n"
     ]
    },
    {
     "name": "stdout",
     "output_type": "stream",
     "text": [
      "conquering\n"
     ]
    },
    {
     "name": "stdout",
     "output_type": "stream",
     "text": [
      "conquest\n"
     ]
    },
    {
     "name": "stdout",
     "output_type": "stream",
     "text": [
      "consanguinity\n"
     ]
    },
    {
     "name": "stdout",
     "output_type": "stream",
     "text": [
      "conscience\n"
     ]
    },
    {
     "name": "stdout",
     "output_type": "stream",
     "text": [
      "conscientious\n"
     ]
    },
    {
     "name": "stdout",
     "output_type": "stream",
     "text": [
      "conscious\n"
     ]
    },
    {
     "name": "stdout",
     "output_type": "stream",
     "text": [
      "consciously\n"
     ]
    },
    {
     "name": "stdout",
     "output_type": "stream",
     "text": [
      "consciousness\n"
     ]
    },
    {
     "name": "stdout",
     "output_type": "stream",
     "text": [
      "consecrated\n"
     ]
    },
    {
     "name": "stdout",
     "output_type": "stream",
     "text": [
      "consent\n"
     ]
    },
    {
     "name": "stdout",
     "output_type": "stream",
     "text": [
      "consequence\n"
     ]
    },
    {
     "name": "stdout",
     "output_type": "stream",
     "text": [
      "consequent\n"
     ]
    },
    {
     "name": "stdout",
     "output_type": "stream",
     "text": [
      "conservative\n"
     ]
    },
    {
     "name": "stdout",
     "output_type": "stream",
     "text": [
      "considerate\n"
     ]
    },
    {
     "name": "stdout",
     "output_type": "stream",
     "text": [
      "consideration\n"
     ]
    },
    {
     "name": "stdout",
     "output_type": "stream",
     "text": [
      "considered\n"
     ]
    },
    {
     "name": "stdout",
     "output_type": "stream",
     "text": [
      "consistency\n"
     ]
    },
    {
     "name": "stdout",
     "output_type": "stream",
     "text": [
      "consistent\n"
     ]
    },
    {
     "name": "stdout",
     "output_type": "stream",
     "text": [
      "consolation\n"
     ]
    },
    {
     "name": "stdout",
     "output_type": "stream",
     "text": [
      "consoled\n"
     ]
    },
    {
     "name": "stdout",
     "output_type": "stream",
     "text": [
      "consoling\n"
     ]
    },
    {
     "name": "stdout",
     "output_type": "stream",
     "text": [
      "conspicuous\n"
     ]
    },
    {
     "name": "stdout",
     "output_type": "stream",
     "text": [
      "conspirator\n"
     ]
    },
    {
     "name": "stdout",
     "output_type": "stream",
     "text": [
      "conspired\n"
     ]
    },
    {
     "name": "stdout",
     "output_type": "stream",
     "text": [
      "constancy\n"
     ]
    },
    {
     "name": "stdout",
     "output_type": "stream",
     "text": [
      "constant\n"
     ]
    },
    {
     "name": "stdout",
     "output_type": "stream",
     "text": [
      "constellations\n"
     ]
    },
    {
     "name": "stdout",
     "output_type": "stream",
     "text": [
      "constituent\n"
     ]
    },
    {
     "name": "stdout",
     "output_type": "stream",
     "text": [
      "constitution\n"
     ]
    },
    {
     "name": "stdout",
     "output_type": "stream",
     "text": [
      "constitutional\n"
     ]
    },
    {
     "name": "stdout",
     "output_type": "stream",
     "text": [
      "constrained\n"
     ]
    },
    {
     "name": "stdout",
     "output_type": "stream",
     "text": [
      "constraint\n"
     ]
    },
    {
     "name": "stdout",
     "output_type": "stream",
     "text": [
      "construction\n"
     ]
    },
    {
     "name": "stdout",
     "output_type": "stream",
     "text": [
      "constructive\n"
     ]
    },
    {
     "name": "stdout",
     "output_type": "stream",
     "text": [
      "consuming\n"
     ]
    },
    {
     "name": "stdout",
     "output_type": "stream",
     "text": [
      "consummate\n"
     ]
    },
    {
     "name": "stdout",
     "output_type": "stream",
     "text": [
      "consummated\n"
     ]
    },
    {
     "name": "stdout",
     "output_type": "stream",
     "text": [
      "consummation\n"
     ]
    },
    {
     "name": "stdout",
     "output_type": "stream",
     "text": [
      "contagious\n"
     ]
    },
    {
     "name": "stdout",
     "output_type": "stream",
     "text": [
      "contaminating\n"
     ]
    },
    {
     "name": "stdout",
     "output_type": "stream",
     "text": [
      "contemn\n"
     ]
    },
    {
     "name": "stdout",
     "output_type": "stream",
     "text": [
      "contemnnice\n"
     ]
    },
    {
     "name": "stdout",
     "output_type": "stream",
     "text": [
      "contemplate\n"
     ]
    },
    {
     "name": "stdout",
     "output_type": "stream",
     "text": [
      "contemplation\n"
     ]
    },
    {
     "name": "stdout",
     "output_type": "stream",
     "text": [
      "contemplations\n"
     ]
    },
    {
     "name": "stdout",
     "output_type": "stream",
     "text": [
      "contemplative\n"
     ]
    },
    {
     "name": "stdout",
     "output_type": "stream",
     "text": [
      "contemporary\n"
     ]
    },
    {
     "name": "stdout",
     "output_type": "stream",
     "text": [
      "contempt\n"
     ]
    },
    {
     "name": "stdout",
     "output_type": "stream",
     "text": [
      "contemptible\n"
     ]
    },
    {
     "name": "stdout",
     "output_type": "stream",
     "text": [
      "contemptuous\n"
     ]
    },
    {
     "name": "stdout",
     "output_type": "stream",
     "text": [
      "content\n"
     ]
    },
    {
     "name": "stdout",
     "output_type": "stream",
     "text": [
      "contented\n"
     ]
    },
    {
     "name": "stdout",
     "output_type": "stream",
     "text": [
      "contention\n"
     ]
    },
    {
     "name": "stdout",
     "output_type": "stream",
     "text": [
      "contentment\n"
     ]
    },
    {
     "name": "stdout",
     "output_type": "stream",
     "text": [
      "contingency\n"
     ]
    },
    {
     "name": "stdout",
     "output_type": "stream",
     "text": [
      "contingent\n"
     ]
    },
    {
     "name": "stdout",
     "output_type": "stream",
     "text": [
      "continued\n"
     ]
    },
    {
     "name": "stdout",
     "output_type": "stream",
     "text": [
      "continuity\n"
     ]
    },
    {
     "name": "stdout",
     "output_type": "stream",
     "text": [
      "continuous\n"
     ]
    },
    {
     "name": "stdout",
     "output_type": "stream",
     "text": [
      "contorted\n"
     ]
    },
    {
     "name": "stdout",
     "output_type": "stream",
     "text": [
      "contortions\n"
     ]
    },
    {
     "name": "stdout",
     "output_type": "stream",
     "text": [
      "contracted\n"
     ]
    },
    {
     "name": "stdout",
     "output_type": "stream",
     "text": [
      "contracting\n"
     ]
    },
    {
     "name": "stdout",
     "output_type": "stream",
     "text": [
      "contradiction\n"
     ]
    },
    {
     "name": "stdout",
     "output_type": "stream",
     "text": [
      "contradictions\n"
     ]
    },
    {
     "name": "stdout",
     "output_type": "stream",
     "text": [
      "contradictory\n"
     ]
    },
    {
     "name": "stdout",
     "output_type": "stream",
     "text": [
      "contrary\n"
     ]
    },
    {
     "name": "stdout",
     "output_type": "stream",
     "text": [
      "contrast\n"
     ]
    },
    {
     "name": "stdout",
     "output_type": "stream",
     "text": [
      "contrasted\n"
     ]
    },
    {
     "name": "stdout",
     "output_type": "stream",
     "text": [
      "contravene\n"
     ]
    },
    {
     "name": "stdout",
     "output_type": "stream",
     "text": [
      "contrivance\n"
     ]
    },
    {
     "name": "stdout",
     "output_type": "stream",
     "text": [
      "contrive\n"
     ]
    },
    {
     "name": "stdout",
     "output_type": "stream",
     "text": [
      "contrived\n"
     ]
    },
    {
     "name": "stdout",
     "output_type": "stream",
     "text": [
      "contriving\n"
     ]
    },
    {
     "name": "stdout",
     "output_type": "stream",
     "text": [
      "control\n"
     ]
    },
    {
     "name": "stdout",
     "output_type": "stream",
     "text": [
      "controlled\n"
     ]
    },
    {
     "name": "stdout",
     "output_type": "stream",
     "text": [
      "controlling\n"
     ]
    },
    {
     "name": "stdout",
     "output_type": "stream",
     "text": [
      "controversial\n"
     ]
    },
    {
     "name": "stdout",
     "output_type": "stream",
     "text": [
      "controversies\n"
     ]
    },
    {
     "name": "stdout",
     "output_type": "stream",
     "text": [
      "controversy\n"
     ]
    },
    {
     "name": "stdout",
     "output_type": "stream",
     "text": [
      "contumelious\n"
     ]
    },
    {
     "name": "stdout",
     "output_type": "stream",
     "text": [
      "conveniences\n"
     ]
    },
    {
     "name": "stdout",
     "output_type": "stream",
     "text": [
      "convenient\n"
     ]
    },
    {
     "name": "stdout",
     "output_type": "stream",
     "text": [
      "conventional\n"
     ]
    },
    {
     "name": "stdout",
     "output_type": "stream",
     "text": [
      "conventionality\n"
     ]
    },
    {
     "name": "stdout",
     "output_type": "stream",
     "text": [
      "conversation\n"
     ]
    },
    {
     "name": "stdout",
     "output_type": "stream",
     "text": [
      "conversational\n"
     ]
    },
    {
     "name": "stdout",
     "output_type": "stream",
     "text": [
      "convert\n"
     ]
    },
    {
     "name": "stdout",
     "output_type": "stream",
     "text": [
      "conviction\n"
     ]
    },
    {
     "name": "stdout",
     "output_type": "stream",
     "text": [
      "convince\n"
     ]
    },
    {
     "name": "stdout",
     "output_type": "stream",
     "text": [
      "convincing\n"
     ]
    },
    {
     "name": "stdout",
     "output_type": "stream",
     "text": [
      "convivial\n"
     ]
    },
    {
     "name": "stdout",
     "output_type": "stream",
     "text": [
      "convulsion\n"
     ]
    },
    {
     "name": "stdout",
     "output_type": "stream",
     "text": [
      "convulsions\n"
     ]
    },
    {
     "name": "stdout",
     "output_type": "stream",
     "text": [
      "convulsive\n"
     ]
    },
    {
     "name": "stdout",
     "output_type": "stream",
     "text": [
      "cooing\n"
     ]
    },
    {
     "name": "stdout",
     "output_type": "stream",
     "text": [
      "cool\n"
     ]
    },
    {
     "name": "stdout",
     "output_type": "stream",
     "text": [
      "coolly\n"
     ]
    },
    {
     "name": "stdout",
     "output_type": "stream",
     "text": [
      "coolness\n"
     ]
    },
    {
     "name": "stdout",
     "output_type": "stream",
     "text": [
      "copious\n"
     ]
    },
    {
     "name": "stdout",
     "output_type": "stream",
     "text": [
      "copiousness\n"
     ]
    },
    {
     "name": "stdout",
     "output_type": "stream",
     "text": [
      "coquetry\n"
     ]
    },
    {
     "name": "stdout",
     "output_type": "stream",
     "text": [
      "coquette\n"
     ]
    },
    {
     "name": "stdout",
     "output_type": "stream",
     "text": [
      "coquettish\n"
     ]
    },
    {
     "name": "stdout",
     "output_type": "stream",
     "text": [
      "cordial\n"
     ]
    },
    {
     "name": "stdout",
     "output_type": "stream",
     "text": [
      "corners\n"
     ]
    },
    {
     "name": "stdout",
     "output_type": "stream",
     "text": [
      "corollary\n"
     ]
    },
    {
     "name": "stdout",
     "output_type": "stream",
     "text": [
      "corporate\n"
     ]
    },
    {
     "name": "stdout",
     "output_type": "stream",
     "text": [
      "corporeal\n"
     ]
    },
    {
     "name": "stdout",
     "output_type": "stream",
     "text": [
      "correct\n"
     ]
    },
    {
     "name": "stdout",
     "output_type": "stream",
     "text": [
      "corrected\n"
     ]
    },
    {
     "name": "stdout",
     "output_type": "stream",
     "text": [
      "correction\n"
     ]
    },
    {
     "name": "stdout",
     "output_type": "stream",
     "text": [
      "correlative\n"
     ]
    },
    {
     "name": "stdout",
     "output_type": "stream",
     "text": [
      "corresponding\n"
     ]
    },
    {
     "name": "stdout",
     "output_type": "stream",
     "text": [
      "corroborated\n"
     ]
    },
    {
     "name": "stdout",
     "output_type": "stream",
     "text": [
      "corroboration\n"
     ]
    },
    {
     "name": "stdout",
     "output_type": "stream",
     "text": [
      "corroding\n"
     ]
    },
    {
     "name": "stdout",
     "output_type": "stream",
     "text": [
      "corrosive\n"
     ]
    },
    {
     "name": "stdout",
     "output_type": "stream",
     "text": [
      "corrupt\n"
     ]
    },
    {
     "name": "stdout",
     "output_type": "stream",
     "text": [
      "corrupting\n"
     ]
    },
    {
     "name": "stdout",
     "output_type": "stream",
     "text": [
      "corruption\n"
     ]
    },
    {
     "name": "stdout",
     "output_type": "stream",
     "text": [
      "cosmical\n"
     ]
    },
    {
     "name": "stdout",
     "output_type": "stream",
     "text": [
      "cosmopolitan\n"
     ]
    },
    {
     "name": "stdout",
     "output_type": "stream",
     "text": [
      "costly\n"
     ]
    },
    {
     "name": "stdout",
     "output_type": "stream",
     "text": [
      "counselor\n"
     ]
    },
    {
     "name": "stdout",
     "output_type": "stream",
     "text": [
      "counsels\n"
     ]
    },
    {
     "name": "stdout",
     "output_type": "stream",
     "text": [
      "countenance\n"
     ]
    },
    {
     "name": "stdout",
     "output_type": "stream",
     "text": [
      "counterbalancing\n"
     ]
    },
    {
     "name": "stdout",
     "output_type": "stream",
     "text": [
      "countless\n"
     ]
    },
    {
     "name": "stdout",
     "output_type": "stream",
     "text": [
      "country\n"
     ]
    },
    {
     "name": "stdout",
     "output_type": "stream",
     "text": [
      "courage\n"
     ]
    },
    {
     "name": "stdout",
     "output_type": "stream",
     "text": [
      "courageous\n"
     ]
    },
    {
     "name": "stdout",
     "output_type": "stream",
     "text": [
      "course\n"
     ]
    },
    {
     "name": "stdout",
     "output_type": "stream",
     "text": [
      "coursing\n"
     ]
    },
    {
     "name": "stdout",
     "output_type": "stream",
     "text": [
      "courted\n"
     ]
    },
    {
     "name": "stdout",
     "output_type": "stream",
     "text": [
      "courteous\n"
     ]
    },
    {
     "name": "stdout",
     "output_type": "stream",
     "text": [
      "courtesy\n"
     ]
    },
    {
     "name": "stdout",
     "output_type": "stream",
     "text": [
      "courtly\n"
     ]
    },
    {
     "name": "stdout",
     "output_type": "stream",
     "text": [
      "covert\n"
     ]
    },
    {
     "name": "stdout",
     "output_type": "stream",
     "text": [
      "coveted\n"
     ]
    },
    {
     "name": "stdout",
     "output_type": "stream",
     "text": [
      "covetousness\n"
     ]
    },
    {
     "name": "stdout",
     "output_type": "stream",
     "text": [
      "cowardice\n"
     ]
    },
    {
     "name": "stdout",
     "output_type": "stream",
     "text": [
      "cowardly\n"
     ]
    },
    {
     "name": "stdout",
     "output_type": "stream",
     "text": [
      "cowards\n"
     ]
    },
    {
     "name": "stdout",
     "output_type": "stream",
     "text": [
      "cowering\n"
     ]
    },
    {
     "name": "stdout",
     "output_type": "stream",
     "text": [
      "coxcomb\n"
     ]
    },
    {
     "name": "stdout",
     "output_type": "stream",
     "text": [
      "coy\n"
     ]
    },
    {
     "name": "stdout",
     "output_type": "stream",
     "text": [
      "coyness\n"
     ]
    },
    {
     "name": "stdout",
     "output_type": "stream",
     "text": [
      "crabbedness\n"
     ]
    },
    {
     "name": "stdout",
     "output_type": "stream",
     "text": [
      "crackling\n"
     ]
    },
    {
     "name": "stdout",
     "output_type": "stream",
     "text": [
      "craft\n"
     ]
    },
    {
     "name": "stdout",
     "output_type": "stream",
     "text": [
      "crafty\n"
     ]
    },
    {
     "name": "stdout",
     "output_type": "stream",
     "text": [
      "craggy\n"
     ]
    },
    {
     "name": "stdout",
     "output_type": "stream",
     "text": [
      "cramped\n"
     ]
    },
    {
     "name": "stdout",
     "output_type": "stream",
     "text": [
      "cranks\n"
     ]
    },
    {
     "name": "stdout",
     "output_type": "stream",
     "text": [
      "crash\n"
     ]
    },
    {
     "name": "stdout",
     "output_type": "stream",
     "text": [
      "crass\n"
     ]
    },
    {
     "name": "stdout",
     "output_type": "stream",
     "text": [
      "craven\n"
     ]
    },
    {
     "name": "stdout",
     "output_type": "stream",
     "text": [
      "craving\n"
     ]
    },
    {
     "name": "stdout",
     "output_type": "stream",
     "text": [
      "crawling\n"
     ]
    },
    {
     "name": "stdout",
     "output_type": "stream",
     "text": [
      "crazy\n"
     ]
    },
    {
     "name": "stdout",
     "output_type": "stream",
     "text": [
      "creation\n"
     ]
    },
    {
     "name": "stdout",
     "output_type": "stream",
     "text": [
      "creative\n"
     ]
    },
    {
     "name": "stdout",
     "output_type": "stream",
     "text": [
      "creature\n"
     ]
    },
    {
     "name": "stdout",
     "output_type": "stream",
     "text": [
      "credible\n"
     ]
    },
    {
     "name": "stdout",
     "output_type": "stream",
     "text": [
      "credibly\n"
     ]
    },
    {
     "name": "stdout",
     "output_type": "stream",
     "text": [
      "creditable\n"
     ]
    },
    {
     "name": "stdout",
     "output_type": "stream",
     "text": [
      "credulity\n"
     ]
    },
    {
     "name": "stdout",
     "output_type": "stream",
     "text": [
      "credulous\n"
     ]
    },
    {
     "name": "stdout",
     "output_type": "stream",
     "text": [
      "creed\n"
     ]
    },
    {
     "name": "stdout",
     "output_type": "stream",
     "text": [
      "creeds\n"
     ]
    },
    {
     "name": "stdout",
     "output_type": "stream",
     "text": [
      "creeping\n"
     ]
    },
    {
     "name": "stdout",
     "output_type": "stream",
     "text": [
      "cries\n"
     ]
    },
    {
     "name": "stdout",
     "output_type": "stream",
     "text": [
      "crime\n"
     ]
    },
    {
     "name": "stdout",
     "output_type": "stream",
     "text": [
      "crimes\n"
     ]
    },
    {
     "name": "stdout",
     "output_type": "stream",
     "text": [
      "criminal\n"
     ]
    },
    {
     "name": "stdout",
     "output_type": "stream",
     "text": [
      "cringing\n"
     ]
    },
    {
     "name": "stdout",
     "output_type": "stream",
     "text": [
      "crippled\n"
     ]
    },
    {
     "name": "stdout",
     "output_type": "stream",
     "text": [
      "crises\n"
     ]
    },
    {
     "name": "stdout",
     "output_type": "stream",
     "text": [
      "crisisneglect\n"
     ]
    },
    {
     "name": "stdout",
     "output_type": "stream",
     "text": [
      "crisp\n"
     ]
    },
    {
     "name": "stdout",
     "output_type": "stream",
     "text": [
      "critic\n"
     ]
    },
    {
     "name": "stdout",
     "output_type": "stream",
     "text": [
      "critical\n"
     ]
    },
    {
     "name": "stdout",
     "output_type": "stream",
     "text": [
      "criticism\n"
     ]
    },
    {
     "name": "stdout",
     "output_type": "stream",
     "text": [
      "criticisms\n"
     ]
    },
    {
     "name": "stdout",
     "output_type": "stream",
     "text": [
      "criticize\n"
     ]
    },
    {
     "name": "stdout",
     "output_type": "stream",
     "text": [
      "crouching\n"
     ]
    },
    {
     "name": "stdout",
     "output_type": "stream",
     "text": [
      "crowded\n"
     ]
    },
    {
     "name": "stdout",
     "output_type": "stream",
     "text": [
      "crowned\n"
     ]
    },
    {
     "name": "stdout",
     "output_type": "stream",
     "text": [
      "crowning\n"
     ]
    },
    {
     "name": "stdout",
     "output_type": "stream",
     "text": [
      "crucial\n"
     ]
    },
    {
     "name": "stdout",
     "output_type": "stream",
     "text": [
      "crucifying\n"
     ]
    },
    {
     "name": "stdout",
     "output_type": "stream",
     "text": [
      "crude\n"
     ]
    },
    {
     "name": "stdout",
     "output_type": "stream",
     "text": [
      "crudity\n"
     ]
    },
    {
     "name": "stdout",
     "output_type": "stream",
     "text": [
      "cruel\n"
     ]
    },
    {
     "name": "stdout",
     "output_type": "stream",
     "text": [
      "cruelty\n"
     ]
    },
    {
     "name": "stdout",
     "output_type": "stream",
     "text": [
      "crumbling\n"
     ]
    },
    {
     "name": "stdout",
     "output_type": "stream",
     "text": [
      "crunching\n"
     ]
    },
    {
     "name": "stdout",
     "output_type": "stream",
     "text": [
      "crusader\n"
     ]
    },
    {
     "name": "stdout",
     "output_type": "stream",
     "text": [
      "crushed\n"
     ]
    },
    {
     "name": "stdout",
     "output_type": "stream",
     "text": [
      "crushing\n"
     ]
    },
    {
     "name": "stdout",
     "output_type": "stream",
     "text": [
      "cryptic\n"
     ]
    },
    {
     "name": "stdout",
     "output_type": "stream",
     "text": [
      "crystal\n"
     ]
    },
    {
     "name": "stdout",
     "output_type": "stream",
     "text": [
      "crystalline\n"
     ]
    },
    {
     "name": "stdout",
     "output_type": "stream",
     "text": [
      "crystallized\n"
     ]
    },
    {
     "name": "stdout",
     "output_type": "stream",
     "text": [
      "cudgeling\n"
     ]
    },
    {
     "name": "stdout",
     "output_type": "stream",
     "text": [
      "culinary\n"
     ]
    },
    {
     "name": "stdout",
     "output_type": "stream",
     "text": [
      "culminating\n"
     ]
    },
    {
     "name": "stdout",
     "output_type": "stream",
     "text": [
      "culpable\n"
     ]
    },
    {
     "name": "stdout",
     "output_type": "stream",
     "text": [
      "culprit\n"
     ]
    },
    {
     "name": "stdout",
     "output_type": "stream",
     "text": [
      "cultivated\n"
     ]
    },
    {
     "name": "stdout",
     "output_type": "stream",
     "text": [
      "cultivation\n"
     ]
    },
    {
     "name": "stdout",
     "output_type": "stream",
     "text": [
      "culture\n"
     ]
    },
    {
     "name": "stdout",
     "output_type": "stream",
     "text": [
      "cultured\n"
     ]
    },
    {
     "name": "stdout",
     "output_type": "stream",
     "text": [
      "cumbersome\n"
     ]
    },
    {
     "name": "stdout",
     "output_type": "stream",
     "text": [
      "cumbrous\n"
     ]
    },
    {
     "name": "stdout",
     "output_type": "stream",
     "text": [
      "cumulative\n"
     ]
    },
    {
     "name": "stdout",
     "output_type": "stream",
     "text": [
      "cunning\n"
     ]
    },
    {
     "name": "stdout",
     "output_type": "stream",
     "text": [
      "cunningly\n"
     ]
    },
    {
     "name": "stdout",
     "output_type": "stream",
     "text": [
      "cup\n"
     ]
    },
    {
     "name": "stdout",
     "output_type": "stream",
     "text": [
      "cupidity\n"
     ]
    },
    {
     "name": "stdout",
     "output_type": "stream",
     "text": [
      "curb\n"
     ]
    },
    {
     "name": "stdout",
     "output_type": "stream",
     "text": [
      "curbed\n"
     ]
    },
    {
     "name": "stdout",
     "output_type": "stream",
     "text": [
      "curiosity\n"
     ]
    },
    {
     "name": "stdout",
     "output_type": "stream",
     "text": [
      "curious\n"
     ]
    },
    {
     "name": "stdout",
     "output_type": "stream",
     "text": [
      "current\n"
     ]
    },
    {
     "name": "stdout",
     "output_type": "stream",
     "text": [
      "curry\n"
     ]
    },
    {
     "name": "stdout",
     "output_type": "stream",
     "text": [
      "cursed\n"
     ]
    },
    {
     "name": "stdout",
     "output_type": "stream",
     "text": [
      "curses\n"
     ]
    },
    {
     "name": "stdout",
     "output_type": "stream",
     "text": [
      "cursory\n"
     ]
    },
    {
     "name": "stdout",
     "output_type": "stream",
     "text": [
      "curt\n"
     ]
    },
    {
     "name": "stdout",
     "output_type": "stream",
     "text": [
      "curtained\n"
     ]
    },
    {
     "name": "stdout",
     "output_type": "stream",
     "text": [
      "curved\n"
     ]
    },
    {
     "name": "stdout",
     "output_type": "stream",
     "text": [
      "curves\n"
     ]
    },
    {
     "name": "stdout",
     "output_type": "stream",
     "text": [
      "custom\n"
     ]
    },
    {
     "name": "stdout",
     "output_type": "stream",
     "text": [
      "customs\n"
     ]
    },
    {
     "name": "stdout",
     "output_type": "stream",
     "text": [
      "cutting\n"
     ]
    },
    {
     "name": "stdout",
     "output_type": "stream",
     "text": [
      "cycloramic\n"
     ]
    },
    {
     "name": "stdout",
     "output_type": "stream",
     "text": [
      "cymbal\n"
     ]
    },
    {
     "name": "stdout",
     "output_type": "stream",
     "text": [
      "cynical\n"
     ]
    },
    {
     "name": "stdout",
     "output_type": "stream",
     "text": [
      "cynicism\n"
     ]
    },
    {
     "name": "stdout",
     "output_type": "stream",
     "text": [
      "daintiness\n"
     ]
    },
    {
     "name": "stdout",
     "output_type": "stream",
     "text": [
      "dainty\n"
     ]
    },
    {
     "name": "stdout",
     "output_type": "stream",
     "text": [
      "damage\n"
     ]
    },
    {
     "name": "stdout",
     "output_type": "stream",
     "text": [
      "damaging\n"
     ]
    },
    {
     "name": "stdout",
     "output_type": "stream",
     "text": [
      "damask\n"
     ]
    },
    {
     "name": "stdout",
     "output_type": "stream",
     "text": [
      "dampened\n"
     ]
    },
    {
     "name": "stdout",
     "output_type": "stream",
     "text": [
      "dampness\n"
     ]
    },
    {
     "name": "stdout",
     "output_type": "stream",
     "text": [
      "dancing\n"
     ]
    },
    {
     "name": "stdout",
     "output_type": "stream",
     "text": [
      "danger\n"
     ]
    },
    {
     "name": "stdout",
     "output_type": "stream",
     "text": [
      "dangerous\n"
     ]
    },
    {
     "name": "stdout",
     "output_type": "stream",
     "text": [
      "dangers\n"
     ]
    },
    {
     "name": "stdout",
     "output_type": "stream",
     "text": [
      "dappled\n"
     ]
    },
    {
     "name": "stdout",
     "output_type": "stream",
     "text": [
      "daring\n"
     ]
    },
    {
     "name": "stdout",
     "output_type": "stream",
     "text": [
      "dark\n"
     ]
    },
    {
     "name": "stdout",
     "output_type": "stream",
     "text": [
      "darkness\n"
     ]
    },
    {
     "name": "stdout",
     "output_type": "stream",
     "text": [
      "darling\n"
     ]
    },
    {
     "name": "stdout",
     "output_type": "stream",
     "text": [
      "dart\n"
     ]
    },
    {
     "name": "stdout",
     "output_type": "stream",
     "text": [
      "dash\n"
     ]
    },
    {
     "name": "stdout",
     "output_type": "stream",
     "text": [
      "dashing\n"
     ]
    },
    {
     "name": "stdout",
     "output_type": "stream",
     "text": [
      "dastardly\n"
     ]
    },
    {
     "name": "stdout",
     "output_type": "stream",
     "text": [
      "data\n"
     ]
    },
    {
     "name": "stdout",
     "output_type": "stream",
     "text": [
      "dates\n"
     ]
    },
    {
     "name": "stdout",
     "output_type": "stream",
     "text": [
      "dauntless\n"
     ]
    },
    {
     "name": "stdout",
     "output_type": "stream",
     "text": [
      "dawn\n"
     ]
    },
    {
     "name": "stdout",
     "output_type": "stream",
     "text": [
      "dawning\n"
     ]
    },
    {
     "name": "stdout",
     "output_type": "stream",
     "text": [
      "daybeams\n"
     ]
    },
    {
     "name": "stdout",
     "output_type": "stream",
     "text": [
      "days\n"
     ]
    },
    {
     "name": "stdout",
     "output_type": "stream",
     "text": [
      "dazed\n"
     ]
    },
    {
     "name": "stdout",
     "output_type": "stream",
     "text": [
      "dazzle\n"
     ]
    },
    {
     "name": "stdout",
     "output_type": "stream",
     "text": [
      "dazzled\n"
     ]
    },
    {
     "name": "stdout",
     "output_type": "stream",
     "text": [
      "dazzlement\n"
     ]
    },
    {
     "name": "stdout",
     "output_type": "stream",
     "text": [
      "dazzling\n"
     ]
    },
    {
     "name": "stdout",
     "output_type": "stream",
     "text": [
      "dead\n"
     ]
    },
    {
     "name": "stdout",
     "output_type": "stream",
     "text": [
      "deadly\n"
     ]
    },
    {
     "name": "stdout",
     "output_type": "stream",
     "text": [
      "deaf\n"
     ]
    },
    {
     "name": "stdout",
     "output_type": "stream",
     "text": [
      "death\n"
     ]
    },
    {
     "name": "stdout",
     "output_type": "stream",
     "text": [
      "deathless\n"
     ]
    },
    {
     "name": "stdout",
     "output_type": "stream",
     "text": [
      "debase\n"
     ]
    },
    {
     "name": "stdout",
     "output_type": "stream",
     "text": [
      "debased\n"
     ]
    },
    {
     "name": "stdout",
     "output_type": "stream",
     "text": [
      "debasing\n"
     ]
    },
    {
     "name": "stdout",
     "output_type": "stream",
     "text": [
      "debatable\n"
     ]
    },
    {
     "name": "stdout",
     "output_type": "stream",
     "text": [
      "debated\n"
     ]
    },
    {
     "name": "stdout",
     "output_type": "stream",
     "text": [
      "debilitating\n"
     ]
    },
    {
     "name": "stdout",
     "output_type": "stream",
     "text": [
      "decadent\n"
     ]
    },
    {
     "name": "stdout",
     "output_type": "stream",
     "text": [
      "decay\n"
     ]
    },
    {
     "name": "stdout",
     "output_type": "stream",
     "text": [
      "deceit\n"
     ]
    },
    {
     "name": "stdout",
     "output_type": "stream",
     "text": [
      "deceitful\n"
     ]
    },
    {
     "name": "stdout",
     "output_type": "stream",
     "text": [
      "deceiving\n"
     ]
    },
    {
     "name": "stdout",
     "output_type": "stream",
     "text": [
      "decencies\n"
     ]
    },
    {
     "name": "stdout",
     "output_type": "stream",
     "text": [
      "decent\n"
     ]
    },
    {
     "name": "stdout",
     "output_type": "stream",
     "text": [
      "deception\n"
     ]
    },
    {
     "name": "stdout",
     "output_type": "stream",
     "text": [
      "decide\n"
     ]
    },
    {
     "name": "stdout",
     "output_type": "stream",
     "text": [
      "decided\n"
     ]
    },
    {
     "name": "stdout",
     "output_type": "stream",
     "text": [
      "decisions\n"
     ]
    },
    {
     "name": "stdout",
     "output_type": "stream",
     "text": [
      "decisive\n"
     ]
    },
    {
     "name": "stdout",
     "output_type": "stream",
     "text": [
      "declamation\n"
     ]
    },
    {
     "name": "stdout",
     "output_type": "stream",
     "text": [
      "declamatory\n"
     ]
    },
    {
     "name": "stdout",
     "output_type": "stream",
     "text": [
      "declared\n"
     ]
    },
    {
     "name": "stdout",
     "output_type": "stream",
     "text": [
      "decline\n"
     ]
    },
    {
     "name": "stdout",
     "output_type": "stream",
     "text": [
      "decorate\n"
     ]
    },
    {
     "name": "stdout",
     "output_type": "stream",
     "text": [
      "decorated\n"
     ]
    },
    {
     "name": "stdout",
     "output_type": "stream",
     "text": [
      "decorations\n"
     ]
    },
    {
     "name": "stdout",
     "output_type": "stream",
     "text": [
      "decorous\n"
     ]
    },
    {
     "name": "stdout",
     "output_type": "stream",
     "text": [
      "decorously\n"
     ]
    },
    {
     "name": "stdout",
     "output_type": "stream",
     "text": [
      "decorousness\n"
     ]
    },
    {
     "name": "stdout",
     "output_type": "stream",
     "text": [
      "decorum\n"
     ]
    },
    {
     "name": "stdout",
     "output_type": "stream",
     "text": [
      "decree\n"
     ]
    },
    {
     "name": "stdout",
     "output_type": "stream",
     "text": [
      "decrepit\n"
     ]
    },
    {
     "name": "stdout",
     "output_type": "stream",
     "text": [
      "decry\n"
     ]
    },
    {
     "name": "stdout",
     "output_type": "stream",
     "text": [
      "deductions\n"
     ]
    },
    {
     "name": "stdout",
     "output_type": "stream",
     "text": [
      "deep\n"
     ]
    },
    {
     "name": "stdout",
     "output_type": "stream",
     "text": [
      "deep-seated\n"
     ]
    },
    {
     "name": "stdout",
     "output_type": "stream",
     "text": [
      "deep-toned\n"
     ]
    },
    {
     "name": "stdout",
     "output_type": "stream",
     "text": [
      "deepening\n"
     ]
    },
    {
     "name": "stdout",
     "output_type": "stream",
     "text": [
      "deface\n"
     ]
    },
    {
     "name": "stdout",
     "output_type": "stream",
     "text": [
      "defame\n"
     ]
    },
    {
     "name": "stdout",
     "output_type": "stream",
     "text": [
      "defeat\n"
     ]
    },
    {
     "name": "stdout",
     "output_type": "stream",
     "text": [
      "defeated\n"
     ]
    },
    {
     "name": "stdout",
     "output_type": "stream",
     "text": [
      "defeats\n"
     ]
    },
    {
     "name": "stdout",
     "output_type": "stream",
     "text": [
      "defective\n"
     ]
    },
    {
     "name": "stdout",
     "output_type": "stream",
     "text": [
      "defender\n"
     ]
    },
    {
     "name": "stdout",
     "output_type": "stream",
     "text": [
      "defense\n"
     ]
    },
    {
     "name": "stdout",
     "output_type": "stream",
     "text": [
      "defenseless\n"
     ]
    },
    {
     "name": "stdout",
     "output_type": "stream",
     "text": [
      "defensive\n"
     ]
    },
    {
     "name": "stdout",
     "output_type": "stream",
     "text": [
      "deference\n"
     ]
    },
    {
     "name": "stdout",
     "output_type": "stream",
     "text": [
      "deferential\n"
     ]
    },
    {
     "name": "stdout",
     "output_type": "stream",
     "text": [
      "defiance\n"
     ]
    },
    {
     "name": "stdout",
     "output_type": "stream",
     "text": [
      "defiant\n"
     ]
    },
    {
     "name": "stdout",
     "output_type": "stream",
     "text": [
      "deficient\n"
     ]
    },
    {
     "name": "stdout",
     "output_type": "stream",
     "text": [
      "define\n"
     ]
    },
    {
     "name": "stdout",
     "output_type": "stream",
     "text": [
      "definite\n"
     ]
    },
    {
     "name": "stdout",
     "output_type": "stream",
     "text": [
      "deformed\n"
     ]
    },
    {
     "name": "stdout",
     "output_type": "stream",
     "text": [
      "deformities\n"
     ]
    },
    {
     "name": "stdout",
     "output_type": "stream",
     "text": [
      "deformity\n"
     ]
    },
    {
     "name": "stdout",
     "output_type": "stream",
     "text": [
      "deft\n"
     ]
    },
    {
     "name": "stdout",
     "output_type": "stream",
     "text": [
      "deft-fingered\n"
     ]
    },
    {
     "name": "stdout",
     "output_type": "stream",
     "text": [
      "deftness\n"
     ]
    },
    {
     "name": "stdout",
     "output_type": "stream",
     "text": [
      "degradation\n"
     ]
    },
    {
     "name": "stdout",
     "output_type": "stream",
     "text": [
      "degrade\n"
     ]
    },
    {
     "name": "stdout",
     "output_type": "stream",
     "text": [
      "degraded\n"
     ]
    },
    {
     "name": "stdout",
     "output_type": "stream",
     "text": [
      "degrading\n"
     ]
    },
    {
     "name": "stdout",
     "output_type": "stream",
     "text": [
      "dejected\n"
     ]
    },
    {
     "name": "stdout",
     "output_type": "stream",
     "text": [
      "dejection\n"
     ]
    },
    {
     "name": "stdout",
     "output_type": "stream",
     "text": [
      "delays\n"
     ]
    },
    {
     "name": "stdout",
     "output_type": "stream",
     "text": [
      "delectable\n"
     ]
    },
    {
     "name": "stdout",
     "output_type": "stream",
     "text": [
      "delegated\n"
     ]
    },
    {
     "name": "stdout",
     "output_type": "stream",
     "text": [
      "deleterious\n"
     ]
    },
    {
     "name": "stdout",
     "output_type": "stream",
     "text": [
      "deliberate\n"
     ]
    },
    {
     "name": "stdout",
     "output_type": "stream",
     "text": [
      "deliberately\n"
     ]
    },
    {
     "name": "stdout",
     "output_type": "stream",
     "text": [
      "delicacy\n"
     ]
    },
    {
     "name": "stdout",
     "output_type": "stream",
     "text": [
      "delicate\n"
     ]
    },
    {
     "name": "stdout",
     "output_type": "stream",
     "text": [
      "delicious\n"
     ]
    },
    {
     "name": "stdout",
     "output_type": "stream",
     "text": [
      "delight\n"
     ]
    },
    {
     "name": "stdout",
     "output_type": "stream",
     "text": [
      "delighted\n"
     ]
    },
    {
     "name": "stdout",
     "output_type": "stream",
     "text": [
      "delightful\n"
     ]
    },
    {
     "name": "stdout",
     "output_type": "stream",
     "text": [
      "delights\n"
     ]
    },
    {
     "name": "stdout",
     "output_type": "stream",
     "text": [
      "delineate\n"
     ]
    },
    {
     "name": "stdout",
     "output_type": "stream",
     "text": [
      "delinquencies\n"
     ]
    },
    {
     "name": "stdout",
     "output_type": "stream",
     "text": [
      "delirious\n"
     ]
    },
    {
     "name": "stdout",
     "output_type": "stream",
     "text": [
      "delivery\n"
     ]
    },
    {
     "name": "stdout",
     "output_type": "stream",
     "text": [
      "delusion\n"
     ]
    },
    {
     "name": "stdout",
     "output_type": "stream",
     "text": [
      "delusions\n"
     ]
    },
    {
     "name": "stdout",
     "output_type": "stream",
     "text": [
      "delusive\n"
     ]
    },
    {
     "name": "stdout",
     "output_type": "stream",
     "text": [
      "demagogic\n"
     ]
    },
    {
     "name": "stdout",
     "output_type": "stream",
     "text": [
      "demagogues\n"
     ]
    },
    {
     "name": "stdout",
     "output_type": "stream",
     "text": [
      "demands\n"
     ]
    },
    {
     "name": "stdout",
     "output_type": "stream",
     "text": [
      "demarcations\n"
     ]
    },
    {
     "name": "stdout",
     "output_type": "stream",
     "text": [
      "demeanor\n"
     ]
    },
    {
     "name": "stdout",
     "output_type": "stream",
     "text": [
      "democracy\n"
     ]
    },
    {
     "name": "stdout",
     "output_type": "stream",
     "text": [
      "democratic\n"
     ]
    },
    {
     "name": "stdout",
     "output_type": "stream",
     "text": [
      "demolish\n"
     ]
    },
    {
     "name": "stdout",
     "output_type": "stream",
     "text": [
      "demoniacal\n"
     ]
    },
    {
     "name": "stdout",
     "output_type": "stream",
     "text": [
      "demonstrable\n"
     ]
    },
    {
     "name": "stdout",
     "output_type": "stream",
     "text": [
      "demonstrative\n"
     ]
    },
    {
     "name": "stdout",
     "output_type": "stream",
     "text": [
      "demonstrativeunhappy\n"
     ]
    },
    {
     "name": "stdout",
     "output_type": "stream",
     "text": [
      "demoralized\n"
     ]
    },
    {
     "name": "stdout",
     "output_type": "stream",
     "text": [
      "demoralizing\n"
     ]
    },
    {
     "name": "stdout",
     "output_type": "stream",
     "text": [
      "demure\n"
     ]
    },
    {
     "name": "stdout",
     "output_type": "stream",
     "text": [
      "denial\n"
     ]
    },
    {
     "name": "stdout",
     "output_type": "stream",
     "text": [
      "denials\n"
     ]
    },
    {
     "name": "stdout",
     "output_type": "stream",
     "text": [
      "denizens\n"
     ]
    },
    {
     "name": "stdout",
     "output_type": "stream",
     "text": [
      "denounced\n"
     ]
    },
    {
     "name": "stdout",
     "output_type": "stream",
     "text": [
      "dense\n"
     ]
    },
    {
     "name": "stdout",
     "output_type": "stream",
     "text": [
      "denunciation\n"
     ]
    },
    {
     "name": "stdout",
     "output_type": "stream",
     "text": [
      "denunciations\n"
     ]
    },
    {
     "name": "stdout",
     "output_type": "stream",
     "text": [
      "denunciatory\n"
     ]
    },
    {
     "name": "stdout",
     "output_type": "stream",
     "text": [
      "deny\n"
     ]
    },
    {
     "name": "stdout",
     "output_type": "stream",
     "text": [
      "departed\n"
     ]
    },
    {
     "name": "stdout",
     "output_type": "stream",
     "text": [
      "dependable\n"
     ]
    },
    {
     "name": "stdout",
     "output_type": "stream",
     "text": [
      "dependence\n"
     ]
    },
    {
     "name": "stdout",
     "output_type": "stream",
     "text": [
      "dependent\n"
     ]
    },
    {
     "name": "stdout",
     "output_type": "stream",
     "text": [
      "depict\n"
     ]
    },
    {
     "name": "stdout",
     "output_type": "stream",
     "text": [
      "deplorable\n"
     ]
    },
    {
     "name": "stdout",
     "output_type": "stream",
     "text": [
      "deportment\n"
     ]
    },
    {
     "name": "stdout",
     "output_type": "stream",
     "text": [
      "depraved\n"
     ]
    },
    {
     "name": "stdout",
     "output_type": "stream",
     "text": [
      "depravity\n"
     ]
    },
    {
     "name": "stdout",
     "output_type": "stream",
     "text": [
      "deprecatory\n"
     ]
    },
    {
     "name": "stdout",
     "output_type": "stream",
     "text": [
      "depreciation\n"
     ]
    },
    {
     "name": "stdout",
     "output_type": "stream",
     "text": [
      "depressed\n"
     ]
    },
    {
     "name": "stdout",
     "output_type": "stream",
     "text": [
      "depressing\n"
     ]
    },
    {
     "name": "stdout",
     "output_type": "stream",
     "text": [
      "depression\n"
     ]
    },
    {
     "name": "stdout",
     "output_type": "stream",
     "text": [
      "deprivation\n"
     ]
    },
    {
     "name": "stdout",
     "output_type": "stream",
     "text": [
      "deprive\n"
     ]
    },
    {
     "name": "stdout",
     "output_type": "stream",
     "text": [
      "depth\n"
     ]
    },
    {
     "name": "stdout",
     "output_type": "stream",
     "text": [
      "depthless\n"
     ]
    },
    {
     "name": "stdout",
     "output_type": "stream",
     "text": [
      "depths\n"
     ]
    },
    {
     "name": "stdout",
     "output_type": "stream",
     "text": [
      "derelict\n"
     ]
    },
    {
     "name": "stdout",
     "output_type": "stream",
     "text": [
      "derision\n"
     ]
    },
    {
     "name": "stdout",
     "output_type": "stream",
     "text": [
      "derisive\n"
     ]
    },
    {
     "name": "stdout",
     "output_type": "stream",
     "text": [
      "derogatory\n"
     ]
    },
    {
     "name": "stdout",
     "output_type": "stream",
     "text": [
      "describe\n"
     ]
    },
    {
     "name": "stdout",
     "output_type": "stream",
     "text": [
      "described\n"
     ]
    },
    {
     "name": "stdout",
     "output_type": "stream",
     "text": [
      "description\n"
     ]
    },
    {
     "name": "stdout",
     "output_type": "stream",
     "text": [
      "descriptive\n"
     ]
    },
    {
     "name": "stdout",
     "output_type": "stream",
     "text": [
      "desecrated\n"
     ]
    },
    {
     "name": "stdout",
     "output_type": "stream",
     "text": [
      "desecrater\n"
     ]
    },
    {
     "name": "stdout",
     "output_type": "stream",
     "text": [
      "desecration\n"
     ]
    },
    {
     "name": "stdout",
     "output_type": "stream",
     "text": [
      "desert\n"
     ]
    },
    {
     "name": "stdout",
     "output_type": "stream",
     "text": [
      "deserted\n"
     ]
    },
    {
     "name": "stdout",
     "output_type": "stream",
     "text": [
      "desertion\n"
     ]
    },
    {
     "name": "stdout",
     "output_type": "stream",
     "text": [
      "deserved\n"
     ]
    },
    {
     "name": "stdout",
     "output_type": "stream",
     "text": [
      "deserving\n"
     ]
    },
    {
     "name": "stdout",
     "output_type": "stream",
     "text": [
      "desideratum\n"
     ]
    },
    {
     "name": "stdout",
     "output_type": "stream",
     "text": [
      "design\n"
     ]
    },
    {
     "name": "stdout",
     "output_type": "stream",
     "text": [
      "designated\n"
     ]
    },
    {
     "name": "stdout",
     "output_type": "stream",
     "text": [
      "designation\n"
     ]
    },
    {
     "name": "stdout",
     "output_type": "stream",
     "text": [
      "designed\n"
     ]
    },
    {
     "name": "stdout",
     "output_type": "stream",
     "text": [
      "designing\n"
     ]
    },
    {
     "name": "stdout",
     "output_type": "stream",
     "text": [
      "designs\n"
     ]
    },
    {
     "name": "stdout",
     "output_type": "stream",
     "text": [
      "desirable\n"
     ]
    },
    {
     "name": "stdout",
     "output_type": "stream",
     "text": [
      "desire\n"
     ]
    },
    {
     "name": "stdout",
     "output_type": "stream",
     "text": [
      "desires\n"
     ]
    },
    {
     "name": "stdout",
     "output_type": "stream",
     "text": [
      "desolate\n"
     ]
    },
    {
     "name": "stdout",
     "output_type": "stream",
     "text": [
      "desolated\n"
     ]
    },
    {
     "name": "stdout",
     "output_type": "stream",
     "text": [
      "desolating\n"
     ]
    },
    {
     "name": "stdout",
     "output_type": "stream",
     "text": [
      "desolation\n"
     ]
    },
    {
     "name": "stdout",
     "output_type": "stream",
     "text": [
      "despair\n"
     ]
    },
    {
     "name": "stdout",
     "output_type": "stream",
     "text": [
      "despairing\n"
     ]
    },
    {
     "name": "stdout",
     "output_type": "stream",
     "text": [
      "despatch\n"
     ]
    },
    {
     "name": "stdout",
     "output_type": "stream",
     "text": [
      "desperate\n"
     ]
    },
    {
     "name": "stdout",
     "output_type": "stream",
     "text": [
      "desperation\n"
     ]
    },
    {
     "name": "stdout",
     "output_type": "stream",
     "text": [
      "despicable\n"
     ]
    },
    {
     "name": "stdout",
     "output_type": "stream",
     "text": [
      "despise\n"
     ]
    },
    {
     "name": "stdout",
     "output_type": "stream",
     "text": [
      "despised\n"
     ]
    },
    {
     "name": "stdout",
     "output_type": "stream",
     "text": [
      "despoil\n"
     ]
    },
    {
     "name": "stdout",
     "output_type": "stream",
     "text": [
      "despoiled\n"
     ]
    },
    {
     "name": "stdout",
     "output_type": "stream",
     "text": [
      "despondency\n"
     ]
    },
    {
     "name": "stdout",
     "output_type": "stream",
     "text": [
      "despondent\n"
     ]
    },
    {
     "name": "stdout",
     "output_type": "stream",
     "text": [
      "despotic\n"
     ]
    },
    {
     "name": "stdout",
     "output_type": "stream",
     "text": [
      "despotism\n"
     ]
    },
    {
     "name": "stdout",
     "output_type": "stream",
     "text": [
      "destiny\n"
     ]
    },
    {
     "name": "stdout",
     "output_type": "stream",
     "text": [
      "destitute\n"
     ]
    },
    {
     "name": "stdout",
     "output_type": "stream",
     "text": [
      "destitution\n"
     ]
    },
    {
     "name": "stdout",
     "output_type": "stream",
     "text": [
      "destroy\n"
     ]
    },
    {
     "name": "stdout",
     "output_type": "stream",
     "text": [
      "destroyed\n"
     ]
    },
    {
     "name": "stdout",
     "output_type": "stream",
     "text": [
      "destruction\n"
     ]
    },
    {
     "name": "stdout",
     "output_type": "stream",
     "text": [
      "destructive\n"
     ]
    },
    {
     "name": "stdout",
     "output_type": "stream",
     "text": [
      "desuetude\n"
     ]
    },
    {
     "name": "stdout",
     "output_type": "stream",
     "text": [
      "desultory\n"
     ]
    },
    {
     "name": "stdout",
     "output_type": "stream",
     "text": [
      "desultoryhealed\n"
     ]
    },
    {
     "name": "stdout",
     "output_type": "stream",
     "text": [
      "detached\n"
     ]
    },
    {
     "name": "stdout",
     "output_type": "stream",
     "text": [
      "detailed\n"
     ]
    },
    {
     "name": "stdout",
     "output_type": "stream",
     "text": [
      "details\n"
     ]
    },
    {
     "name": "stdout",
     "output_type": "stream",
     "text": [
      "detected\n"
     ]
    },
    {
     "name": "stdout",
     "output_type": "stream",
     "text": [
      "deteriorating\n"
     ]
    },
    {
     "name": "stdout",
     "output_type": "stream",
     "text": [
      "deterioration\n"
     ]
    },
    {
     "name": "stdout",
     "output_type": "stream",
     "text": [
      "determinate\n"
     ]
    },
    {
     "name": "stdout",
     "output_type": "stream",
     "text": [
      "determination\n"
     ]
    },
    {
     "name": "stdout",
     "output_type": "stream",
     "text": [
      "determine\n"
     ]
    },
    {
     "name": "stdout",
     "output_type": "stream",
     "text": [
      "determined\n"
     ]
    },
    {
     "name": "stdout",
     "output_type": "stream",
     "text": [
      "detestable\n"
     ]
    },
    {
     "name": "stdout",
     "output_type": "stream",
     "text": [
      "dethroned\n"
     ]
    },
    {
     "name": "stdout",
     "output_type": "stream",
     "text": [
      "detonations\n"
     ]
    },
    {
     "name": "stdout",
     "output_type": "stream",
     "text": [
      "detraction\n"
     ]
    },
    {
     "name": "stdout",
     "output_type": "stream",
     "text": [
      "detrimental\n"
     ]
    },
    {
     "name": "stdout",
     "output_type": "stream",
     "text": [
      "devastate\n"
     ]
    },
    {
     "name": "stdout",
     "output_type": "stream",
     "text": [
      "devastating\n"
     ]
    },
    {
     "name": "stdout",
     "output_type": "stream",
     "text": [
      "develop\n"
     ]
    },
    {
     "name": "stdout",
     "output_type": "stream",
     "text": [
      "developed\n"
     ]
    },
    {
     "name": "stdout",
     "output_type": "stream",
     "text": [
      "development\n"
     ]
    },
    {
     "name": "stdout",
     "output_type": "stream",
     "text": [
      "deviating\n"
     ]
    },
    {
     "name": "stdout",
     "output_type": "stream",
     "text": [
      "deviation\n"
     ]
    },
    {
     "name": "stdout",
     "output_type": "stream",
     "text": [
      "devices\n"
     ]
    },
    {
     "name": "stdout",
     "output_type": "stream",
     "text": [
      "devilish\n"
     ]
    },
    {
     "name": "stdout",
     "output_type": "stream",
     "text": [
      "devious\n"
     ]
    },
    {
     "name": "stdout",
     "output_type": "stream",
     "text": [
      "deviously\n"
     ]
    },
    {
     "name": "stdout",
     "output_type": "stream",
     "text": [
      "devitalized\n"
     ]
    },
    {
     "name": "stdout",
     "output_type": "stream",
     "text": [
      "devoted\n"
     ]
    },
    {
     "name": "stdout",
     "output_type": "stream",
     "text": [
      "devotion\n"
     ]
    },
    {
     "name": "stdout",
     "output_type": "stream",
     "text": [
      "devotions\n"
     ]
    },
    {
     "name": "stdout",
     "output_type": "stream",
     "text": [
      "devouring\n"
     ]
    },
    {
     "name": "stdout",
     "output_type": "stream",
     "text": [
      "devout\n"
     ]
    },
    {
     "name": "stdout",
     "output_type": "stream",
     "text": [
      "devoutness\n"
     ]
    },
    {
     "name": "stdout",
     "output_type": "stream",
     "text": [
      "dewdrop\n"
     ]
    },
    {
     "name": "stdout",
     "output_type": "stream",
     "text": [
      "dewy\n"
     ]
    },
    {
     "name": "stdout",
     "output_type": "stream",
     "text": [
      "dexterity\n"
     ]
    },
    {
     "name": "stdout",
     "output_type": "stream",
     "text": [
      "dexterous\n"
     ]
    },
    {
     "name": "stdout",
     "output_type": "stream",
     "text": [
      "diabolical\n"
     ]
    },
    {
     "name": "stdout",
     "output_type": "stream",
     "text": [
      "dialectic\n"
     ]
    },
    {
     "name": "stdout",
     "output_type": "stream",
     "text": [
      "dialogue\n"
     ]
    },
    {
     "name": "stdout",
     "output_type": "stream",
     "text": [
      "diametrically\n"
     ]
    },
    {
     "name": "stdout",
     "output_type": "stream",
     "text": [
      "diapason\n"
     ]
    },
    {
     "name": "stdout",
     "output_type": "stream",
     "text": [
      "dictatorial\n"
     ]
    },
    {
     "name": "stdout",
     "output_type": "stream",
     "text": [
      "diction\n"
     ]
    },
    {
     "name": "stdout",
     "output_type": "stream",
     "text": [
      "dictionary\n"
     ]
    },
    {
     "name": "stdout",
     "output_type": "stream",
     "text": [
      "didactic\n"
     ]
    },
    {
     "name": "stdout",
     "output_type": "stream",
     "text": [
      "diet\n"
     ]
    },
    {
     "name": "stdout",
     "output_type": "stream",
     "text": [
      "difference\n"
     ]
    },
    {
     "name": "stdout",
     "output_type": "stream",
     "text": [
      "differences\n"
     ]
    },
    {
     "name": "stdout",
     "output_type": "stream",
     "text": [
      "different\n"
     ]
    },
    {
     "name": "stdout",
     "output_type": "stream",
     "text": [
      "differentiating\n"
     ]
    },
    {
     "name": "stdout",
     "output_type": "stream",
     "text": [
      "difficult\n"
     ]
    },
    {
     "name": "stdout",
     "output_type": "stream",
     "text": [
      "difficulties\n"
     ]
    },
    {
     "name": "stdout",
     "output_type": "stream",
     "text": [
      "difficulty\n"
     ]
    },
    {
     "name": "stdout",
     "output_type": "stream",
     "text": [
      "diffidence\n"
     ]
    },
    {
     "name": "stdout",
     "output_type": "stream",
     "text": [
      "diffident\n"
     ]
    },
    {
     "name": "stdout",
     "output_type": "stream",
     "text": [
      "diffuse\n"
     ]
    },
    {
     "name": "stdout",
     "output_type": "stream",
     "text": [
      "diffuseness\n"
     ]
    },
    {
     "name": "stdout",
     "output_type": "stream",
     "text": [
      "digest\n"
     ]
    },
    {
     "name": "stdout",
     "output_type": "stream",
     "text": [
      "digestion\n"
     ]
    },
    {
     "name": "stdout",
     "output_type": "stream",
     "text": [
      "dignified\n"
     ]
    },
    {
     "name": "stdout",
     "output_type": "stream",
     "text": [
      "dignify\n"
     ]
    },
    {
     "name": "stdout",
     "output_type": "stream",
     "text": [
      "dignity\n"
     ]
    },
    {
     "name": "stdout",
     "output_type": "stream",
     "text": [
      "digression\n"
     ]
    },
    {
     "name": "stdout",
     "output_type": "stream",
     "text": [
      "digressional\n"
     ]
    },
    {
     "name": "stdout",
     "output_type": "stream",
     "text": [
      "digressive\n"
     ]
    },
    {
     "name": "stdout",
     "output_type": "stream",
     "text": [
      "dilatory\n"
     ]
    },
    {
     "name": "stdout",
     "output_type": "stream",
     "text": [
      "dilemma\n"
     ]
    },
    {
     "name": "stdout",
     "output_type": "stream",
     "text": [
      "dilettante\n"
     ]
    },
    {
     "name": "stdout",
     "output_type": "stream",
     "text": [
      "diligence\n"
     ]
    },
    {
     "name": "stdout",
     "output_type": "stream",
     "text": [
      "diligent\n"
     ]
    },
    {
     "name": "stdout",
     "output_type": "stream",
     "text": [
      "diligently\n"
     ]
    },
    {
     "name": "stdout",
     "output_type": "stream",
     "text": [
      "dim\n"
     ]
    },
    {
     "name": "stdout",
     "output_type": "stream",
     "text": [
      "dimensions\n"
     ]
    },
    {
     "name": "stdout",
     "output_type": "stream",
     "text": [
      "diminished\n"
     ]
    },
    {
     "name": "stdout",
     "output_type": "stream",
     "text": [
      "diminutive\n"
     ]
    },
    {
     "name": "stdout",
     "output_type": "stream",
     "text": [
      "dimness\n"
     ]
    },
    {
     "name": "stdout",
     "output_type": "stream",
     "text": [
      "din\n"
     ]
    },
    {
     "name": "stdout",
     "output_type": "stream",
     "text": [
      "dingy\n"
     ]
    },
    {
     "name": "stdout",
     "output_type": "stream",
     "text": [
      "diplomacy\n"
     ]
    },
    {
     "name": "stdout",
     "output_type": "stream",
     "text": [
      "diplomatic\n"
     ]
    },
    {
     "name": "stdout",
     "output_type": "stream",
     "text": [
      "dire\n"
     ]
    },
    {
     "name": "stdout",
     "output_type": "stream",
     "text": [
      "direct\n"
     ]
    },
    {
     "name": "stdout",
     "output_type": "stream",
     "text": [
      "directed\n"
     ]
    },
    {
     "name": "stdout",
     "output_type": "stream",
     "text": [
      "directing\n"
     ]
    },
    {
     "name": "stdout",
     "output_type": "stream",
     "text": [
      "direction\n"
     ]
    },
    {
     "name": "stdout",
     "output_type": "stream",
     "text": [
      "directness\n"
     ]
    },
    {
     "name": "stdout",
     "output_type": "stream",
     "text": [
      "directorate\n"
     ]
    },
    {
     "name": "stdout",
     "output_type": "stream",
     "text": [
      "direful\n"
     ]
    },
    {
     "name": "stdout",
     "output_type": "stream",
     "text": [
      "dirty\n"
     ]
    },
    {
     "name": "stdout",
     "output_type": "stream",
     "text": [
      "disagreeable\n"
     ]
    },
    {
     "name": "stdout",
     "output_type": "stream",
     "text": [
      "disagreement\n"
     ]
    },
    {
     "name": "stdout",
     "output_type": "stream",
     "text": [
      "disappear\n"
     ]
    },
    {
     "name": "stdout",
     "output_type": "stream",
     "text": [
      "disappoint\n"
     ]
    },
    {
     "name": "stdout",
     "output_type": "stream",
     "text": [
      "disappointed\n"
     ]
    },
    {
     "name": "stdout",
     "output_type": "stream",
     "text": [
      "disappointing\n"
     ]
    },
    {
     "name": "stdout",
     "output_type": "stream",
     "text": [
      "disapprobation\n"
     ]
    },
    {
     "name": "stdout",
     "output_type": "stream",
     "text": [
      "disapproval\n"
     ]
    },
    {
     "name": "stdout",
     "output_type": "stream",
     "text": [
      "disapprovals\n"
     ]
    },
    {
     "name": "stdout",
     "output_type": "stream",
     "text": [
      "disarmed\n"
     ]
    },
    {
     "name": "stdout",
     "output_type": "stream",
     "text": [
      "disaster\n"
     ]
    },
    {
     "name": "stdout",
     "output_type": "stream",
     "text": [
      "disasters\n"
     ]
    },
    {
     "name": "stdout",
     "output_type": "stream",
     "text": [
      "disastrous\n"
     ]
    },
    {
     "name": "stdout",
     "output_type": "stream",
     "text": [
      "discarded\n"
     ]
    },
    {
     "name": "stdout",
     "output_type": "stream",
     "text": [
      "discerning\n"
     ]
    },
    {
     "name": "stdout",
     "output_type": "stream",
     "text": [
      "discernment\n"
     ]
    },
    {
     "name": "stdout",
     "output_type": "stream",
     "text": [
      "disciples\n"
     ]
    },
    {
     "name": "stdout",
     "output_type": "stream",
     "text": [
      "discipline\n"
     ]
    },
    {
     "name": "stdout",
     "output_type": "stream",
     "text": [
      "disciplined\n"
     ]
    },
    {
     "name": "stdout",
     "output_type": "stream",
     "text": [
      "disclosed\n"
     ]
    },
    {
     "name": "stdout",
     "output_type": "stream",
     "text": [
      "disclosure\n"
     ]
    },
    {
     "name": "stdout",
     "output_type": "stream",
     "text": [
      "discomfited\n"
     ]
    },
    {
     "name": "stdout",
     "output_type": "stream",
     "text": [
      "discomfiture\n"
     ]
    },
    {
     "name": "stdout",
     "output_type": "stream",
     "text": [
      "discomfort\n"
     ]
    },
    {
     "name": "stdout",
     "output_type": "stream",
     "text": [
      "disconcerted\n"
     ]
    },
    {
     "name": "stdout",
     "output_type": "stream",
     "text": [
      "disconnected\n"
     ]
    },
    {
     "name": "stdout",
     "output_type": "stream",
     "text": [
      "disconsolate\n"
     ]
    },
    {
     "name": "stdout",
     "output_type": "stream",
     "text": [
      "discontent\n"
     ]
    },
    {
     "name": "stdout",
     "output_type": "stream",
     "text": [
      "discontented\n"
     ]
    },
    {
     "name": "stdout",
     "output_type": "stream",
     "text": [
      "discord\n"
     ]
    },
    {
     "name": "stdout",
     "output_type": "stream",
     "text": [
      "discordant\n"
     ]
    },
    {
     "name": "stdout",
     "output_type": "stream",
     "text": [
      "discords\n"
     ]
    },
    {
     "name": "stdout",
     "output_type": "stream",
     "text": [
      "discourage\n"
     ]
    },
    {
     "name": "stdout",
     "output_type": "stream",
     "text": [
      "discouraged\n"
     ]
    },
    {
     "name": "stdout",
     "output_type": "stream",
     "text": [
      "discouraging\n"
     ]
    },
    {
     "name": "stdout",
     "output_type": "stream",
     "text": [
      "discourse\n"
     ]
    },
    {
     "name": "stdout",
     "output_type": "stream",
     "text": [
      "discourses\n"
     ]
    },
    {
     "name": "stdout",
     "output_type": "stream",
     "text": [
      "discourtesy\n"
     ]
    },
    {
     "name": "stdout",
     "output_type": "stream",
     "text": [
      "discover\n"
     ]
    },
    {
     "name": "stdout",
     "output_type": "stream",
     "text": [
      "discoveries\n"
     ]
    },
    {
     "name": "stdout",
     "output_type": "stream",
     "text": [
      "discovery\n"
     ]
    },
    {
     "name": "stdout",
     "output_type": "stream",
     "text": [
      "discredited\n"
     ]
    },
    {
     "name": "stdout",
     "output_type": "stream",
     "text": [
      "discreet\n"
     ]
    },
    {
     "name": "stdout",
     "output_type": "stream",
     "text": [
      "discrepancy\n"
     ]
    },
    {
     "name": "stdout",
     "output_type": "stream",
     "text": [
      "discretion\n"
     ]
    },
    {
     "name": "stdout",
     "output_type": "stream",
     "text": [
      "discretional\n"
     ]
    },
    {
     "name": "stdout",
     "output_type": "stream",
     "text": [
      "discriminating\n"
     ]
    },
    {
     "name": "stdout",
     "output_type": "stream",
     "text": [
      "discrimination\n"
     ]
    },
    {
     "name": "stdout",
     "output_type": "stream",
     "text": [
      "discursive\n"
     ]
    },
    {
     "name": "stdout",
     "output_type": "stream",
     "text": [
      "discuss\n"
     ]
    },
    {
     "name": "stdout",
     "output_type": "stream",
     "text": [
      "discussed\n"
     ]
    },
    {
     "name": "stdout",
     "output_type": "stream",
     "text": [
      "discussion\n"
     ]
    },
    {
     "name": "stdout",
     "output_type": "stream",
     "text": [
      "disdain\n"
     ]
    },
    {
     "name": "stdout",
     "output_type": "stream",
     "text": [
      "disdainful\n"
     ]
    },
    {
     "name": "stdout",
     "output_type": "stream",
     "text": [
      "disease\n"
     ]
    },
    {
     "name": "stdout",
     "output_type": "stream",
     "text": [
      "diseased\n"
     ]
    },
    {
     "name": "stdout",
     "output_type": "stream",
     "text": [
      "disembodied\n"
     ]
    },
    {
     "name": "stdout",
     "output_type": "stream",
     "text": [
      "disenchanted\n"
     ]
    },
    {
     "name": "stdout",
     "output_type": "stream",
     "text": [
      "disengaged\n"
     ]
    },
    {
     "name": "stdout",
     "output_type": "stream",
     "text": [
      "disfigured\n"
     ]
    },
    {
     "name": "stdout",
     "output_type": "stream",
     "text": [
      "disfiguring\n"
     ]
    },
    {
     "name": "stdout",
     "output_type": "stream",
     "text": [
      "disgrace\n"
     ]
    },
    {
     "name": "stdout",
     "output_type": "stream",
     "text": [
      "disgraceful\n"
     ]
    },
    {
     "name": "stdout",
     "output_type": "stream",
     "text": [
      "disgruntled\n"
     ]
    },
    {
     "name": "stdout",
     "output_type": "stream",
     "text": [
      "disguise\n"
     ]
    },
    {
     "name": "stdout",
     "output_type": "stream",
     "text": [
      "disguised\n"
     ]
    },
    {
     "name": "stdout",
     "output_type": "stream",
     "text": [
      "disgust\n"
     ]
    },
    {
     "name": "stdout",
     "output_type": "stream",
     "text": [
      "disgusted\n"
     ]
    },
    {
     "name": "stdout",
     "output_type": "stream",
     "text": [
      "disgusting\n"
     ]
    },
    {
     "name": "stdout",
     "output_type": "stream",
     "text": [
      "dishearten\n"
     ]
    },
    {
     "name": "stdout",
     "output_type": "stream",
     "text": [
      "disheartening\n"
     ]
    },
    {
     "name": "stdout",
     "output_type": "stream",
     "text": [
      "disheveled\n"
     ]
    },
    {
     "name": "stdout",
     "output_type": "stream",
     "text": [
      "dishonest\n"
     ]
    },
    {
     "name": "stdout",
     "output_type": "stream",
     "text": [
      "dishonesty\n"
     ]
    },
    {
     "name": "stdout",
     "output_type": "stream",
     "text": [
      "dishonor\n"
     ]
    },
    {
     "name": "stdout",
     "output_type": "stream",
     "text": [
      "dishonorable\n"
     ]
    },
    {
     "name": "stdout",
     "output_type": "stream",
     "text": [
      "dishonored\n"
     ]
    },
    {
     "name": "stdout",
     "output_type": "stream",
     "text": [
      "disillusioned\n"
     ]
    },
    {
     "name": "stdout",
     "output_type": "stream",
     "text": [
      "disinclination\n"
     ]
    },
    {
     "name": "stdout",
     "output_type": "stream",
     "text": [
      "disingenuous\n"
     ]
    },
    {
     "name": "stdout",
     "output_type": "stream",
     "text": [
      "disingenuousness\n"
     ]
    },
    {
     "name": "stdout",
     "output_type": "stream",
     "text": [
      "disintegrating\n"
     ]
    },
    {
     "name": "stdout",
     "output_type": "stream",
     "text": [
      "disintegration\n"
     ]
    },
    {
     "name": "stdout",
     "output_type": "stream",
     "text": [
      "disinterested\n"
     ]
    },
    {
     "name": "stdout",
     "output_type": "stream",
     "text": [
      "disinterestedness\n"
     ]
    },
    {
     "name": "stdout",
     "output_type": "stream",
     "text": [
      "disjoined\n"
     ]
    },
    {
     "name": "stdout",
     "output_type": "stream",
     "text": [
      "disjointed\n"
     ]
    },
    {
     "name": "stdout",
     "output_type": "stream",
     "text": [
      "dislike\n"
     ]
    },
    {
     "name": "stdout",
     "output_type": "stream",
     "text": [
      "dislikes\n"
     ]
    },
    {
     "name": "stdout",
     "output_type": "stream",
     "text": [
      "dislocation\n"
     ]
    },
    {
     "name": "stdout",
     "output_type": "stream",
     "text": [
      "disloyal\n"
     ]
    },
    {
     "name": "stdout",
     "output_type": "stream",
     "text": [
      "disloyalty\n"
     ]
    },
    {
     "name": "stdout",
     "output_type": "stream",
     "text": [
      "dismal\n"
     ]
    },
    {
     "name": "stdout",
     "output_type": "stream",
     "text": [
      "dismantled\n"
     ]
    },
    {
     "name": "stdout",
     "output_type": "stream",
     "text": [
      "dismay\n"
     ]
    },
    {
     "name": "stdout",
     "output_type": "stream",
     "text": [
      "dismayed\n"
     ]
    },
    {
     "name": "stdout",
     "output_type": "stream",
     "text": [
      "dismiss\n"
     ]
    },
    {
     "name": "stdout",
     "output_type": "stream",
     "text": [
      "disordered\n"
     ]
    },
    {
     "name": "stdout",
     "output_type": "stream",
     "text": [
      "disorderly\n"
     ]
    },
    {
     "name": "stdout",
     "output_type": "stream",
     "text": [
      "disorganizing\n"
     ]
    },
    {
     "name": "stdout",
     "output_type": "stream",
     "text": [
      "disparaging\n"
     ]
    },
    {
     "name": "stdout",
     "output_type": "stream",
     "text": [
      "disparity\n"
     ]
    },
    {
     "name": "stdout",
     "output_type": "stream",
     "text": [
      "dispassionate\n"
     ]
    },
    {
     "name": "stdout",
     "output_type": "stream",
     "text": [
      "dispatch\n"
     ]
    },
    {
     "name": "stdout",
     "output_type": "stream",
     "text": [
      "dispelled\n"
     ]
    },
    {
     "name": "stdout",
     "output_type": "stream",
     "text": [
      "dispelling\n"
     ]
    },
    {
     "name": "stdout",
     "output_type": "stream",
     "text": [
      "dispirit\n"
     ]
    },
    {
     "name": "stdout",
     "output_type": "stream",
     "text": [
      "dispirited\n"
     ]
    },
    {
     "name": "stdout",
     "output_type": "stream",
     "text": [
      "display\n"
     ]
    },
    {
     "name": "stdout",
     "output_type": "stream",
     "text": [
      "displeasing\n"
     ]
    },
    {
     "name": "stdout",
     "output_type": "stream",
     "text": [
      "disposition\n"
     ]
    },
    {
     "name": "stdout",
     "output_type": "stream",
     "text": [
      "dispossess\n"
     ]
    },
    {
     "name": "stdout",
     "output_type": "stream",
     "text": [
      "disproportionate\n"
     ]
    },
    {
     "name": "stdout",
     "output_type": "stream",
     "text": [
      "disputant\n"
     ]
    },
    {
     "name": "stdout",
     "output_type": "stream",
     "text": [
      "disputative\n"
     ]
    },
    {
     "name": "stdout",
     "output_type": "stream",
     "text": [
      "dispute\n"
     ]
    },
    {
     "name": "stdout",
     "output_type": "stream",
     "text": [
      "disputes\n"
     ]
    },
    {
     "name": "stdout",
     "output_type": "stream",
     "text": [
      "disquiet\n"
     ]
    },
    {
     "name": "stdout",
     "output_type": "stream",
     "text": [
      "disquieting\n"
     ]
    },
    {
     "name": "stdout",
     "output_type": "stream",
     "text": [
      "disquietude\n"
     ]
    },
    {
     "name": "stdout",
     "output_type": "stream",
     "text": [
      "disregard\n"
     ]
    },
    {
     "name": "stdout",
     "output_type": "stream",
     "text": [
      "disrelish\n"
     ]
    },
    {
     "name": "stdout",
     "output_type": "stream",
     "text": [
      "disreputable\n"
     ]
    },
    {
     "name": "stdout",
     "output_type": "stream",
     "text": [
      "disrespect\n"
     ]
    },
    {
     "name": "stdout",
     "output_type": "stream",
     "text": [
      "dissatisfied\n"
     ]
    },
    {
     "name": "stdout",
     "output_type": "stream",
     "text": [
      "dissembler\n"
     ]
    },
    {
     "name": "stdout",
     "output_type": "stream",
     "text": [
      "disseminated\n"
     ]
    },
    {
     "name": "stdout",
     "output_type": "stream",
     "text": [
      "dissension\n"
     ]
    },
    {
     "name": "stdout",
     "output_type": "stream",
     "text": [
      "dissent\n"
     ]
    },
    {
     "name": "stdout",
     "output_type": "stream",
     "text": [
      "dissenting\n"
     ]
    },
    {
     "name": "stdout",
     "output_type": "stream",
     "text": [
      "dissertation\n"
     ]
    },
    {
     "name": "stdout",
     "output_type": "stream",
     "text": [
      "dissertations\n"
     ]
    },
    {
     "name": "stdout",
     "output_type": "stream",
     "text": [
      "dissimilar\n"
     ]
    },
    {
     "name": "stdout",
     "output_type": "stream",
     "text": [
      "dissipate\n"
     ]
    },
    {
     "name": "stdout",
     "output_type": "stream",
     "text": [
      "dissipated\n"
     ]
    },
    {
     "name": "stdout",
     "output_type": "stream",
     "text": [
      "dissolute\n"
     ]
    },
    {
     "name": "stdout",
     "output_type": "stream",
     "text": [
      "dissolve\n"
     ]
    },
    {
     "name": "stdout",
     "output_type": "stream",
     "text": [
      "dissolving\n"
     ]
    },
    {
     "name": "stdout",
     "output_type": "stream",
     "text": [
      "dissonance\n"
     ]
    },
    {
     "name": "stdout",
     "output_type": "stream",
     "text": [
      "dissonant\n"
     ]
    },
    {
     "name": "stdout",
     "output_type": "stream",
     "text": [
      "dissuade\n"
     ]
    },
    {
     "name": "stdout",
     "output_type": "stream",
     "text": [
      "distance\n"
     ]
    },
    {
     "name": "stdout",
     "output_type": "stream",
     "text": [
      "distant\n"
     ]
    },
    {
     "name": "stdout",
     "output_type": "stream",
     "text": [
      "distaste\n"
     ]
    },
    {
     "name": "stdout",
     "output_type": "stream",
     "text": [
      "distasteful\n"
     ]
    },
    {
     "name": "stdout",
     "output_type": "stream",
     "text": [
      "distastes\n"
     ]
    },
    {
     "name": "stdout",
     "output_type": "stream",
     "text": [
      "distempered\n"
     ]
    },
    {
     "name": "stdout",
     "output_type": "stream",
     "text": [
      "distended\n"
     ]
    },
    {
     "name": "stdout",
     "output_type": "stream",
     "text": [
      "distinct\n"
     ]
    },
    {
     "name": "stdout",
     "output_type": "stream",
     "text": [
      "distinction\n"
     ]
    },
    {
     "name": "stdout",
     "output_type": "stream",
     "text": [
      "distinctive\n"
     ]
    },
    {
     "name": "stdout",
     "output_type": "stream",
     "text": [
      "distinguished\n"
     ]
    },
    {
     "name": "stdout",
     "output_type": "stream",
     "text": [
      "distinguishing\n"
     ]
    },
    {
     "name": "stdout",
     "output_type": "stream",
     "text": [
      "distort\n"
     ]
    },
    {
     "name": "stdout",
     "output_type": "stream",
     "text": [
      "distorted\n"
     ]
    },
    {
     "name": "stdout",
     "output_type": "stream",
     "text": [
      "distortion\n"
     ]
    },
    {
     "name": "stdout",
     "output_type": "stream",
     "text": [
      "distracted\n"
     ]
    },
    {
     "name": "stdout",
     "output_type": "stream",
     "text": [
      "distracting\n"
     ]
    },
    {
     "name": "stdout",
     "output_type": "stream",
     "text": [
      "distraction\n"
     ]
    },
    {
     "name": "stdout",
     "output_type": "stream",
     "text": [
      "distractions\n"
     ]
    },
    {
     "name": "stdout",
     "output_type": "stream",
     "text": [
      "distraught\n"
     ]
    },
    {
     "name": "stdout",
     "output_type": "stream",
     "text": [
      "distress\n"
     ]
    },
    {
     "name": "stdout",
     "output_type": "stream",
     "text": [
      "distressed\n"
     ]
    },
    {
     "name": "stdout",
     "output_type": "stream",
     "text": [
      "distressing\n"
     ]
    },
    {
     "name": "stdout",
     "output_type": "stream",
     "text": [
      "distrust\n"
     ]
    },
    {
     "name": "stdout",
     "output_type": "stream",
     "text": [
      "disturbed\n"
     ]
    },
    {
     "name": "stdout",
     "output_type": "stream",
     "text": [
      "disuse\n"
     ]
    },
    {
     "name": "stdout",
     "output_type": "stream",
     "text": [
      "diurnal\n"
     ]
    },
    {
     "name": "stdout",
     "output_type": "stream",
     "text": [
      "divergence\n"
     ]
    },
    {
     "name": "stdout",
     "output_type": "stream",
     "text": [
      "divergent\n"
     ]
    },
    {
     "name": "stdout",
     "output_type": "stream",
     "text": [
      "diverging\n"
     ]
    },
    {
     "name": "stdout",
     "output_type": "stream",
     "text": [
      "diverse\n"
     ]
    },
    {
     "name": "stdout",
     "output_type": "stream",
     "text": [
      "diversification\n"
     ]
    },
    {
     "name": "stdout",
     "output_type": "stream",
     "text": [
      "diversified\n"
     ]
    },
    {
     "name": "stdout",
     "output_type": "stream",
     "text": [
      "diversion\n"
     ]
    },
    {
     "name": "stdout",
     "output_type": "stream",
     "text": [
      "diversions\n"
     ]
    },
    {
     "name": "stdout",
     "output_type": "stream",
     "text": [
      "diversity\n"
     ]
    },
    {
     "name": "stdout",
     "output_type": "stream",
     "text": [
      "diverting\n"
     ]
    },
    {
     "name": "stdout",
     "output_type": "stream",
     "text": [
      "divest\n"
     ]
    },
    {
     "name": "stdout",
     "output_type": "stream",
     "text": [
      "divine\n"
     ]
    },
    {
     "name": "stdout",
     "output_type": "stream",
     "text": [
      "divines\n"
     ]
    },
    {
     "name": "stdout",
     "output_type": "stream",
     "text": [
      "division\n"
     ]
    },
    {
     "name": "stdout",
     "output_type": "stream",
     "text": [
      "dizzy\n"
     ]
    },
    {
     "name": "stdout",
     "output_type": "stream",
     "text": [
      "docile\n"
     ]
    },
    {
     "name": "stdout",
     "output_type": "stream",
     "text": [
      "doctrine\n"
     ]
    },
    {
     "name": "stdout",
     "output_type": "stream",
     "text": [
      "doctrines\n"
     ]
    },
    {
     "name": "stdout",
     "output_type": "stream",
     "text": [
      "document\n"
     ]
    },
    {
     "name": "stdout",
     "output_type": "stream",
     "text": [
      "documentary\n"
     ]
    },
    {
     "name": "stdout",
     "output_type": "stream",
     "text": [
      "doddering\n"
     ]
    },
    {
     "name": "stdout",
     "output_type": "stream",
     "text": [
      "dogged\n"
     ]
    },
    {
     "name": "stdout",
     "output_type": "stream",
     "text": [
      "doggedness\n"
     ]
    },
    {
     "name": "stdout",
     "output_type": "stream",
     "text": [
      "doggerel\n"
     ]
    },
    {
     "name": "stdout",
     "output_type": "stream",
     "text": [
      "dogma\n"
     ]
    },
    {
     "name": "stdout",
     "output_type": "stream",
     "text": [
      "dogmas\n"
     ]
    },
    {
     "name": "stdout",
     "output_type": "stream",
     "text": [
      "dogmatic\n"
     ]
    },
    {
     "name": "stdout",
     "output_type": "stream",
     "text": [
      "dogmatism\n"
     ]
    },
    {
     "name": "stdout",
     "output_type": "stream",
     "text": [
      "doleful\n"
     ]
    },
    {
     "name": "stdout",
     "output_type": "stream",
     "text": [
      "dolorous\n"
     ]
    },
    {
     "name": "stdout",
     "output_type": "stream",
     "text": [
      "domain\n"
     ]
    },
    {
     "name": "stdout",
     "output_type": "stream",
     "text": [
      "domestic\n"
     ]
    },
    {
     "name": "stdout",
     "output_type": "stream",
     "text": [
      "dominant\n"
     ]
    },
    {
     "name": "stdout",
     "output_type": "stream",
     "text": [
      "dominate\n"
     ]
    },
    {
     "name": "stdout",
     "output_type": "stream",
     "text": [
      "dominating\n"
     ]
    },
    {
     "name": "stdout",
     "output_type": "stream",
     "text": [
      "domination\n"
     ]
    },
    {
     "name": "stdout",
     "output_type": "stream",
     "text": [
      "domineering\n"
     ]
    },
    {
     "name": "stdout",
     "output_type": "stream",
     "text": [
      "dominion\n"
     ]
    },
    {
     "name": "stdout",
     "output_type": "stream",
     "text": [
      "doom\n"
     ]
    },
    {
     "name": "stdout",
     "output_type": "stream",
     "text": [
      "dormant\n"
     ]
    },
    {
     "name": "stdout",
     "output_type": "stream",
     "text": [
      "dose\n"
     ]
    },
    {
     "name": "stdout",
     "output_type": "stream",
     "text": [
      "doubly\n"
     ]
    },
    {
     "name": "stdout",
     "output_type": "stream",
     "text": [
      "doubt\n"
     ]
    },
    {
     "name": "stdout",
     "output_type": "stream",
     "text": [
      "doubtful\n"
     ]
    },
    {
     "name": "stdout",
     "output_type": "stream",
     "text": [
      "downright\n"
     ]
    },
    {
     "name": "stdout",
     "output_type": "stream",
     "text": [
      "downtrodden\n"
     ]
    },
    {
     "name": "stdout",
     "output_type": "stream",
     "text": [
      "drab\n"
     ]
    },
    {
     "name": "stdout",
     "output_type": "stream",
     "text": [
      "draggled\n"
     ]
    },
    {
     "name": "stdout",
     "output_type": "stream",
     "text": [
      "drama\n"
     ]
    },
    {
     "name": "stdout",
     "output_type": "stream",
     "text": [
      "dramatic\n"
     ]
    },
    {
     "name": "stdout",
     "output_type": "stream",
     "text": [
      "drastic\n"
     ]
    },
    {
     "name": "stdout",
     "output_type": "stream",
     "text": [
      "dread\n"
     ]
    },
    {
     "name": "stdout",
     "output_type": "stream",
     "text": [
      "dreadful\n"
     ]
    },
    {
     "name": "stdout",
     "output_type": "stream",
     "text": [
      "dream\n"
     ]
    },
    {
     "name": "stdout",
     "output_type": "stream",
     "text": [
      "dreamer\n"
     ]
    },
    {
     "name": "stdout",
     "output_type": "stream",
     "text": [
      "dreaming\n"
     ]
    },
    {
     "name": "stdout",
     "output_type": "stream",
     "text": [
      "dreamless\n"
     ]
    },
    {
     "name": "stdout",
     "output_type": "stream",
     "text": [
      "dreams\n"
     ]
    },
    {
     "name": "stdout",
     "output_type": "stream",
     "text": [
      "dreamy\n"
     ]
    },
    {
     "name": "stdout",
     "output_type": "stream",
     "text": [
      "dreariness\n"
     ]
    },
    {
     "name": "stdout",
     "output_type": "stream",
     "text": [
      "dreary\n"
     ]
    },
    {
     "name": "stdout",
     "output_type": "stream",
     "text": [
      "dregs\n"
     ]
    },
    {
     "name": "stdout",
     "output_type": "stream",
     "text": [
      "dribble\n"
     ]
    },
    {
     "name": "stdout",
     "output_type": "stream",
     "text": [
      "drift\n"
     ]
    },
    {
     "name": "stdout",
     "output_type": "stream",
     "text": [
      "drill\n"
     ]
    },
    {
     "name": "stdout",
     "output_type": "stream",
     "text": [
      "drilled\n"
     ]
    },
    {
     "name": "stdout",
     "output_type": "stream",
     "text": [
      "driveling\n"
     ]
    },
    {
     "name": "stdout",
     "output_type": "stream",
     "text": [
      "droll\n"
     ]
    },
    {
     "name": "stdout",
     "output_type": "stream",
     "text": [
      "drollery\n"
     ]
    },
    {
     "name": "stdout",
     "output_type": "stream",
     "text": [
      "drone\n"
     ]
    },
    {
     "name": "stdout",
     "output_type": "stream",
     "text": [
      "droning\n"
     ]
    },
    {
     "name": "stdout",
     "output_type": "stream",
     "text": [
      "drooping\n"
     ]
    },
    {
     "name": "stdout",
     "output_type": "stream",
     "text": [
      "drowsy\n"
     ]
    },
    {
     "name": "stdout",
     "output_type": "stream",
     "text": [
      "drudge\n"
     ]
    },
    {
     "name": "stdout",
     "output_type": "stream",
     "text": [
      "drudgery\n"
     ]
    },
    {
     "name": "stdout",
     "output_type": "stream",
     "text": [
      "drunkenness\n"
     ]
    },
    {
     "name": "stdout",
     "output_type": "stream",
     "text": [
      "dry\n"
     ]
    },
    {
     "name": "stdout",
     "output_type": "stream",
     "text": [
      "dubious\n"
     ]
    },
    {
     "name": "stdout",
     "output_type": "stream",
     "text": [
      "ductile\n"
     ]
    },
    {
     "name": "stdout",
     "output_type": "stream",
     "text": [
      "ductility\n"
     ]
    },
    {
     "name": "stdout",
     "output_type": "stream",
     "text": [
      "dulcet\n"
     ]
    },
    {
     "name": "stdout",
     "output_type": "stream",
     "text": [
      "dull\n"
     ]
    },
    {
     "name": "stdout",
     "output_type": "stream",
     "text": [
      "dullards\n"
     ]
    },
    {
     "name": "stdout",
     "output_type": "stream",
     "text": [
      "dulled\n"
     ]
    },
    {
     "name": "stdout",
     "output_type": "stream",
     "text": [
      "dullslim\n"
     ]
    },
    {
     "name": "stdout",
     "output_type": "stream",
     "text": [
      "dulness\n"
     ]
    },
    {
     "name": "stdout",
     "output_type": "stream",
     "text": [
      "dumb\n"
     ]
    },
    {
     "name": "stdout",
     "output_type": "stream",
     "text": [
      "dumbfounded\n"
     ]
    },
    {
     "name": "stdout",
     "output_type": "stream",
     "text": [
      "dupe\n"
     ]
    },
    {
     "name": "stdout",
     "output_type": "stream",
     "text": [
      "duplicity\n"
     ]
    },
    {
     "name": "stdout",
     "output_type": "stream",
     "text": [
      "durable\n"
     ]
    },
    {
     "name": "stdout",
     "output_type": "stream",
     "text": [
      "duration\n"
     ]
    },
    {
     "name": "stdout",
     "output_type": "stream",
     "text": [
      "dusk\n"
     ]
    },
    {
     "name": "stdout",
     "output_type": "stream",
     "text": [
      "dusky\n"
     ]
    },
    {
     "name": "stdout",
     "output_type": "stream",
     "text": [
      "dust\n"
     ]
    },
    {
     "name": "stdout",
     "output_type": "stream",
     "text": [
      "dusty\n"
     ]
    },
    {
     "name": "stdout",
     "output_type": "stream",
     "text": [
      "duties\n"
     ]
    },
    {
     "name": "stdout",
     "output_type": "stream",
     "text": [
      "dutiful\n"
     ]
    },
    {
     "name": "stdout",
     "output_type": "stream",
     "text": [
      "dutious\n"
     ]
    },
    {
     "name": "stdout",
     "output_type": "stream",
     "text": [
      "duty\n"
     ]
    },
    {
     "name": "stdout",
     "output_type": "stream",
     "text": [
      "duty-loving\n"
     ]
    },
    {
     "name": "stdout",
     "output_type": "stream",
     "text": [
      "dwarfed\n"
     ]
    },
    {
     "name": "stdout",
     "output_type": "stream",
     "text": [
      "dwindle\n"
     ]
    },
    {
     "name": "stdout",
     "output_type": "stream",
     "text": [
      "dynamic\n"
     ]
    },
    {
     "name": "stdout",
     "output_type": "stream",
     "text": [
      "dynastic\n"
     ]
    },
    {
     "name": "stdout",
     "output_type": "stream",
     "text": [
      "eager\n"
     ]
    },
    {
     "name": "stdout",
     "output_type": "stream",
     "text": [
      "eagerness\n"
     ]
    },
    {
     "name": "stdout",
     "output_type": "stream",
     "text": [
      "ear\n"
     ]
    },
    {
     "name": "stdout",
     "output_type": "stream",
     "text": [
      "early\n"
     ]
    },
    {
     "name": "stdout",
     "output_type": "stream",
     "text": [
      "earnest\n"
     ]
    },
    {
     "name": "stdout",
     "output_type": "stream",
     "text": [
      "earnestly\n"
     ]
    },
    {
     "name": "stdout",
     "output_type": "stream",
     "text": [
      "earnestness\n"
     ]
    },
    {
     "name": "stdout",
     "output_type": "stream",
     "text": [
      "earth\n"
     ]
    },
    {
     "name": "stdout",
     "output_type": "stream",
     "text": [
      "earthly\n"
     ]
    },
    {
     "name": "stdout",
     "output_type": "stream",
     "text": [
      "ease\n"
     ]
    },
    {
     "name": "stdout",
     "output_type": "stream",
     "text": [
      "easy\n"
     ]
    },
    {
     "name": "stdout",
     "output_type": "stream",
     "text": [
      "ebb\n"
     ]
    },
    {
     "name": "stdout",
     "output_type": "stream",
     "text": [
      "eccentric\n"
     ]
    },
    {
     "name": "stdout",
     "output_type": "stream",
     "text": [
      "eccentricities\n"
     ]
    },
    {
     "name": "stdout",
     "output_type": "stream",
     "text": [
      "eccentricity\n"
     ]
    },
    {
     "name": "stdout",
     "output_type": "stream",
     "text": [
      "ecclesiastical\n"
     ]
    },
    {
     "name": "stdout",
     "output_type": "stream",
     "text": [
      "echoes\n"
     ]
    },
    {
     "name": "stdout",
     "output_type": "stream",
     "text": [
      "echoless\n"
     ]
    },
    {
     "name": "stdout",
     "output_type": "stream",
     "text": [
      "eclectic\n"
     ]
    },
    {
     "name": "stdout",
     "output_type": "stream",
     "text": [
      "economic\n"
     ]
    },
    {
     "name": "stdout",
     "output_type": "stream",
     "text": [
      "economy\n"
     ]
    },
    {
     "name": "stdout",
     "output_type": "stream",
     "text": [
      "ecstasies\n"
     ]
    },
    {
     "name": "stdout",
     "output_type": "stream",
     "text": [
      "ecstasy\n"
     ]
    },
    {
     "name": "stdout",
     "output_type": "stream",
     "text": [
      "ecstatically\n"
     ]
    },
    {
     "name": "stdout",
     "output_type": "stream",
     "text": [
      "eddyings\n"
     ]
    },
    {
     "name": "stdout",
     "output_type": "stream",
     "text": [
      "edification\n"
     ]
    },
    {
     "name": "stdout",
     "output_type": "stream",
     "text": [
      "edifice\n"
     ]
    },
    {
     "name": "stdout",
     "output_type": "stream",
     "text": [
      "edifying\n"
     ]
    },
    {
     "name": "stdout",
     "output_type": "stream",
     "text": [
      "education\n"
     ]
    },
    {
     "name": "stdout",
     "output_type": "stream",
     "text": [
      "educational\n"
     ]
    },
    {
     "name": "stdout",
     "output_type": "stream",
     "text": [
      "effect\n"
     ]
    },
    {
     "name": "stdout",
     "output_type": "stream",
     "text": [
      "effective\n"
     ]
    },
    {
     "name": "stdout",
     "output_type": "stream",
     "text": [
      "effectiveness\n"
     ]
    },
    {
     "name": "stdout",
     "output_type": "stream",
     "text": [
      "effects\n"
     ]
    },
    {
     "name": "stdout",
     "output_type": "stream",
     "text": [
      "effectual\n"
     ]
    },
    {
     "name": "stdout",
     "output_type": "stream",
     "text": [
      "effeminacy\n"
     ]
    },
    {
     "name": "stdout",
     "output_type": "stream",
     "text": [
      "effeminate\n"
     ]
    },
    {
     "name": "stdout",
     "output_type": "stream",
     "text": [
      "effervescence\n"
     ]
    },
    {
     "name": "stdout",
     "output_type": "stream",
     "text": [
      "effervescent\n"
     ]
    },
    {
     "name": "stdout",
     "output_type": "stream",
     "text": [
      "effete\n"
     ]
    },
    {
     "name": "stdout",
     "output_type": "stream",
     "text": [
      "efficacious\n"
     ]
    },
    {
     "name": "stdout",
     "output_type": "stream",
     "text": [
      "efficacy\n"
     ]
    },
    {
     "name": "stdout",
     "output_type": "stream",
     "text": [
      "efficiency\n"
     ]
    },
    {
     "name": "stdout",
     "output_type": "stream",
     "text": [
      "efficient\n"
     ]
    },
    {
     "name": "stdout",
     "output_type": "stream",
     "text": [
      "efflorescent\n"
     ]
    },
    {
     "name": "stdout",
     "output_type": "stream",
     "text": [
      "effluent\n"
     ]
    },
    {
     "name": "stdout",
     "output_type": "stream",
     "text": [
      "effluvium\n"
     ]
    },
    {
     "name": "stdout",
     "output_type": "stream",
     "text": [
      "effort\n"
     ]
    },
    {
     "name": "stdout",
     "output_type": "stream",
     "text": [
      "effulgent\n"
     ]
    },
    {
     "name": "stdout",
     "output_type": "stream",
     "text": [
      "effusion\n"
     ]
    },
    {
     "name": "stdout",
     "output_type": "stream",
     "text": [
      "effusions\n"
     ]
    },
    {
     "name": "stdout",
     "output_type": "stream",
     "text": [
      "effusive\n"
     ]
    },
    {
     "name": "stdout",
     "output_type": "stream",
     "text": [
      "egoistic\n"
     ]
    },
    {
     "name": "stdout",
     "output_type": "stream",
     "text": [
      "egotism\n"
     ]
    },
    {
     "name": "stdout",
     "output_type": "stream",
     "text": [
      "egotistic\n"
     ]
    },
    {
     "name": "stdout",
     "output_type": "stream",
     "text": [
      "egregious\n"
     ]
    },
    {
     "name": "stdout",
     "output_type": "stream",
     "text": [
      "ejaculatory\n"
     ]
    },
    {
     "name": "stdout",
     "output_type": "stream",
     "text": [
      "elaborate\n"
     ]
    },
    {
     "name": "stdout",
     "output_type": "stream",
     "text": [
      "elaboration\n"
     ]
    },
    {
     "name": "stdout",
     "output_type": "stream",
     "text": [
      "elastic\n"
     ]
    },
    {
     "name": "stdout",
     "output_type": "stream",
     "text": [
      "elasticity\n"
     ]
    },
    {
     "name": "stdout",
     "output_type": "stream",
     "text": [
      "elation\n"
     ]
    },
    {
     "name": "stdout",
     "output_type": "stream",
     "text": [
      "electric\n"
     ]
    },
    {
     "name": "stdout",
     "output_type": "stream",
     "text": [
      "elegance\n"
     ]
    },
    {
     "name": "stdout",
     "output_type": "stream",
     "text": [
      "elegant\n"
     ]
    },
    {
     "name": "stdout",
     "output_type": "stream",
     "text": [
      "element\n"
     ]
    },
    {
     "name": "stdout",
     "output_type": "stream",
     "text": [
      "elemental\n"
     ]
    },
    {
     "name": "stdout",
     "output_type": "stream",
     "text": [
      "elementary\n"
     ]
    },
    {
     "name": "stdout",
     "output_type": "stream",
     "text": [
      "elements\n"
     ]
    },
    {
     "name": "stdout",
     "output_type": "stream",
     "text": [
      "elephantine\n"
     ]
    },
    {
     "name": "stdout",
     "output_type": "stream",
     "text": [
      "elevate\n"
     ]
    },
    {
     "name": "stdout",
     "output_type": "stream",
     "text": [
      "elevated\n"
     ]
    },
    {
     "name": "stdout",
     "output_type": "stream",
     "text": [
      "elfish\n"
     ]
    },
    {
     "name": "stdout",
     "output_type": "stream",
     "text": [
      "eligibility\n"
     ]
    },
    {
     "name": "stdout",
     "output_type": "stream",
     "text": [
      "elongated\n"
     ]
    },
    {
     "name": "stdout",
     "output_type": "stream",
     "text": [
      "eloquence\n"
     ]
    },
    {
     "name": "stdout",
     "output_type": "stream",
     "text": [
      "eloquent\n"
     ]
    },
    {
     "name": "stdout",
     "output_type": "stream",
     "text": [
      "elucidation\n"
     ]
    },
    {
     "name": "stdout",
     "output_type": "stream",
     "text": [
      "elusive\n"
     ]
    },
    {
     "name": "stdout",
     "output_type": "stream",
     "text": [
      "emaciated\n"
     ]
    },
    {
     "name": "stdout",
     "output_type": "stream",
     "text": [
      "emanations\n"
     ]
    },
    {
     "name": "stdout",
     "output_type": "stream",
     "text": [
      "emancipating\n"
     ]
    },
    {
     "name": "stdout",
     "output_type": "stream",
     "text": [
      "emasculated\n"
     ]
    },
    {
     "name": "stdout",
     "output_type": "stream",
     "text": [
      "embarrass\n"
     ]
    },
    {
     "name": "stdout",
     "output_type": "stream",
     "text": [
      "embarrassed\n"
     ]
    },
    {
     "name": "stdout",
     "output_type": "stream",
     "text": [
      "embarrassing\n"
     ]
    },
    {
     "name": "stdout",
     "output_type": "stream",
     "text": [
      "embarrassment\n"
     ]
    },
    {
     "name": "stdout",
     "output_type": "stream",
     "text": [
      "embellish\n"
     ]
    },
    {
     "name": "stdout",
     "output_type": "stream",
     "text": [
      "embellished\n"
     ]
    },
    {
     "name": "stdout",
     "output_type": "stream",
     "text": [
      "embellishment\n"
     ]
    },
    {
     "name": "stdout",
     "output_type": "stream",
     "text": [
      "embellishments\n"
     ]
    },
    {
     "name": "stdout",
     "output_type": "stream",
     "text": [
      "embittered\n"
     ]
    },
    {
     "name": "stdout",
     "output_type": "stream",
     "text": [
      "emblazoned\n"
     ]
    },
    {
     "name": "stdout",
     "output_type": "stream",
     "text": [
      "embodiment\n"
     ]
    },
    {
     "name": "stdout",
     "output_type": "stream",
     "text": [
      "embolden\n"
     ]
    },
    {
     "name": "stdout",
     "output_type": "stream",
     "text": [
      "embrace\n"
     ]
    },
    {
     "name": "stdout",
     "output_type": "stream",
     "text": [
      "embrasure\n"
     ]
    },
    {
     "name": "stdout",
     "output_type": "stream",
     "text": [
      "embryo\n"
     ]
    },
    {
     "name": "stdout",
     "output_type": "stream",
     "text": [
      "emerald\n"
     ]
    },
    {
     "name": "stdout",
     "output_type": "stream",
     "text": [
      "emerged\n"
     ]
    },
    {
     "name": "stdout",
     "output_type": "stream",
     "text": [
      "emergency\n"
     ]
    },
    {
     "name": "stdout",
     "output_type": "stream",
     "text": [
      "eminence\n"
     ]
    },
    {
     "name": "stdout",
     "output_type": "stream",
     "text": [
      "eminent\n"
     ]
    },
    {
     "name": "stdout",
     "output_type": "stream",
     "text": [
      "emolumentprofuse\n"
     ]
    },
    {
     "name": "stdout",
     "output_type": "stream",
     "text": [
      "emoluments\n"
     ]
    },
    {
     "name": "stdout",
     "output_type": "stream",
     "text": [
      "emotion\n"
     ]
    },
    {
     "name": "stdout",
     "output_type": "stream",
     "text": [
      "emotional\n"
     ]
    },
    {
     "name": "stdout",
     "output_type": "stream",
     "text": [
      "emotions\n"
     ]
    },
    {
     "name": "stdout",
     "output_type": "stream",
     "text": [
      "emotive\n"
     ]
    },
    {
     "name": "stdout",
     "output_type": "stream",
     "text": [
      "emphasis\n"
     ]
    },
    {
     "name": "stdout",
     "output_type": "stream",
     "text": [
      "emphasize\n"
     ]
    },
    {
     "name": "stdout",
     "output_type": "stream",
     "text": [
      "emphatic\n"
     ]
    },
    {
     "name": "stdout",
     "output_type": "stream",
     "text": [
      "empirical\n"
     ]
    },
    {
     "name": "stdout",
     "output_type": "stream",
     "text": [
      "employment\n"
     ]
    },
    {
     "name": "stdout",
     "output_type": "stream",
     "text": [
      "emptiness\n"
     ]
    },
    {
     "name": "stdout",
     "output_type": "stream",
     "text": [
      "empty\n"
     ]
    },
    {
     "name": "stdout",
     "output_type": "stream",
     "text": [
      "emulative\n"
     ]
    },
    {
     "name": "stdout",
     "output_type": "stream",
     "text": [
      "enactment\n"
     ]
    },
    {
     "name": "stdout",
     "output_type": "stream",
     "text": [
      "enamored\n"
     ]
    },
    {
     "name": "stdout",
     "output_type": "stream",
     "text": [
      "enchanted\n"
     ]
    },
    {
     "name": "stdout",
     "output_type": "stream",
     "text": [
      "enchanting\n"
     ]
    },
    {
     "name": "stdout",
     "output_type": "stream",
     "text": [
      "enchantment\n"
     ]
    },
    {
     "name": "stdout",
     "output_type": "stream",
     "text": [
      "encircling\n"
     ]
    },
    {
     "name": "stdout",
     "output_type": "stream",
     "text": [
      "encouragement\n"
     ]
    },
    {
     "name": "stdout",
     "output_type": "stream",
     "text": [
      "end\n"
     ]
    },
    {
     "name": "stdout",
     "output_type": "stream",
     "text": [
      "endearing\n"
     ]
    },
    {
     "name": "stdout",
     "output_type": "stream",
     "text": [
      "endearment\n"
     ]
    },
    {
     "name": "stdout",
     "output_type": "stream",
     "text": [
      "endeavor\n"
     ]
    },
    {
     "name": "stdout",
     "output_type": "stream",
     "text": [
      "endless\n"
     ]
    },
    {
     "name": "stdout",
     "output_type": "stream",
     "text": [
      "endowment\n"
     ]
    },
    {
     "name": "stdout",
     "output_type": "stream",
     "text": [
      "endurance\n"
     ]
    },
    {
     "name": "stdout",
     "output_type": "stream",
     "text": [
      "enduring\n"
     ]
    },
    {
     "name": "stdout",
     "output_type": "stream",
     "text": [
      "enemy\n"
     ]
    },
    {
     "name": "stdout",
     "output_type": "stream",
     "text": [
      "energetic\n"
     ]
    },
    {
     "name": "stdout",
     "output_type": "stream",
     "text": [
      "energies\n"
     ]
    },
    {
     "name": "stdout",
     "output_type": "stream",
     "text": [
      "energy\n"
     ]
    },
    {
     "name": "stdout",
     "output_type": "stream",
     "text": [
      "enervating\n"
     ]
    },
    {
     "name": "stdout",
     "output_type": "stream",
     "text": [
      "enfeebled\n"
     ]
    },
    {
     "name": "stdout",
     "output_type": "stream",
     "text": [
      "enfeebling\n"
     ]
    },
    {
     "name": "stdout",
     "output_type": "stream",
     "text": [
      "enfold\n"
     ]
    },
    {
     "name": "stdout",
     "output_type": "stream",
     "text": [
      "enforced\n"
     ]
    },
    {
     "name": "stdout",
     "output_type": "stream",
     "text": [
      "engaging\n"
     ]
    },
    {
     "name": "stdout",
     "output_type": "stream",
     "text": [
      "engendered\n"
     ]
    },
    {
     "name": "stdout",
     "output_type": "stream",
     "text": [
      "engrossed\n"
     ]
    },
    {
     "name": "stdout",
     "output_type": "stream",
     "text": [
      "engrossing\n"
     ]
    },
    {
     "name": "stdout",
     "output_type": "stream",
     "text": [
      "engulfed\n"
     ]
    },
    {
     "name": "stdout",
     "output_type": "stream",
     "text": [
      "engulfing\n"
     ]
    },
    {
     "name": "stdout",
     "output_type": "stream",
     "text": [
      "enhance\n"
     ]
    },
    {
     "name": "stdout",
     "output_type": "stream",
     "text": [
      "enhanced\n"
     ]
    },
    {
     "name": "stdout",
     "output_type": "stream",
     "text": [
      "enigma\n"
     ]
    },
    {
     "name": "stdout",
     "output_type": "stream",
     "text": [
      "enigmatical\n"
     ]
    },
    {
     "name": "stdout",
     "output_type": "stream",
     "text": [
      "enjoyment\n"
     ]
    },
    {
     "name": "stdout",
     "output_type": "stream",
     "text": [
      "enlarge\n"
     ]
    },
    {
     "name": "stdout",
     "output_type": "stream",
     "text": [
      "enlighten\n"
     ]
    },
    {
     "name": "stdout",
     "output_type": "stream",
     "text": [
      "enlightened\n"
     ]
    },
    {
     "name": "stdout",
     "output_type": "stream",
     "text": [
      "enlightenment\n"
     ]
    },
    {
     "name": "stdout",
     "output_type": "stream",
     "text": [
      "enlivened\n"
     ]
    },
    {
     "name": "stdout",
     "output_type": "stream",
     "text": [
      "enlivening\n"
     ]
    },
    {
     "name": "stdout",
     "output_type": "stream",
     "text": [
      "enmities\n"
     ]
    },
    {
     "name": "stdout",
     "output_type": "stream",
     "text": [
      "enmity\n"
     ]
    },
    {
     "name": "stdout",
     "output_type": "stream",
     "text": [
      "ennoble\n"
     ]
    },
    {
     "name": "stdout",
     "output_type": "stream",
     "text": [
      "ennobled\n"
     ]
    },
    {
     "name": "stdout",
     "output_type": "stream",
     "text": [
      "ennobling\n"
     ]
    },
    {
     "name": "stdout",
     "output_type": "stream",
     "text": [
      "enormity\n"
     ]
    },
    {
     "name": "stdout",
     "output_type": "stream",
     "text": [
      "enormous\n"
     ]
    },
    {
     "name": "stdout",
     "output_type": "stream",
     "text": [
      "enormously\n"
     ]
    },
    {
     "name": "stdout",
     "output_type": "stream",
     "text": [
      "enrage\n"
     ]
    },
    {
     "name": "stdout",
     "output_type": "stream",
     "text": [
      "enraptured\n"
     ]
    },
    {
     "name": "stdout",
     "output_type": "stream",
     "text": [
      "enrich\n"
     ]
    },
    {
     "name": "stdout",
     "output_type": "stream",
     "text": [
      "enriched\n"
     ]
    },
    {
     "name": "stdout",
     "output_type": "stream",
     "text": [
      "enshrined\n"
     ]
    },
    {
     "name": "stdout",
     "output_type": "stream",
     "text": [
      "enslave\n"
     ]
    },
    {
     "name": "stdout",
     "output_type": "stream",
     "text": [
      "enslaved\n"
     ]
    },
    {
     "name": "stdout",
     "output_type": "stream",
     "text": [
      "entangled\n"
     ]
    },
    {
     "name": "stdout",
     "output_type": "stream",
     "text": [
      "enterprise\n"
     ]
    },
    {
     "name": "stdout",
     "output_type": "stream",
     "text": [
      "enterprising\n"
     ]
    },
    {
     "name": "stdout",
     "output_type": "stream",
     "text": [
      "entertaining\n"
     ]
    },
    {
     "name": "stdout",
     "output_type": "stream",
     "text": [
      "enthralling\n"
     ]
    },
    {
     "name": "stdout",
     "output_type": "stream",
     "text": [
      "enthronement\n"
     ]
    },
    {
     "name": "stdout",
     "output_type": "stream",
     "text": [
      "enthusiasm\n"
     ]
    },
    {
     "name": "stdout",
     "output_type": "stream",
     "text": [
      "enthusiasms\n"
     ]
    },
    {
     "name": "stdout",
     "output_type": "stream",
     "text": [
      "enthusiast\n"
     ]
    },
    {
     "name": "stdout",
     "output_type": "stream",
     "text": [
      "enthusiastic\n"
     ]
    },
    {
     "name": "stdout",
     "output_type": "stream",
     "text": [
      "enticing\n"
     ]
    },
    {
     "name": "stdout",
     "output_type": "stream",
     "text": [
      "entire\n"
     ]
    },
    {
     "name": "stdout",
     "output_type": "stream",
     "text": [
      "entrancing\n"
     ]
    },
    {
     "name": "stdout",
     "output_type": "stream",
     "text": [
      "entreat\n"
     ]
    },
    {
     "name": "stdout",
     "output_type": "stream",
     "text": [
      "entreaty\n"
     ]
    },
    {
     "name": "stdout",
     "output_type": "stream",
     "text": [
      "enveloping\n"
     ]
    },
    {
     "name": "stdout",
     "output_type": "stream",
     "text": [
      "envenomed\n"
     ]
    },
    {
     "name": "stdout",
     "output_type": "stream",
     "text": [
      "enviable\n"
     ]
    },
    {
     "name": "stdout",
     "output_type": "stream",
     "text": [
      "envies\n"
     ]
    },
    {
     "name": "stdout",
     "output_type": "stream",
     "text": [
      "envious\n"
     ]
    },
    {
     "name": "stdout",
     "output_type": "stream",
     "text": [
      "environing\n"
     ]
    },
    {
     "name": "stdout",
     "output_type": "stream",
     "text": [
      "environment\n"
     ]
    },
    {
     "name": "stdout",
     "output_type": "stream",
     "text": [
      "envy\n"
     ]
    },
    {
     "name": "stdout",
     "output_type": "stream",
     "text": [
      "enwrap\n"
     ]
    },
    {
     "name": "stdout",
     "output_type": "stream",
     "text": [
      "ephemeral\n"
     ]
    },
    {
     "name": "stdout",
     "output_type": "stream",
     "text": [
      "epicurean\n"
     ]
    },
    {
     "name": "stdout",
     "output_type": "stream",
     "text": [
      "epigram\n"
     ]
    },
    {
     "name": "stdout",
     "output_type": "stream",
     "text": [
      "epigrammatic\n"
     ]
    },
    {
     "name": "stdout",
     "output_type": "stream",
     "text": [
      "episodes\n"
     ]
    },
    {
     "name": "stdout",
     "output_type": "stream",
     "text": [
      "epithet\n"
     ]
    },
    {
     "name": "stdout",
     "output_type": "stream",
     "text": [
      "epitomize\n"
     ]
    },
    {
     "name": "stdout",
     "output_type": "stream",
     "text": [
      "epoch\n"
     ]
    },
    {
     "name": "stdout",
     "output_type": "stream",
     "text": [
      "equable\n"
     ]
    },
    {
     "name": "stdout",
     "output_type": "stream",
     "text": [
      "equal\n"
     ]
    },
    {
     "name": "stdout",
     "output_type": "stream",
     "text": [
      "equality\n"
     ]
    },
    {
     "name": "stdout",
     "output_type": "stream",
     "text": [
      "equally\n"
     ]
    },
    {
     "name": "stdout",
     "output_type": "stream",
     "text": [
      "equanimity\n"
     ]
    },
    {
     "name": "stdout",
     "output_type": "stream",
     "text": [
      "equipment\n"
     ]
    },
    {
     "name": "stdout",
     "output_type": "stream",
     "text": [
      "equipoise\n"
     ]
    },
    {
     "name": "stdout",
     "output_type": "stream",
     "text": [
      "equitable\n"
     ]
    },
    {
     "name": "stdout",
     "output_type": "stream",
     "text": [
      "equitably\n"
     ]
    },
    {
     "name": "stdout",
     "output_type": "stream",
     "text": [
      "equity\n"
     ]
    },
    {
     "name": "stdout",
     "output_type": "stream",
     "text": [
      "equivalent\n"
     ]
    },
    {
     "name": "stdout",
     "output_type": "stream",
     "text": [
      "equivocal\n"
     ]
    },
    {
     "name": "stdout",
     "output_type": "stream",
     "text": [
      "equivocation\n"
     ]
    },
    {
     "name": "stdout",
     "output_type": "stream",
     "text": [
      "equivocations\n"
     ]
    },
    {
     "name": "stdout",
     "output_type": "stream",
     "text": [
      "era\n"
     ]
    },
    {
     "name": "stdout",
     "output_type": "stream",
     "text": [
      "eradicate\n"
     ]
    },
    {
     "name": "stdout",
     "output_type": "stream",
     "text": [
      "erect\n"
     ]
    },
    {
     "name": "stdout",
     "output_type": "stream",
     "text": [
      "erotic\n"
     ]
    },
    {
     "name": "stdout",
     "output_type": "stream",
     "text": [
      "errant\n"
     ]
    },
    {
     "name": "stdout",
     "output_type": "stream",
     "text": [
      "erratic\n"
     ]
    },
    {
     "name": "stdout",
     "output_type": "stream",
     "text": [
      "erring\n"
     ]
    },
    {
     "name": "stdout",
     "output_type": "stream",
     "text": [
      "erroneous\n"
     ]
    },
    {
     "name": "stdout",
     "output_type": "stream",
     "text": [
      "error\n"
     ]
    },
    {
     "name": "stdout",
     "output_type": "stream",
     "text": [
      "errors\n"
     ]
    },
    {
     "name": "stdout",
     "output_type": "stream",
     "text": [
      "erudite\n"
     ]
    },
    {
     "name": "stdout",
     "output_type": "stream",
     "text": [
      "eruptive\n"
     ]
    },
    {
     "name": "stdout",
     "output_type": "stream",
     "text": [
      "escapades\n"
     ]
    },
    {
     "name": "stdout",
     "output_type": "stream",
     "text": [
      "escutcheon\n"
     ]
    },
    {
     "name": "stdout",
     "output_type": "stream",
     "text": [
      "esoteric\n"
     ]
    },
    {
     "name": "stdout",
     "output_type": "stream",
     "text": [
      "especial\n"
     ]
    },
    {
     "name": "stdout",
     "output_type": "stream",
     "text": [
      "especially\n"
     ]
    },
    {
     "name": "stdout",
     "output_type": "stream",
     "text": [
      "espoused\n"
     ]
    },
    {
     "name": "stdout",
     "output_type": "stream",
     "text": [
      "essence\n"
     ]
    },
    {
     "name": "stdout",
     "output_type": "stream",
     "text": [
      "essential\n"
     ]
    },
    {
     "name": "stdout",
     "output_type": "stream",
     "text": [
      "essentially\n"
     ]
    },
    {
     "name": "stdout",
     "output_type": "stream",
     "text": [
      "establish\n"
     ]
    },
    {
     "name": "stdout",
     "output_type": "stream",
     "text": [
      "esteem\n"
     ]
    },
    {
     "name": "stdout",
     "output_type": "stream",
     "text": [
      "esthetic\n"
     ]
    },
    {
     "name": "stdout",
     "output_type": "stream",
     "text": [
      "estimable\n"
     ]
    },
    {
     "name": "stdout",
     "output_type": "stream",
     "text": [
      "estimate\n"
     ]
    },
    {
     "name": "stdout",
     "output_type": "stream",
     "text": [
      "estrangement\n"
     ]
    },
    {
     "name": "stdout",
     "output_type": "stream",
     "text": [
      "eternal\n"
     ]
    },
    {
     "name": "stdout",
     "output_type": "stream",
     "text": [
      "ethereal\n"
     ]
    },
    {
     "name": "stdout",
     "output_type": "stream",
     "text": [
      "ethical\n"
     ]
    },
    {
     "name": "stdout",
     "output_type": "stream",
     "text": [
      "eulogy\n"
     ]
    },
    {
     "name": "stdout",
     "output_type": "stream",
     "text": [
      "euphuistic\n"
     ]
    },
    {
     "name": "stdout",
     "output_type": "stream",
     "text": [
      "evade\n"
     ]
    },
    {
     "name": "stdout",
     "output_type": "stream",
     "text": [
      "evanescent\n"
     ]
    },
    {
     "name": "stdout",
     "output_type": "stream",
     "text": [
      "evangelic\n"
     ]
    },
    {
     "name": "stdout",
     "output_type": "stream",
     "text": [
      "evasion\n"
     ]
    },
    {
     "name": "stdout",
     "output_type": "stream",
     "text": [
      "evasive\n"
     ]
    },
    {
     "name": "stdout",
     "output_type": "stream",
     "text": [
      "eventful\n"
     ]
    },
    {
     "name": "stdout",
     "output_type": "stream",
     "text": [
      "events\n"
     ]
    },
    {
     "name": "stdout",
     "output_type": "stream",
     "text": [
      "eventual\n"
     ]
    },
    {
     "name": "stdout",
     "output_type": "stream",
     "text": [
      "ever\n"
     ]
    },
    {
     "name": "stdout",
     "output_type": "stream",
     "text": [
      "everlasting\n"
     ]
    },
    {
     "name": "stdout",
     "output_type": "stream",
     "text": [
      "everyday\n"
     ]
    },
    {
     "name": "stdout",
     "output_type": "stream",
     "text": [
      "evidence\n"
     ]
    },
    {
     "name": "stdout",
     "output_type": "stream",
     "text": [
      "evident\n"
     ]
    },
    {
     "name": "stdout",
     "output_type": "stream",
     "text": [
      "evil\n"
     ]
    },
    {
     "name": "stdout",
     "output_type": "stream",
     "text": [
      "eviscerating\n"
     ]
    },
    {
     "name": "stdout",
     "output_type": "stream",
     "text": [
      "exact\n"
     ]
    },
    {
     "name": "stdout",
     "output_type": "stream",
     "text": [
      "exacting\n"
     ]
    },
    {
     "name": "stdout",
     "output_type": "stream",
     "text": [
      "exactions\n"
     ]
    },
    {
     "name": "stdout",
     "output_type": "stream",
     "text": [
      "exactitude\n"
     ]
    },
    {
     "name": "stdout",
     "output_type": "stream",
     "text": [
      "exactness\n"
     ]
    },
    {
     "name": "stdout",
     "output_type": "stream",
     "text": [
      "exaggerate\n"
     ]
    },
    {
     "name": "stdout",
     "output_type": "stream",
     "text": [
      "exaggerated\n"
     ]
    },
    {
     "name": "stdout",
     "output_type": "stream",
     "text": [
      "exaggeration\n"
     ]
    },
    {
     "name": "stdout",
     "output_type": "stream",
     "text": [
      "exalt\n"
     ]
    },
    {
     "name": "stdout",
     "output_type": "stream",
     "text": [
      "exaltation\n"
     ]
    },
    {
     "name": "stdout",
     "output_type": "stream",
     "text": [
      "exalted\n"
     ]
    },
    {
     "name": "stdout",
     "output_type": "stream",
     "text": [
      "examination\n"
     ]
    },
    {
     "name": "stdout",
     "output_type": "stream",
     "text": [
      "examine\n"
     ]
    },
    {
     "name": "stdout",
     "output_type": "stream",
     "text": [
      "example\n"
     ]
    },
    {
     "name": "stdout",
     "output_type": "stream",
     "text": [
      "examples\n"
     ]
    },
    {
     "name": "stdout",
     "output_type": "stream",
     "text": [
      "exasperate\n"
     ]
    },
    {
     "name": "stdout",
     "output_type": "stream",
     "text": [
      "exasperating\n"
     ]
    },
    {
     "name": "stdout",
     "output_type": "stream",
     "text": [
      "exasperations\n"
     ]
    },
    {
     "name": "stdout",
     "output_type": "stream",
     "text": [
      "exceed\n"
     ]
    },
    {
     "name": "stdout",
     "output_type": "stream",
     "text": [
      "exceedingly\n"
     ]
    },
    {
     "name": "stdout",
     "output_type": "stream",
     "text": [
      "excellence\n"
     ]
    },
    {
     "name": "stdout",
     "output_type": "stream",
     "text": [
      "excellent\n"
     ]
    },
    {
     "name": "stdout",
     "output_type": "stream",
     "text": [
      "exception\n"
     ]
    },
    {
     "name": "stdout",
     "output_type": "stream",
     "text": [
      "exceptional\n"
     ]
    },
    {
     "name": "stdout",
     "output_type": "stream",
     "text": [
      "exceptions\n"
     ]
    },
    {
     "name": "stdout",
     "output_type": "stream",
     "text": [
      "excessive\n"
     ]
    },
    {
     "name": "stdout",
     "output_type": "stream",
     "text": [
      "excitable\n"
     ]
    },
    {
     "name": "stdout",
     "output_type": "stream",
     "text": [
      "excitement\n"
     ]
    },
    {
     "name": "stdout",
     "output_type": "stream",
     "text": [
      "excitements\n"
     ]
    },
    {
     "name": "stdout",
     "output_type": "stream",
     "text": [
      "exclamations\n"
     ]
    },
    {
     "name": "stdout",
     "output_type": "stream",
     "text": [
      "exclude\n"
     ]
    },
    {
     "name": "stdout",
     "output_type": "stream",
     "text": [
      "exclusive\n"
     ]
    },
    {
     "name": "stdout",
     "output_type": "stream",
     "text": [
      "exclusiveness\n"
     ]
    },
    {
     "name": "stdout",
     "output_type": "stream",
     "text": [
      "excrescence\n"
     ]
    },
    {
     "name": "stdout",
     "output_type": "stream",
     "text": [
      "excretory\n"
     ]
    },
    {
     "name": "stdout",
     "output_type": "stream",
     "text": [
      "excruciating\n"
     ]
    },
    {
     "name": "stdout",
     "output_type": "stream",
     "text": [
      "excursive\n"
     ]
    },
    {
     "name": "stdout",
     "output_type": "stream",
     "text": [
      "excusable\n"
     ]
    },
    {
     "name": "stdout",
     "output_type": "stream",
     "text": [
      "execrable\n"
     ]
    },
    {
     "name": "stdout",
     "output_type": "stream",
     "text": [
      "execration\n"
     ]
    },
    {
     "name": "stdout",
     "output_type": "stream",
     "text": [
      "executed\n"
     ]
    },
    {
     "name": "stdout",
     "output_type": "stream",
     "text": [
      "execution\n"
     ]
    },
    {
     "name": "stdout",
     "output_type": "stream",
     "text": [
      "executive\n"
     ]
    },
    {
     "name": "stdout",
     "output_type": "stream",
     "text": [
      "exegesis\n"
     ]
    },
    {
     "name": "stdout",
     "output_type": "stream",
     "text": [
      "exemplar\n"
     ]
    },
    {
     "name": "stdout",
     "output_type": "stream",
     "text": [
      "exemplary\n"
     ]
    },
    {
     "name": "stdout",
     "output_type": "stream",
     "text": [
      "exercise\n"
     ]
    },
    {
     "name": "stdout",
     "output_type": "stream",
     "text": [
      "exertion\n"
     ]
    },
    {
     "name": "stdout",
     "output_type": "stream",
     "text": [
      "exhausted\n"
     ]
    },
    {
     "name": "stdout",
     "output_type": "stream",
     "text": [
      "exhaustion\n"
     ]
    },
    {
     "name": "stdout",
     "output_type": "stream",
     "text": [
      "exhaustive\n"
     ]
    },
    {
     "name": "stdout",
     "output_type": "stream",
     "text": [
      "exhaustless\n"
     ]
    },
    {
     "name": "stdout",
     "output_type": "stream",
     "text": [
      "exhibition\n"
     ]
    },
    {
     "name": "stdout",
     "output_type": "stream",
     "text": [
      "exhilaratechiefly\n"
     ]
    },
    {
     "name": "stdout",
     "output_type": "stream",
     "text": [
      "exhilarated\n"
     ]
    },
    {
     "name": "stdout",
     "output_type": "stream",
     "text": [
      "exhilarating\n"
     ]
    },
    {
     "name": "stdout",
     "output_type": "stream",
     "text": [
      "exhortation\n"
     ]
    },
    {
     "name": "stdout",
     "output_type": "stream",
     "text": [
      "exigencies\n"
     ]
    },
    {
     "name": "stdout",
     "output_type": "stream",
     "text": [
      "exigency\n"
     ]
    },
    {
     "name": "stdout",
     "output_type": "stream",
     "text": [
      "exile\n"
     ]
    },
    {
     "name": "stdout",
     "output_type": "stream",
     "text": [
      "existence\n"
     ]
    },
    {
     "name": "stdout",
     "output_type": "stream",
     "text": [
      "exordium\n"
     ]
    },
    {
     "name": "stdout",
     "output_type": "stream",
     "text": [
      "exoteric\n"
     ]
    },
    {
     "name": "stdout",
     "output_type": "stream",
     "text": [
      "exotic\n"
     ]
    },
    {
     "name": "stdout",
     "output_type": "stream",
     "text": [
      "expansive\n"
     ]
    },
    {
     "name": "stdout",
     "output_type": "stream",
     "text": [
      "expectant\n"
     ]
    },
    {
     "name": "stdout",
     "output_type": "stream",
     "text": [
      "expectation\n"
     ]
    },
    {
     "name": "stdout",
     "output_type": "stream",
     "text": [
      "expectations\n"
     ]
    },
    {
     "name": "stdout",
     "output_type": "stream",
     "text": [
      "expediency\n"
     ]
    },
    {
     "name": "stdout",
     "output_type": "stream",
     "text": [
      "expedient\n"
     ]
    },
    {
     "name": "stdout",
     "output_type": "stream",
     "text": [
      "expeditionary\n"
     ]
    },
    {
     "name": "stdout",
     "output_type": "stream",
     "text": [
      "expeditious\n"
     ]
    },
    {
     "name": "stdout",
     "output_type": "stream",
     "text": [
      "expeditiously\n"
     ]
    },
    {
     "name": "stdout",
     "output_type": "stream",
     "text": [
      "expend\n"
     ]
    },
    {
     "name": "stdout",
     "output_type": "stream",
     "text": [
      "expenditure\n"
     ]
    },
    {
     "name": "stdout",
     "output_type": "stream",
     "text": [
      "expensive\n"
     ]
    },
    {
     "name": "stdout",
     "output_type": "stream",
     "text": [
      "experience\n"
     ]
    },
    {
     "name": "stdout",
     "output_type": "stream",
     "text": [
      "experienced\n"
     ]
    },
    {
     "name": "stdout",
     "output_type": "stream",
     "text": [
      "experiences\n"
     ]
    },
    {
     "name": "stdout",
     "output_type": "stream",
     "text": [
      "experiment\n"
     ]
    },
    {
     "name": "stdout",
     "output_type": "stream",
     "text": [
      "experimental\n"
     ]
    },
    {
     "name": "stdout",
     "output_type": "stream",
     "text": [
      "expert\n"
     ]
    },
    {
     "name": "stdout",
     "output_type": "stream",
     "text": [
      "expertness\n"
     ]
    },
    {
     "name": "stdout",
     "output_type": "stream",
     "text": [
      "expiatory\n"
     ]
    },
    {
     "name": "stdout",
     "output_type": "stream",
     "text": [
      "explain\n"
     ]
    },
    {
     "name": "stdout",
     "output_type": "stream",
     "text": [
      "explained\n"
     ]
    },
    {
     "name": "stdout",
     "output_type": "stream",
     "text": [
      "explanation\n"
     ]
    },
    {
     "name": "stdout",
     "output_type": "stream",
     "text": [
      "explicit\n"
     ]
    },
    {
     "name": "stdout",
     "output_type": "stream",
     "text": [
      "explorations\n"
     ]
    },
    {
     "name": "stdout",
     "output_type": "stream",
     "text": [
      "explore\n"
     ]
    },
    {
     "name": "stdout",
     "output_type": "stream",
     "text": [
      "explosive\n"
     ]
    },
    {
     "name": "stdout",
     "output_type": "stream",
     "text": [
      "exposition\n"
     ]
    },
    {
     "name": "stdout",
     "output_type": "stream",
     "text": [
      "exposure\n"
     ]
    },
    {
     "name": "stdout",
     "output_type": "stream",
     "text": [
      "expressed\n"
     ]
    },
    {
     "name": "stdout",
     "output_type": "stream",
     "text": [
      "expression\n"
     ]
    },
    {
     "name": "stdout",
     "output_type": "stream",
     "text": [
      "expressionless\n"
     ]
    },
    {
     "name": "stdout",
     "output_type": "stream",
     "text": [
      "expressions\n"
     ]
    },
    {
     "name": "stdout",
     "output_type": "stream",
     "text": [
      "expressive\n"
     ]
    },
    {
     "name": "stdout",
     "output_type": "stream",
     "text": [
      "exquisite\n"
     ]
    },
    {
     "name": "stdout",
     "output_type": "stream",
     "text": [
      "extemporaneous\n"
     ]
    },
    {
     "name": "stdout",
     "output_type": "stream",
     "text": [
      "extend\n"
     ]
    },
    {
     "name": "stdout",
     "output_type": "stream",
     "text": [
      "extended\n"
     ]
    },
    {
     "name": "stdout",
     "output_type": "stream",
     "text": [
      "extension\n"
     ]
    },
    {
     "name": "stdout",
     "output_type": "stream",
     "text": [
      "extent\n"
     ]
    },
    {
     "name": "stdout",
     "output_type": "stream",
     "text": [
      "extenuating\n"
     ]
    },
    {
     "name": "stdout",
     "output_type": "stream",
     "text": [
      "exterior\n"
     ]
    },
    {
     "name": "stdout",
     "output_type": "stream",
     "text": [
      "exterminate\n"
     ]
    },
    {
     "name": "stdout",
     "output_type": "stream",
     "text": [
      "external\n"
     ]
    },
    {
     "name": "stdout",
     "output_type": "stream",
     "text": [
      "extinction\n"
     ]
    },
    {
     "name": "stdout",
     "output_type": "stream",
     "text": [
      "extirpate\n"
     ]
    },
    {
     "name": "stdout",
     "output_type": "stream",
     "text": [
      "extol\n"
     ]
    },
    {
     "name": "stdout",
     "output_type": "stream",
     "text": [
      "extortion\n"
     ]
    },
    {
     "name": "stdout",
     "output_type": "stream",
     "text": [
      "extraneous\n"
     ]
    },
    {
     "name": "stdout",
     "output_type": "stream",
     "text": [
      "extraordinary\n"
     ]
    },
    {
     "name": "stdout",
     "output_type": "stream",
     "text": [
      "extravagance\n"
     ]
    },
    {
     "name": "stdout",
     "output_type": "stream",
     "text": [
      "extravagant\n"
     ]
    },
    {
     "name": "stdout",
     "output_type": "stream",
     "text": [
      "extreme\n"
     ]
    },
    {
     "name": "stdout",
     "output_type": "stream",
     "text": [
      "extremely\n"
     ]
    },
    {
     "name": "stdout",
     "output_type": "stream",
     "text": [
      "exuberance\n"
     ]
    },
    {
     "name": "stdout",
     "output_type": "stream",
     "text": [
      "exuberant\n"
     ]
    },
    {
     "name": "stdout",
     "output_type": "stream",
     "text": [
      "exuberantly\n"
     ]
    },
    {
     "name": "stdout",
     "output_type": "stream",
     "text": [
      "exultant\n"
     ]
    },
    {
     "name": "stdout",
     "output_type": "stream",
     "text": [
      "exultations\n"
     ]
    },
    {
     "name": "stdout",
     "output_type": "stream",
     "text": [
      "eye\n"
     ]
    },
    {
     "name": "stdout",
     "output_type": "stream",
     "text": [
      "eyes\n"
     ]
    },
    {
     "name": "stdout",
     "output_type": "stream",
     "text": [
      "fables\n"
     ]
    },
    {
     "name": "stdout",
     "output_type": "stream",
     "text": [
      "fabricate\n"
     ]
    },
    {
     "name": "stdout",
     "output_type": "stream",
     "text": [
      "fabricated\n"
     ]
    },
    {
     "name": "stdout",
     "output_type": "stream",
     "text": [
      "fabrication\n"
     ]
    },
    {
     "name": "stdout",
     "output_type": "stream",
     "text": [
      "fabulous\n"
     ]
    },
    {
     "name": "stdout",
     "output_type": "stream",
     "text": [
      "face\n"
     ]
    },
    {
     "name": "stdout",
     "output_type": "stream",
     "text": [
      "facetious\n"
     ]
    },
    {
     "name": "stdout",
     "output_type": "stream",
     "text": [
      "facile\n"
     ]
    },
    {
     "name": "stdout",
     "output_type": "stream",
     "text": [
      "facility\n"
     ]
    },
    {
     "name": "stdout",
     "output_type": "stream",
     "text": [
      "factitious\n"
     ]
    },
    {
     "name": "stdout",
     "output_type": "stream",
     "text": [
      "factor\n"
     ]
    },
    {
     "name": "stdout",
     "output_type": "stream",
     "text": [
      "facts\n"
     ]
    },
    {
     "name": "stdout",
     "output_type": "stream",
     "text": [
      "faculties\n"
     ]
    },
    {
     "name": "stdout",
     "output_type": "stream",
     "text": [
      "faculty\n"
     ]
    },
    {
     "name": "stdout",
     "output_type": "stream",
     "text": [
      "faded\n"
     ]
    },
    {
     "name": "stdout",
     "output_type": "stream",
     "text": [
      "fads\n"
     ]
    },
    {
     "name": "stdout",
     "output_type": "stream",
     "text": [
      "fagged\n"
     ]
    },
    {
     "name": "stdout",
     "output_type": "stream",
     "text": [
      "failure\n"
     ]
    },
    {
     "name": "stdout",
     "output_type": "stream",
     "text": [
      "failures\n"
     ]
    },
    {
     "name": "stdout",
     "output_type": "stream",
     "text": [
      "faint\n"
     ]
    },
    {
     "name": "stdout",
     "output_type": "stream",
     "text": [
      "faintly\n"
     ]
    },
    {
     "name": "stdout",
     "output_type": "stream",
     "text": [
      "fair\n"
     ]
    },
    {
     "name": "stdout",
     "output_type": "stream",
     "text": [
      "fairies\n"
     ]
    },
    {
     "name": "stdout",
     "output_type": "stream",
     "text": [
      "faith\n"
     ]
    },
    {
     "name": "stdout",
     "output_type": "stream",
     "text": [
      "faithful\n"
     ]
    },
    {
     "name": "stdout",
     "output_type": "stream",
     "text": [
      "faithfully\n"
     ]
    },
    {
     "name": "stdout",
     "output_type": "stream",
     "text": [
      "faithfulness\n"
     ]
    },
    {
     "name": "stdout",
     "output_type": "stream",
     "text": [
      "fallacious\n"
     ]
    },
    {
     "name": "stdout",
     "output_type": "stream",
     "text": [
      "fallacy\n"
     ]
    },
    {
     "name": "stdout",
     "output_type": "stream",
     "text": [
      "fallibility\n"
     ]
    },
    {
     "name": "stdout",
     "output_type": "stream",
     "text": [
      "false\n"
     ]
    },
    {
     "name": "stdout",
     "output_type": "stream",
     "text": [
      "falsehood\n"
     ]
    },
    {
     "name": "stdout",
     "output_type": "stream",
     "text": [
      "falsehoods\n"
     ]
    },
    {
     "name": "stdout",
     "output_type": "stream",
     "text": [
      "falsification\n"
     ]
    },
    {
     "name": "stdout",
     "output_type": "stream",
     "text": [
      "faltering\n"
     ]
    },
    {
     "name": "stdout",
     "output_type": "stream",
     "text": [
      "fame\n"
     ]
    },
    {
     "name": "stdout",
     "output_type": "stream",
     "text": [
      "familiar\n"
     ]
    },
    {
     "name": "stdout",
     "output_type": "stream",
     "text": [
      "familiarities\n"
     ]
    },
    {
     "name": "stdout",
     "output_type": "stream",
     "text": [
      "familiarity\n"
     ]
    },
    {
     "name": "stdout",
     "output_type": "stream",
     "text": [
      "famine\n"
     ]
    },
    {
     "name": "stdout",
     "output_type": "stream",
     "text": [
      "famished\n"
     ]
    },
    {
     "name": "stdout",
     "output_type": "stream",
     "text": [
      "famous\n"
     ]
    },
    {
     "name": "stdout",
     "output_type": "stream",
     "text": [
      "fanatic\n"
     ]
    },
    {
     "name": "stdout",
     "output_type": "stream",
     "text": [
      "fanatical\n"
     ]
    },
    {
     "name": "stdout",
     "output_type": "stream",
     "text": [
      "fanaticism\n"
     ]
    },
    {
     "name": "stdout",
     "output_type": "stream",
     "text": [
      "fancies\n"
     ]
    },
    {
     "name": "stdout",
     "output_type": "stream",
     "text": [
      "fanciful\n"
     ]
    },
    {
     "name": "stdout",
     "output_type": "stream",
     "text": [
      "fancy\n"
     ]
    },
    {
     "name": "stdout",
     "output_type": "stream",
     "text": [
      "fantastic\n"
     ]
    },
    {
     "name": "stdout",
     "output_type": "stream",
     "text": [
      "fantasy\n"
     ]
    },
    {
     "name": "stdout",
     "output_type": "stream",
     "text": [
      "far-reaching\n"
     ]
    },
    {
     "name": "stdout",
     "output_type": "stream",
     "text": [
      "far-sightedness\n"
     ]
    },
    {
     "name": "stdout",
     "output_type": "stream",
     "text": [
      "farce\n"
     ]
    },
    {
     "name": "stdout",
     "output_type": "stream",
     "text": [
      "farcical\n"
     ]
    },
    {
     "name": "stdout",
     "output_type": "stream",
     "text": [
      "fascinate\n"
     ]
    },
    {
     "name": "stdout",
     "output_type": "stream",
     "text": [
      "fascinating\n"
     ]
    },
    {
     "name": "stdout",
     "output_type": "stream",
     "text": [
      "fascination\n"
     ]
    },
    {
     "name": "stdout",
     "output_type": "stream",
     "text": [
      "fashion\n"
     ]
    },
    {
     "name": "stdout",
     "output_type": "stream",
     "text": [
      "fashioned\n"
     ]
    },
    {
     "name": "stdout",
     "output_type": "stream",
     "text": [
      "fashions\n"
     ]
    },
    {
     "name": "stdout",
     "output_type": "stream",
     "text": [
      "fastidious\n"
     ]
    },
    {
     "name": "stdout",
     "output_type": "stream",
     "text": [
      "fastidiousness\n"
     ]
    },
    {
     "name": "stdout",
     "output_type": "stream",
     "text": [
      "fat\n"
     ]
    },
    {
     "name": "stdout",
     "output_type": "stream",
     "text": [
      "fatal\n"
     ]
    },
    {
     "name": "stdout",
     "output_type": "stream",
     "text": [
      "fatalistic\n"
     ]
    },
    {
     "name": "stdout",
     "output_type": "stream",
     "text": [
      "fate\n"
     ]
    },
    {
     "name": "stdout",
     "output_type": "stream",
     "text": [
      "fathomless\n"
     ]
    },
    {
     "name": "stdout",
     "output_type": "stream",
     "text": [
      "fatigue\n"
     ]
    },
    {
     "name": "stdout",
     "output_type": "stream",
     "text": [
      "fatigued\n"
     ]
    },
    {
     "name": "stdout",
     "output_type": "stream",
     "text": [
      "fatiguing\n"
     ]
    },
    {
     "name": "stdout",
     "output_type": "stream",
     "text": [
      "fattening\n"
     ]
    },
    {
     "name": "stdout",
     "output_type": "stream",
     "text": [
      "fatuity\n"
     ]
    },
    {
     "name": "stdout",
     "output_type": "stream",
     "text": [
      "fatuous\n"
     ]
    },
    {
     "name": "stdout",
     "output_type": "stream",
     "text": [
      "faultless\n"
     ]
    },
    {
     "name": "stdout",
     "output_type": "stream",
     "text": [
      "faults\n"
     ]
    },
    {
     "name": "stdout",
     "output_type": "stream",
     "text": [
      "faulty\n"
     ]
    },
    {
     "name": "stdout",
     "output_type": "stream",
     "text": [
      "favor\n"
     ]
    },
    {
     "name": "stdout",
     "output_type": "stream",
     "text": [
      "favorable\n"
     ]
    },
    {
     "name": "stdout",
     "output_type": "stream",
     "text": [
      "favors\n"
     ]
    },
    {
     "name": "stdout",
     "output_type": "stream",
     "text": [
      "fawning\n"
     ]
    },
    {
     "name": "stdout",
     "output_type": "stream",
     "text": [
      "fear\n"
     ]
    },
    {
     "name": "stdout",
     "output_type": "stream",
     "text": [
      "fearful\n"
     ]
    },
    {
     "name": "stdout",
     "output_type": "stream",
     "text": [
      "fearless\n"
     ]
    },
    {
     "name": "stdout",
     "output_type": "stream",
     "text": [
      "fearlessness\n"
     ]
    },
    {
     "name": "stdout",
     "output_type": "stream",
     "text": [
      "fears\n"
     ]
    },
    {
     "name": "stdout",
     "output_type": "stream",
     "text": [
      "feasible\n"
     ]
    },
    {
     "name": "stdout",
     "output_type": "stream",
     "text": [
      "feature\n"
     ]
    },
    {
     "name": "stdout",
     "output_type": "stream",
     "text": [
      "features\n"
     ]
    },
    {
     "name": "stdout",
     "output_type": "stream",
     "text": [
      "fecundity\n"
     ]
    },
    {
     "name": "stdout",
     "output_type": "stream",
     "text": [
      "feeble\n"
     ]
    },
    {
     "name": "stdout",
     "output_type": "stream",
     "text": [
      "feebleness\n"
     ]
    },
    {
     "name": "stdout",
     "output_type": "stream",
     "text": [
      "feeling\n"
     ]
    },
    {
     "name": "stdout",
     "output_type": "stream",
     "text": [
      "feelings\n"
     ]
    },
    {
     "name": "stdout",
     "output_type": "stream",
     "text": [
      "feigned\n"
     ]
    },
    {
     "name": "stdout",
     "output_type": "stream",
     "text": [
      "felicitous\n"
     ]
    },
    {
     "name": "stdout",
     "output_type": "stream",
     "text": [
      "felicity\n"
     ]
    },
    {
     "name": "stdout",
     "output_type": "stream",
     "text": [
      "feminine\n"
     ]
    },
    {
     "name": "stdout",
     "output_type": "stream",
     "text": [
      "ferocious\n"
     ]
    },
    {
     "name": "stdout",
     "output_type": "stream",
     "text": [
      "ferocity\n"
     ]
    },
    {
     "name": "stdout",
     "output_type": "stream",
     "text": [
      "fertile\n"
     ]
    },
    {
     "name": "stdout",
     "output_type": "stream",
     "text": [
      "fertility\n"
     ]
    },
    {
     "name": "stdout",
     "output_type": "stream",
     "text": [
      "fervent\n"
     ]
    },
    {
     "name": "stdout",
     "output_type": "stream",
     "text": [
      "fervently\n"
     ]
    },
    {
     "name": "stdout",
     "output_type": "stream",
     "text": [
      "fervid\n"
     ]
    },
    {
     "name": "stdout",
     "output_type": "stream",
     "text": [
      "fervor\n"
     ]
    },
    {
     "name": "stdout",
     "output_type": "stream",
     "text": [
      "festive\n"
     ]
    },
    {
     "name": "stdout",
     "output_type": "stream",
     "text": [
      "feted\n"
     ]
    },
    {
     "name": "stdout",
     "output_type": "stream",
     "text": [
      "fetid\n"
     ]
    },
    {
     "name": "stdout",
     "output_type": "stream",
     "text": [
      "fetish\n"
     ]
    },
    {
     "name": "stdout",
     "output_type": "stream",
     "text": [
      "fettered\n"
     ]
    },
    {
     "name": "stdout",
     "output_type": "stream",
     "text": [
      "feverish\n"
     ]
    },
    {
     "name": "stdout",
     "output_type": "stream",
     "text": [
      "feverishly\n"
     ]
    },
    {
     "name": "stdout",
     "output_type": "stream",
     "text": [
      "fiber\n"
     ]
    },
    {
     "name": "stdout",
     "output_type": "stream",
     "text": [
      "fibs\n"
     ]
    },
    {
     "name": "stdout",
     "output_type": "stream",
     "text": [
      "fickle\n"
     ]
    },
    {
     "name": "stdout",
     "output_type": "stream",
     "text": [
      "fickleness\n"
     ]
    },
    {
     "name": "stdout",
     "output_type": "stream",
     "text": [
      "fiction\n"
     ]
    },
    {
     "name": "stdout",
     "output_type": "stream",
     "text": [
      "fictitious\n"
     ]
    },
    {
     "name": "stdout",
     "output_type": "stream",
     "text": [
      "fidelity\n"
     ]
    },
    {
     "name": "stdout",
     "output_type": "stream",
     "text": [
      "fidgety\n"
     ]
    },
    {
     "name": "stdout",
     "output_type": "stream",
     "text": [
      "fierce\n"
     ]
    },
    {
     "name": "stdout",
     "output_type": "stream",
     "text": [
      "fiery\n"
     ]
    },
    {
     "name": "stdout",
     "output_type": "stream",
     "text": [
      "figurative\n"
     ]
    },
    {
     "name": "stdout",
     "output_type": "stream",
     "text": [
      "figure\n"
     ]
    },
    {
     "name": "stdout",
     "output_type": "stream",
     "text": [
      "figures\n"
     ]
    },
    {
     "name": "stdout",
     "output_type": "stream",
     "text": [
      "filaments\n"
     ]
    },
    {
     "name": "stdout",
     "output_type": "stream",
     "text": [
      "filial\n"
     ]
    },
    {
     "name": "stdout",
     "output_type": "stream",
     "text": [
      "final\n"
     ]
    },
    {
     "name": "stdout",
     "output_type": "stream",
     "text": [
      "finality\n"
     ]
    },
    {
     "name": "stdout",
     "output_type": "stream",
     "text": [
      "fine\n"
     ]
    },
    {
     "name": "stdout",
     "output_type": "stream",
     "text": [
      "fineness\n"
     ]
    },
    {
     "name": "stdout",
     "output_type": "stream",
     "text": [
      "finical\n"
     ]
    },
    {
     "name": "stdout",
     "output_type": "stream",
     "text": [
      "finish\n"
     ]
    },
    {
     "name": "stdout",
     "output_type": "stream",
     "text": [
      "finished\n"
     ]
    },
    {
     "name": "stdout",
     "output_type": "stream",
     "text": [
      "fire\n"
     ]
    },
    {
     "name": "stdout",
     "output_type": "stream",
     "text": [
      "fires\n"
     ]
    },
    {
     "name": "stdout",
     "output_type": "stream",
     "text": [
      "fireside\n"
     ]
    },
    {
     "name": "stdout",
     "output_type": "stream",
     "text": [
      "firm\n"
     ]
    },
    {
     "name": "stdout",
     "output_type": "stream",
     "text": [
      "firmness\n"
     ]
    },
    {
     "name": "stdout",
     "output_type": "stream",
     "text": [
      "first\n"
     ]
    },
    {
     "name": "stdout",
     "output_type": "stream",
     "text": [
      "fitful\n"
     ]
    },
    {
     "name": "stdout",
     "output_type": "stream",
     "text": [
      "fitness\n"
     ]
    },
    {
     "name": "stdout",
     "output_type": "stream",
     "text": [
      "fitting\n"
     ]
    },
    {
     "name": "stdout",
     "output_type": "stream",
     "text": [
      "fixity\n"
     ]
    },
    {
     "name": "stdout",
     "output_type": "stream",
     "text": [
      "fizzing\n"
     ]
    },
    {
     "name": "stdout",
     "output_type": "stream",
     "text": [
      "flaccid\n"
     ]
    },
    {
     "name": "stdout",
     "output_type": "stream",
     "text": [
      "flagging\n"
     ]
    },
    {
     "name": "stdout",
     "output_type": "stream",
     "text": [
      "flagitious\n"
     ]
    },
    {
     "name": "stdout",
     "output_type": "stream",
     "text": [
      "flagrant\n"
     ]
    },
    {
     "name": "stdout",
     "output_type": "stream",
     "text": [
      "flamboyant\n"
     ]
    },
    {
     "name": "stdout",
     "output_type": "stream",
     "text": [
      "flame\n"
     ]
    },
    {
     "name": "stdout",
     "output_type": "stream",
     "text": [
      "flaming\n"
     ]
    },
    {
     "name": "stdout",
     "output_type": "stream",
     "text": [
      "flare\n"
     ]
    },
    {
     "name": "stdout",
     "output_type": "stream",
     "text": [
      "flash\n"
     ]
    },
    {
     "name": "stdout",
     "output_type": "stream",
     "text": [
      "flashing\n"
     ]
    },
    {
     "name": "stdout",
     "output_type": "stream",
     "text": [
      "flat\n"
     ]
    },
    {
     "name": "stdout",
     "output_type": "stream",
     "text": [
      "flatness\n"
     ]
    },
    {
     "name": "stdout",
     "output_type": "stream",
     "text": [
      "flatter\n"
     ]
    },
    {
     "name": "stdout",
     "output_type": "stream",
     "text": [
      "flattered\n"
     ]
    },
    {
     "name": "stdout",
     "output_type": "stream",
     "text": [
      "flatterer\n"
     ]
    },
    {
     "name": "stdout",
     "output_type": "stream",
     "text": [
      "flatteries\n"
     ]
    },
    {
     "name": "stdout",
     "output_type": "stream",
     "text": [
      "flattering\n"
     ]
    },
    {
     "name": "stdout",
     "output_type": "stream",
     "text": [
      "flattery\n"
     ]
    },
    {
     "name": "stdout",
     "output_type": "stream",
     "text": [
      "flaunting\n"
     ]
    },
    {
     "name": "stdout",
     "output_type": "stream",
     "text": [
      "flawless\n"
     ]
    },
    {
     "name": "stdout",
     "output_type": "stream",
     "text": [
      "fleecy\n"
     ]
    },
    {
     "name": "stdout",
     "output_type": "stream",
     "text": [
      "fleeting\n"
     ]
    },
    {
     "name": "stdout",
     "output_type": "stream",
     "text": [
      "flexible\n"
     ]
    },
    {
     "name": "stdout",
     "output_type": "stream",
     "text": [
      "flicker\n"
     ]
    },
    {
     "name": "stdout",
     "output_type": "stream",
     "text": [
      "flickering\n"
     ]
    },
    {
     "name": "stdout",
     "output_type": "stream",
     "text": [
      "flight\n"
     ]
    },
    {
     "name": "stdout",
     "output_type": "stream",
     "text": [
      "flights\n"
     ]
    },
    {
     "name": "stdout",
     "output_type": "stream",
     "text": [
      "flighty\n"
     ]
    },
    {
     "name": "stdout",
     "output_type": "stream",
     "text": [
      "flimsiness\n"
     ]
    },
    {
     "name": "stdout",
     "output_type": "stream",
     "text": [
      "flimsy\n"
     ]
    },
    {
     "name": "stdout",
     "output_type": "stream",
     "text": [
      "flippancy\n"
     ]
    },
    {
     "name": "stdout",
     "output_type": "stream",
     "text": [
      "flippant\n"
     ]
    },
    {
     "name": "stdout",
     "output_type": "stream",
     "text": [
      "flit\n"
     ]
    },
    {
     "name": "stdout",
     "output_type": "stream",
     "text": [
      "floating\n"
     ]
    },
    {
     "name": "stdout",
     "output_type": "stream",
     "text": [
      "florescence\n"
     ]
    },
    {
     "name": "stdout",
     "output_type": "stream",
     "text": [
      "florid\n"
     ]
    },
    {
     "name": "stdout",
     "output_type": "stream",
     "text": [
      "flotsam\n"
     ]
    },
    {
     "name": "stdout",
     "output_type": "stream",
     "text": [
      "flourish\n"
     ]
    },
    {
     "name": "stdout",
     "output_type": "stream",
     "text": [
      "flow\n"
     ]
    },
    {
     "name": "stdout",
     "output_type": "stream",
     "text": [
      "flowered\n"
     ]
    },
    {
     "name": "stdout",
     "output_type": "stream",
     "text": [
      "flowery\n"
     ]
    },
    {
     "name": "stdout",
     "output_type": "stream",
     "text": [
      "flowing\n"
     ]
    },
    {
     "name": "stdout",
     "output_type": "stream",
     "text": [
      "fluctuating\n"
     ]
    },
    {
     "name": "stdout",
     "output_type": "stream",
     "text": [
      "fluency\n"
     ]
    },
    {
     "name": "stdout",
     "output_type": "stream",
     "text": [
      "fluent\n"
     ]
    },
    {
     "name": "stdout",
     "output_type": "stream",
     "text": [
      "fluffy\n"
     ]
    },
    {
     "name": "stdout",
     "output_type": "stream",
     "text": [
      "fluid\n"
     ]
    },
    {
     "name": "stdout",
     "output_type": "stream",
     "text": [
      "flushed\n"
     ]
    },
    {
     "name": "stdout",
     "output_type": "stream",
     "text": [
      "fluttering\n"
     ]
    },
    {
     "name": "stdout",
     "output_type": "stream",
     "text": [
      "focus\n"
     ]
    },
    {
     "name": "stdout",
     "output_type": "stream",
     "text": [
      "focused\n"
     ]
    },
    {
     "name": "stdout",
     "output_type": "stream",
     "text": [
      "foe\n"
     ]
    },
    {
     "name": "stdout",
     "output_type": "stream",
     "text": [
      "foggy\n"
     ]
    },
    {
     "name": "stdout",
     "output_type": "stream",
     "text": [
      "fogs\n"
     ]
    },
    {
     "name": "stdout",
     "output_type": "stream",
     "text": [
      "foibles\n"
     ]
    },
    {
     "name": "stdout",
     "output_type": "stream",
     "text": [
      "foiled\n"
     ]
    },
    {
     "name": "stdout",
     "output_type": "stream",
     "text": [
      "foliage\n"
     ]
    },
    {
     "name": "stdout",
     "output_type": "stream",
     "text": [
      "follies\n"
     ]
    },
    {
     "name": "stdout",
     "output_type": "stream",
     "text": [
      "folly\n"
     ]
    },
    {
     "name": "stdout",
     "output_type": "stream",
     "text": [
      "fond\n"
     ]
    },
    {
     "name": "stdout",
     "output_type": "stream",
     "text": [
      "foolhardy\n"
     ]
    },
    {
     "name": "stdout",
     "output_type": "stream",
     "text": [
      "foolish\n"
     ]
    },
    {
     "name": "stdout",
     "output_type": "stream",
     "text": [
      "foolishness\n"
     ]
    },
    {
     "name": "stdout",
     "output_type": "stream",
     "text": [
      "fools\n"
     ]
    },
    {
     "name": "stdout",
     "output_type": "stream",
     "text": [
      "footing\n"
     ]
    },
    {
     "name": "stdout",
     "output_type": "stream",
     "text": [
      "footsteps\n"
     ]
    },
    {
     "name": "stdout",
     "output_type": "stream",
     "text": [
      "fop\n"
     ]
    },
    {
     "name": "stdout",
     "output_type": "stream",
     "text": [
      "forbearance\n"
     ]
    },
    {
     "name": "stdout",
     "output_type": "stream",
     "text": [
      "forbearing\n"
     ]
    },
    {
     "name": "stdout",
     "output_type": "stream",
     "text": [
      "forbidding\n"
     ]
    },
    {
     "name": "stdout",
     "output_type": "stream",
     "text": [
      "force\n"
     ]
    },
    {
     "name": "stdout",
     "output_type": "stream",
     "text": [
      "forceful\n"
     ]
    },
    {
     "name": "stdout",
     "output_type": "stream",
     "text": [
      "forcefulness\n"
     ]
    },
    {
     "name": "stdout",
     "output_type": "stream",
     "text": [
      "forcible\n"
     ]
    },
    {
     "name": "stdout",
     "output_type": "stream",
     "text": [
      "forebodings\n"
     ]
    },
    {
     "name": "stdout",
     "output_type": "stream",
     "text": [
      "forecast\n"
     ]
    },
    {
     "name": "stdout",
     "output_type": "stream",
     "text": [
      "foregone\n"
     ]
    },
    {
     "name": "stdout",
     "output_type": "stream",
     "text": [
      "foreland\n"
     ]
    },
    {
     "name": "stdout",
     "output_type": "stream",
     "text": [
      "foremost\n"
     ]
    },
    {
     "name": "stdout",
     "output_type": "stream",
     "text": [
      "forensic\n"
     ]
    },
    {
     "name": "stdout",
     "output_type": "stream",
     "text": [
      "forerunner\n"
     ]
    },
    {
     "name": "stdout",
     "output_type": "stream",
     "text": [
      "foresight\n"
     ]
    },
    {
     "name": "stdout",
     "output_type": "stream",
     "text": [
      "forest\n"
     ]
    },
    {
     "name": "stdout",
     "output_type": "stream",
     "text": [
      "forfeit\n"
     ]
    },
    {
     "name": "stdout",
     "output_type": "stream",
     "text": [
      "forfeiture\n"
     ]
    },
    {
     "name": "stdout",
     "output_type": "stream",
     "text": [
      "forgiveness\n"
     ]
    },
    {
     "name": "stdout",
     "output_type": "stream",
     "text": [
      "forgotten\n"
     ]
    },
    {
     "name": "stdout",
     "output_type": "stream",
     "text": [
      "forlorn\n"
     ]
    },
    {
     "name": "stdout",
     "output_type": "stream",
     "text": [
      "forlornness\n"
     ]
    },
    {
     "name": "stdout",
     "output_type": "stream",
     "text": [
      "form\n"
     ]
    },
    {
     "name": "stdout",
     "output_type": "stream",
     "text": [
      "formal\n"
     ]
    },
    {
     "name": "stdout",
     "output_type": "stream",
     "text": [
      "formalities\n"
     ]
    },
    {
     "name": "stdout",
     "output_type": "stream",
     "text": [
      "formality\n"
     ]
    },
    {
     "name": "stdout",
     "output_type": "stream",
     "text": [
      "formidable\n"
     ]
    },
    {
     "name": "stdout",
     "output_type": "stream",
     "text": [
      "formless\n"
     ]
    },
    {
     "name": "stdout",
     "output_type": "stream",
     "text": [
      "formlessness\n"
     ]
    },
    {
     "name": "stdout",
     "output_type": "stream",
     "text": [
      "forms\n"
     ]
    },
    {
     "name": "stdout",
     "output_type": "stream",
     "text": [
      "formula\n"
     ]
    },
    {
     "name": "stdout",
     "output_type": "stream",
     "text": [
      "formulated\n"
     ]
    },
    {
     "name": "stdout",
     "output_type": "stream",
     "text": [
      "fortified\n"
     ]
    },
    {
     "name": "stdout",
     "output_type": "stream",
     "text": [
      "fortitude\n"
     ]
    },
    {
     "name": "stdout",
     "output_type": "stream",
     "text": [
      "fortress\n"
     ]
    },
    {
     "name": "stdout",
     "output_type": "stream",
     "text": [
      "fortuitous\n"
     ]
    },
    {
     "name": "stdout",
     "output_type": "stream",
     "text": [
      "fortunate\n"
     ]
    },
    {
     "name": "stdout",
     "output_type": "stream",
     "text": [
      "fortune\n"
     ]
    },
    {
     "name": "stdout",
     "output_type": "stream",
     "text": [
      "forward\n"
     ]
    },
    {
     "name": "stdout",
     "output_type": "stream",
     "text": [
      "foster\n"
     ]
    },
    {
     "name": "stdout",
     "output_type": "stream",
     "text": [
      "fostered\n"
     ]
    },
    {
     "name": "stdout",
     "output_type": "stream",
     "text": [
      "foul\n"
     ]
    },
    {
     "name": "stdout",
     "output_type": "stream",
     "text": [
      "foundation\n"
     ]
    },
    {
     "name": "stdout",
     "output_type": "stream",
     "text": [
      "fragile\n"
     ]
    },
    {
     "name": "stdout",
     "output_type": "stream",
     "text": [
      "fragmentary\n"
     ]
    },
    {
     "name": "stdout",
     "output_type": "stream",
     "text": [
      "fragments\n"
     ]
    },
    {
     "name": "stdout",
     "output_type": "stream",
     "text": [
      "fragrance\n"
     ]
    },
    {
     "name": "stdout",
     "output_type": "stream",
     "text": [
      "fragrant\n"
     ]
    },
    {
     "name": "stdout",
     "output_type": "stream",
     "text": [
      "frail\n"
     ]
    },
    {
     "name": "stdout",
     "output_type": "stream",
     "text": [
      "frailties\n"
     ]
    },
    {
     "name": "stdout",
     "output_type": "stream",
     "text": [
      "frank\n"
     ]
    },
    {
     "name": "stdout",
     "output_type": "stream",
     "text": [
      "frankly\n"
     ]
    },
    {
     "name": "stdout",
     "output_type": "stream",
     "text": [
      "frankness\n"
     ]
    },
    {
     "name": "stdout",
     "output_type": "stream",
     "text": [
      "frantic\n"
     ]
    },
    {
     "name": "stdout",
     "output_type": "stream",
     "text": [
      "fraternal\n"
     ]
    },
    {
     "name": "stdout",
     "output_type": "stream",
     "text": [
      "frauds\n"
     ]
    },
    {
     "name": "stdout",
     "output_type": "stream",
     "text": [
      "fraudulent\n"
     ]
    },
    {
     "name": "stdout",
     "output_type": "stream",
     "text": [
      "freakish\n"
     ]
    },
    {
     "name": "stdout",
     "output_type": "stream",
     "text": [
      "free\n"
     ]
    },
    {
     "name": "stdout",
     "output_type": "stream",
     "text": [
      "freeborn\n"
     ]
    },
    {
     "name": "stdout",
     "output_type": "stream",
     "text": [
      "freedom\n"
     ]
    },
    {
     "name": "stdout",
     "output_type": "stream",
     "text": [
      "freely\n"
     ]
    },
    {
     "name": "stdout",
     "output_type": "stream",
     "text": [
      "freezing\n"
     ]
    },
    {
     "name": "stdout",
     "output_type": "stream",
     "text": [
      "frenzied\n"
     ]
    },
    {
     "name": "stdout",
     "output_type": "stream",
     "text": [
      "frenzy\n"
     ]
    },
    {
     "name": "stdout",
     "output_type": "stream",
     "text": [
      "frequent\n"
     ]
    },
    {
     "name": "stdout",
     "output_type": "stream",
     "text": [
      "fresh\n"
     ]
    },
    {
     "name": "stdout",
     "output_type": "stream",
     "text": [
      "freshening\n"
     ]
    },
    {
     "name": "stdout",
     "output_type": "stream",
     "text": [
      "freshness\n"
     ]
    },
    {
     "name": "stdout",
     "output_type": "stream",
     "text": [
      "fretful\n"
     ]
    },
    {
     "name": "stdout",
     "output_type": "stream",
     "text": [
      "fretfulness\n"
     ]
    },
    {
     "name": "stdout",
     "output_type": "stream",
     "text": [
      "friend\n"
     ]
    },
    {
     "name": "stdout",
     "output_type": "stream",
     "text": [
      "friendless\n"
     ]
    },
    {
     "name": "stdout",
     "output_type": "stream",
     "text": [
      "friendliness\n"
     ]
    },
    {
     "name": "stdout",
     "output_type": "stream",
     "text": [
      "friendly\n"
     ]
    },
    {
     "name": "stdout",
     "output_type": "stream",
     "text": [
      "friendship\n"
     ]
    },
    {
     "name": "stdout",
     "output_type": "stream",
     "text": [
      "frightened\n"
     ]
    },
    {
     "name": "stdout",
     "output_type": "stream",
     "text": [
      "frightful\n"
     ]
    },
    {
     "name": "stdout",
     "output_type": "stream",
     "text": [
      "frigid\n"
     ]
    },
    {
     "name": "stdout",
     "output_type": "stream",
     "text": [
      "fripperies\n"
     ]
    },
    {
     "name": "stdout",
     "output_type": "stream",
     "text": [
      "frisky\n"
     ]
    },
    {
     "name": "stdout",
     "output_type": "stream",
     "text": [
      "frivolities\n"
     ]
    },
    {
     "name": "stdout",
     "output_type": "stream",
     "text": [
      "frivolity\n"
     ]
    },
    {
     "name": "stdout",
     "output_type": "stream",
     "text": [
      "frivolous\n"
     ]
    },
    {
     "name": "stdout",
     "output_type": "stream",
     "text": [
      "frolicsome\n"
     ]
    },
    {
     "name": "stdout",
     "output_type": "stream",
     "text": [
      "froth\n"
     ]
    },
    {
     "name": "stdout",
     "output_type": "stream",
     "text": [
      "frozen\n"
     ]
    },
    {
     "name": "stdout",
     "output_type": "stream",
     "text": [
      "fructifying\n"
     ]
    },
    {
     "name": "stdout",
     "output_type": "stream",
     "text": [
      "frugal\n"
     ]
    },
    {
     "name": "stdout",
     "output_type": "stream",
     "text": [
      "fruitage\n"
     ]
    },
    {
     "name": "stdout",
     "output_type": "stream",
     "text": [
      "fruitful\n"
     ]
    },
    {
     "name": "stdout",
     "output_type": "stream",
     "text": [
      "fruitless\n"
     ]
    },
    {
     "name": "stdout",
     "output_type": "stream",
     "text": [
      "frustrate\n"
     ]
    },
    {
     "name": "stdout",
     "output_type": "stream",
     "text": [
      "frustrated\n"
     ]
    },
    {
     "name": "stdout",
     "output_type": "stream",
     "text": [
      "fuddled\n"
     ]
    },
    {
     "name": "stdout",
     "output_type": "stream",
     "text": [
      "fugitive\n"
     ]
    },
    {
     "name": "stdout",
     "output_type": "stream",
     "text": [
      "full\n"
     ]
    },
    {
     "name": "stdout",
     "output_type": "stream",
     "text": [
      "fullness\n"
     ]
    },
    {
     "name": "stdout",
     "output_type": "stream",
     "text": [
      "fully\n"
     ]
    },
    {
     "name": "stdout",
     "output_type": "stream",
     "text": [
      "fulsome\n"
     ]
    },
    {
     "name": "stdout",
     "output_type": "stream",
     "text": [
      "fumble\n"
     ]
    },
    {
     "name": "stdout",
     "output_type": "stream",
     "text": [
      "fumbling\n"
     ]
    },
    {
     "name": "stdout",
     "output_type": "stream",
     "text": [
      "fuming\n"
     ]
    },
    {
     "name": "stdout",
     "output_type": "stream",
     "text": [
      "fun\n"
     ]
    },
    {
     "name": "stdout",
     "output_type": "stream",
     "text": [
      "function\n"
     ]
    },
    {
     "name": "stdout",
     "output_type": "stream",
     "text": [
      "functional\n"
     ]
    },
    {
     "name": "stdout",
     "output_type": "stream",
     "text": [
      "functions\n"
     ]
    },
    {
     "name": "stdout",
     "output_type": "stream",
     "text": [
      "fundamental\n"
     ]
    },
    {
     "name": "stdout",
     "output_type": "stream",
     "text": [
      "funereal\n"
     ]
    },
    {
     "name": "stdout",
     "output_type": "stream",
     "text": [
      "furious\n"
     ]
    },
    {
     "name": "stdout",
     "output_type": "stream",
     "text": [
      "furiously\n"
     ]
    },
    {
     "name": "stdout",
     "output_type": "stream",
     "text": [
      "furrowed\n"
     ]
    },
    {
     "name": "stdout",
     "output_type": "stream",
     "text": [
      "furthering\n"
     ]
    },
    {
     "name": "stdout",
     "output_type": "stream",
     "text": [
      "furtive\n"
     ]
    },
    {
     "name": "stdout",
     "output_type": "stream",
     "text": [
      "fury\n"
     ]
    },
    {
     "name": "stdout",
     "output_type": "stream",
     "text": [
      "fussing\n"
     ]
    },
    {
     "name": "stdout",
     "output_type": "stream",
     "text": [
      "fussy\n"
     ]
    },
    {
     "name": "stdout",
     "output_type": "stream",
     "text": [
      "fustian\n"
     ]
    },
    {
     "name": "stdout",
     "output_type": "stream",
     "text": [
      "futile\n"
     ]
    },
    {
     "name": "stdout",
     "output_type": "stream",
     "text": [
      "futility\n"
     ]
    },
    {
     "name": "stdout",
     "output_type": "stream",
     "text": [
      "gabbling\n"
     ]
    },
    {
     "name": "stdout",
     "output_type": "stream",
     "text": [
      "gaiety\n"
     ]
    },
    {
     "name": "stdout",
     "output_type": "stream",
     "text": [
      "gait\n"
     ]
    },
    {
     "name": "stdout",
     "output_type": "stream",
     "text": [
      "gallant\n"
     ]
    },
    {
     "name": "stdout",
     "output_type": "stream",
     "text": [
      "gallantry\n"
     ]
    },
    {
     "name": "stdout",
     "output_type": "stream",
     "text": [
      "galling\n"
     ]
    },
    {
     "name": "stdout",
     "output_type": "stream",
     "text": [
      "gallop\n"
     ]
    },
    {
     "name": "stdout",
     "output_type": "stream",
     "text": [
      "galvanic\n"
     ]
    },
    {
     "name": "stdout",
     "output_type": "stream",
     "text": [
      "gambols\n"
     ]
    },
    {
     "name": "stdout",
     "output_type": "stream",
     "text": [
      "gaping\n"
     ]
    },
    {
     "name": "stdout",
     "output_type": "stream",
     "text": [
      "garb\n"
     ]
    },
    {
     "name": "stdout",
     "output_type": "stream",
     "text": [
      "garbled\n"
     ]
    },
    {
     "name": "stdout",
     "output_type": "stream",
     "text": [
      "garbling\n"
     ]
    },
    {
     "name": "stdout",
     "output_type": "stream",
     "text": [
      "garden\n"
     ]
    },
    {
     "name": "stdout",
     "output_type": "stream",
     "text": [
      "garish\n"
     ]
    },
    {
     "name": "stdout",
     "output_type": "stream",
     "text": [
      "garnered\n"
     ]
    },
    {
     "name": "stdout",
     "output_type": "stream",
     "text": [
      "garnish\n"
     ]
    },
    {
     "name": "stdout",
     "output_type": "stream",
     "text": [
      "garrulity\n"
     ]
    },
    {
     "name": "stdout",
     "output_type": "stream",
     "text": [
      "garrulous\n"
     ]
    },
    {
     "name": "stdout",
     "output_type": "stream",
     "text": [
      "gasp\n"
     ]
    },
    {
     "name": "stdout",
     "output_type": "stream",
     "text": [
      "gather\n"
     ]
    },
    {
     "name": "stdout",
     "output_type": "stream",
     "text": [
      "gathering\n"
     ]
    },
    {
     "name": "stdout",
     "output_type": "stream",
     "text": [
      "gaudy\n"
     ]
    },
    {
     "name": "stdout",
     "output_type": "stream",
     "text": [
      "gaunt\n"
     ]
    },
    {
     "name": "stdout",
     "output_type": "stream",
     "text": [
      "gay\n"
     ]
    },
    {
     "name": "stdout",
     "output_type": "stream",
     "text": [
      "gaze\n"
     ]
    },
    {
     "name": "stdout",
     "output_type": "stream",
     "text": [
      "genealogy\n"
     ]
    },
    {
     "name": "stdout",
     "output_type": "stream",
     "text": [
      "general\n"
     ]
    },
    {
     "name": "stdout",
     "output_type": "stream",
     "text": [
      "generalities\n"
     ]
    },
    {
     "name": "stdout",
     "output_type": "stream",
     "text": [
      "generalization\n"
     ]
    },
    {
     "name": "stdout",
     "output_type": "stream",
     "text": [
      "generations\n"
     ]
    },
    {
     "name": "stdout",
     "output_type": "stream",
     "text": [
      "generative\n"
     ]
    },
    {
     "name": "stdout",
     "output_type": "stream",
     "text": [
      "generic\n"
     ]
    },
    {
     "name": "stdout",
     "output_type": "stream",
     "text": [
      "generosity\n"
     ]
    },
    {
     "name": "stdout",
     "output_type": "stream",
     "text": [
      "generous\n"
     ]
    },
    {
     "name": "stdout",
     "output_type": "stream",
     "text": [
      "genial\n"
     ]
    },
    {
     "name": "stdout",
     "output_type": "stream",
     "text": [
      "genius\n"
     ]
    },
    {
     "name": "stdout",
     "output_type": "stream",
     "text": [
      "genteel\n"
     ]
    },
    {
     "name": "stdout",
     "output_type": "stream",
     "text": [
      "gentility\n"
     ]
    },
    {
     "name": "stdout",
     "output_type": "stream",
     "text": [
      "gentle\n"
     ]
    },
    {
     "name": "stdout",
     "output_type": "stream",
     "text": [
      "gentlemanly\n"
     ]
    },
    {
     "name": "stdout",
     "output_type": "stream",
     "text": [
      "genuine\n"
     ]
    },
    {
     "name": "stdout",
     "output_type": "stream",
     "text": [
      "genuineness\n"
     ]
    },
    {
     "name": "stdout",
     "output_type": "stream",
     "text": [
      "geological\n"
     ]
    },
    {
     "name": "stdout",
     "output_type": "stream",
     "text": [
      "geometrical\n"
     ]
    },
    {
     "name": "stdout",
     "output_type": "stream",
     "text": [
      "germ\n"
     ]
    },
    {
     "name": "stdout",
     "output_type": "stream",
     "text": [
      "germinal\n"
     ]
    },
    {
     "name": "stdout",
     "output_type": "stream",
     "text": [
      "germinate\n"
     ]
    },
    {
     "name": "stdout",
     "output_type": "stream",
     "text": [
      "gesticulation\n"
     ]
    },
    {
     "name": "stdout",
     "output_type": "stream",
     "text": [
      "gesticulations\n"
     ]
    },
    {
     "name": "stdout",
     "output_type": "stream",
     "text": [
      "gesture\n"
     ]
    },
    {
     "name": "stdout",
     "output_type": "stream",
     "text": [
      "gestures\n"
     ]
    },
    {
     "name": "stdout",
     "output_type": "stream",
     "text": [
      "ghastliness\n"
     ]
    },
    {
     "name": "stdout",
     "output_type": "stream",
     "text": [
      "ghastly\n"
     ]
    },
    {
     "name": "stdout",
     "output_type": "stream",
     "text": [
      "ghostly\n"
     ]
    },
    {
     "name": "stdout",
     "output_type": "stream",
     "text": [
      "ghosts\n"
     ]
    },
    {
     "name": "stdout",
     "output_type": "stream",
     "text": [
      "giant\n"
     ]
    },
    {
     "name": "stdout",
     "output_type": "stream",
     "text": [
      "gibberish\n"
     ]
    },
    {
     "name": "stdout",
     "output_type": "stream",
     "text": [
      "gibe\n"
     ]
    },
    {
     "name": "stdout",
     "output_type": "stream",
     "text": [
      "gibes\n"
     ]
    },
    {
     "name": "stdout",
     "output_type": "stream",
     "text": [
      "giddy\n"
     ]
    },
    {
     "name": "stdout",
     "output_type": "stream",
     "text": [
      "gift\n"
     ]
    },
    {
     "name": "stdout",
     "output_type": "stream",
     "text": [
      "gifted\n"
     ]
    },
    {
     "name": "stdout",
     "output_type": "stream",
     "text": [
      "gifts\n"
     ]
    },
    {
     "name": "stdout",
     "output_type": "stream",
     "text": [
      "gigantic\n"
     ]
    },
    {
     "name": "stdout",
     "output_type": "stream",
     "text": [
      "girded\n"
     ]
    },
    {
     "name": "stdout",
     "output_type": "stream",
     "text": [
      "girlhood\n"
     ]
    },
    {
     "name": "stdout",
     "output_type": "stream",
     "text": [
      "girlish\n"
     ]
    },
    {
     "name": "stdout",
     "output_type": "stream",
     "text": [
      "gladdening\n"
     ]
    },
    {
     "name": "stdout",
     "output_type": "stream",
     "text": [
      "gladiatorial\n"
     ]
    },
    {
     "name": "stdout",
     "output_type": "stream",
     "text": [
      "gladness\n"
     ]
    },
    {
     "name": "stdout",
     "output_type": "stream",
     "text": [
      "gladsome\n"
     ]
    },
    {
     "name": "stdout",
     "output_type": "stream",
     "text": [
      "glamour\n"
     ]
    },
    {
     "name": "stdout",
     "output_type": "stream",
     "text": [
      "glance\n"
     ]
    },
    {
     "name": "stdout",
     "output_type": "stream",
     "text": [
      "glances\n"
     ]
    },
    {
     "name": "stdout",
     "output_type": "stream",
     "text": [
      "glare\n"
     ]
    },
    {
     "name": "stdout",
     "output_type": "stream",
     "text": [
      "glaring\n"
     ]
    },
    {
     "name": "stdout",
     "output_type": "stream",
     "text": [
      "glassy\n"
     ]
    },
    {
     "name": "stdout",
     "output_type": "stream",
     "text": [
      "gleam\n"
     ]
    },
    {
     "name": "stdout",
     "output_type": "stream",
     "text": [
      "gleaming\n"
     ]
    },
    {
     "name": "stdout",
     "output_type": "stream",
     "text": [
      "glean\n"
     ]
    },
    {
     "name": "stdout",
     "output_type": "stream",
     "text": [
      "gleeful\n"
     ]
    },
    {
     "name": "stdout",
     "output_type": "stream",
     "text": [
      "glib\n"
     ]
    },
    {
     "name": "stdout",
     "output_type": "stream",
     "text": [
      "glibly\n"
     ]
    },
    {
     "name": "stdout",
     "output_type": "stream",
     "text": [
      "gliding\n"
     ]
    },
    {
     "name": "stdout",
     "output_type": "stream",
     "text": [
      "glimmer\n"
     ]
    },
    {
     "name": "stdout",
     "output_type": "stream",
     "text": [
      "glimmering\n"
     ]
    },
    {
     "name": "stdout",
     "output_type": "stream",
     "text": [
      "glistening\n"
     ]
    },
    {
     "name": "stdout",
     "output_type": "stream",
     "text": [
      "glitter\n"
     ]
    },
    {
     "name": "stdout",
     "output_type": "stream",
     "text": [
      "glittering\n"
     ]
    },
    {
     "name": "stdout",
     "output_type": "stream",
     "text": [
      "gloom\n"
     ]
    },
    {
     "name": "stdout",
     "output_type": "stream",
     "text": [
      "gloomy\n"
     ]
    },
    {
     "name": "stdout",
     "output_type": "stream",
     "text": [
      "glories\n"
     ]
    },
    {
     "name": "stdout",
     "output_type": "stream",
     "text": [
      "glorious\n"
     ]
    },
    {
     "name": "stdout",
     "output_type": "stream",
     "text": [
      "glory\n"
     ]
    },
    {
     "name": "stdout",
     "output_type": "stream",
     "text": [
      "glossed\n"
     ]
    },
    {
     "name": "stdout",
     "output_type": "stream",
     "text": [
      "glow\n"
     ]
    },
    {
     "name": "stdout",
     "output_type": "stream",
     "text": [
      "glowering\n"
     ]
    },
    {
     "name": "stdout",
     "output_type": "stream",
     "text": [
      "glowing\n"
     ]
    },
    {
     "name": "stdout",
     "output_type": "stream",
     "text": [
      "glum\n"
     ]
    },
    {
     "name": "stdout",
     "output_type": "stream",
     "text": [
      "glut\n"
     ]
    },
    {
     "name": "stdout",
     "output_type": "stream",
     "text": [
      "gnawing\n"
     ]
    },
    {
     "name": "stdout",
     "output_type": "stream",
     "text": [
      "godlike\n"
     ]
    },
    {
     "name": "stdout",
     "output_type": "stream",
     "text": [
      "golden\n"
     ]
    },
    {
     "name": "stdout",
     "output_type": "stream",
     "text": [
      "good\n"
     ]
    },
    {
     "name": "stdout",
     "output_type": "stream",
     "text": [
      "good-humored\n"
     ]
    },
    {
     "name": "stdout",
     "output_type": "stream",
     "text": [
      "good-will\n"
     ]
    },
    {
     "name": "stdout",
     "output_type": "stream",
     "text": [
      "goodness\n"
     ]
    },
    {
     "name": "stdout",
     "output_type": "stream",
     "text": [
      "goodwill\n"
     ]
    },
    {
     "name": "stdout",
     "output_type": "stream",
     "text": [
      "gorge\n"
     ]
    },
    {
     "name": "stdout",
     "output_type": "stream",
     "text": [
      "gorgeous\n"
     ]
    },
    {
     "name": "stdout",
     "output_type": "stream",
     "text": [
      "gorgeousness\n"
     ]
    },
    {
     "name": "stdout",
     "output_type": "stream",
     "text": [
      "gossip\n"
     ]
    },
    {
     "name": "stdout",
     "output_type": "stream",
     "text": [
      "gossiping\n"
     ]
    },
    {
     "name": "stdout",
     "output_type": "stream",
     "text": [
      "gossipy\n"
     ]
    },
    {
     "name": "stdout",
     "output_type": "stream",
     "text": [
      "govern\n"
     ]
    },
    {
     "name": "stdout",
     "output_type": "stream",
     "text": [
      "governed\n"
     ]
    },
    {
     "name": "stdout",
     "output_type": "stream",
     "text": [
      "governing\n"
     ]
    },
    {
     "name": "stdout",
     "output_type": "stream",
     "text": [
      "government\n"
     ]
    },
    {
     "name": "stdout",
     "output_type": "stream",
     "text": [
      "grab\n"
     ]
    },
    {
     "name": "stdout",
     "output_type": "stream",
     "text": [
      "grace\n"
     ]
    },
    {
     "name": "stdout",
     "output_type": "stream",
     "text": [
      "graceful\n"
     ]
    },
    {
     "name": "stdout",
     "output_type": "stream",
     "text": [
      "gracefulness\n"
     ]
    },
    {
     "name": "stdout",
     "output_type": "stream",
     "text": [
      "graces\n"
     ]
    },
    {
     "name": "stdout",
     "output_type": "stream",
     "text": [
      "gracious\n"
     ]
    },
    {
     "name": "stdout",
     "output_type": "stream",
     "text": [
      "graciously\n"
     ]
    },
    {
     "name": "stdout",
     "output_type": "stream",
     "text": [
      "gradations\n"
     ]
    },
    {
     "name": "stdout",
     "output_type": "stream",
     "text": [
      "gradual\n"
     ]
    },
    {
     "name": "stdout",
     "output_type": "stream",
     "text": [
      "graduated\n"
     ]
    },
    {
     "name": "stdout",
     "output_type": "stream",
     "text": [
      "graft\n"
     ]
    },
    {
     "name": "stdout",
     "output_type": "stream",
     "text": [
      "grand\n"
     ]
    },
    {
     "name": "stdout",
     "output_type": "stream",
     "text": [
      "grandeur\n"
     ]
    },
    {
     "name": "stdout",
     "output_type": "stream",
     "text": [
      "grandiose\n"
     ]
    },
    {
     "name": "stdout",
     "output_type": "stream",
     "text": [
      "graphic\n"
     ]
    },
    {
     "name": "stdout",
     "output_type": "stream",
     "text": [
      "grasp\n"
     ]
    },
    {
     "name": "stdout",
     "output_type": "stream",
     "text": [
      "grasping\n"
     ]
    },
    {
     "name": "stdout",
     "output_type": "stream",
     "text": [
      "gratification\n"
     ]
    },
    {
     "name": "stdout",
     "output_type": "stream",
     "text": [
      "gratitude\n"
     ]
    },
    {
     "name": "stdout",
     "output_type": "stream",
     "text": [
      "gratuitous\n"
     ]
    },
    {
     "name": "stdout",
     "output_type": "stream",
     "text": [
      "grave\n"
     ]
    },
    {
     "name": "stdout",
     "output_type": "stream",
     "text": [
      "graveyard\n"
     ]
    },
    {
     "name": "stdout",
     "output_type": "stream",
     "text": [
      "graveyards\n"
     ]
    },
    {
     "name": "stdout",
     "output_type": "stream",
     "text": [
      "gravity\n"
     ]
    },
    {
     "name": "stdout",
     "output_type": "stream",
     "text": [
      "gray\n"
     ]
    },
    {
     "name": "stdout",
     "output_type": "stream",
     "text": [
      "grayness\n"
     ]
    },
    {
     "name": "stdout",
     "output_type": "stream",
     "text": [
      "great\n"
     ]
    },
    {
     "name": "stdout",
     "output_type": "stream",
     "text": [
      "greatness\n"
     ]
    },
    {
     "name": "stdout",
     "output_type": "stream",
     "text": [
      "greed\n"
     ]
    },
    {
     "name": "stdout",
     "output_type": "stream",
     "text": [
      "greedy\n"
     ]
    },
    {
     "name": "stdout",
     "output_type": "stream",
     "text": [
      "greeting\n"
     ]
    },
    {
     "name": "stdout",
     "output_type": "stream",
     "text": [
      "gregarious\n"
     ]
    },
    {
     "name": "stdout",
     "output_type": "stream",
     "text": [
      "grief\n"
     ]
    },
    {
     "name": "stdout",
     "output_type": "stream",
     "text": [
      "grievance\n"
     ]
    },
    {
     "name": "stdout",
     "output_type": "stream",
     "text": [
      "grievously\n"
     ]
    },
    {
     "name": "stdout",
     "output_type": "stream",
     "text": [
      "grim\n"
     ]
    },
    {
     "name": "stdout",
     "output_type": "stream",
     "text": [
      "grimace\n"
     ]
    },
    {
     "name": "stdout",
     "output_type": "stream",
     "text": [
      "grimaces\n"
     ]
    },
    {
     "name": "stdout",
     "output_type": "stream",
     "text": [
      "grinding\n"
     ]
    },
    {
     "name": "stdout",
     "output_type": "stream",
     "text": [
      "grinning\n"
     ]
    },
    {
     "name": "stdout",
     "output_type": "stream",
     "text": [
      "griping\n"
     ]
    },
    {
     "name": "stdout",
     "output_type": "stream",
     "text": [
      "grizzled\n"
     ]
    },
    {
     "name": "stdout",
     "output_type": "stream",
     "text": [
      "grope\n"
     ]
    },
    {
     "name": "stdout",
     "output_type": "stream",
     "text": [
      "gross\n"
     ]
    },
    {
     "name": "stdout",
     "output_type": "stream",
     "text": [
      "grossness\n"
     ]
    },
    {
     "name": "stdout",
     "output_type": "stream",
     "text": [
      "grotesque\n"
     ]
    },
    {
     "name": "stdout",
     "output_type": "stream",
     "text": [
      "ground\n"
     ]
    },
    {
     "name": "stdout",
     "output_type": "stream",
     "text": [
      "groundless\n"
     ]
    },
    {
     "name": "stdout",
     "output_type": "stream",
     "text": [
      "grouped\n"
     ]
    },
    {
     "name": "stdout",
     "output_type": "stream",
     "text": [
      "groveling\n"
     ]
    },
    {
     "name": "stdout",
     "output_type": "stream",
     "text": [
      "growing\n"
     ]
    },
    {
     "name": "stdout",
     "output_type": "stream",
     "text": [
      "growth\n"
     ]
    },
    {
     "name": "stdout",
     "output_type": "stream",
     "text": [
      "grudging\n"
     ]
    },
    {
     "name": "stdout",
     "output_type": "stream",
     "text": [
      "gruff\n"
     ]
    },
    {
     "name": "stdout",
     "output_type": "stream",
     "text": [
      "grumbling\n"
     ]
    },
    {
     "name": "stdout",
     "output_type": "stream",
     "text": [
      "guarantees\n"
     ]
    },
    {
     "name": "stdout",
     "output_type": "stream",
     "text": [
      "guard\n"
     ]
    },
    {
     "name": "stdout",
     "output_type": "stream",
     "text": [
      "guesses\n"
     ]
    },
    {
     "name": "stdout",
     "output_type": "stream",
     "text": [
      "guidance\n"
     ]
    },
    {
     "name": "stdout",
     "output_type": "stream",
     "text": [
      "guide\n"
     ]
    },
    {
     "name": "stdout",
     "output_type": "stream",
     "text": [
      "guileless\n"
     ]
    },
    {
     "name": "stdout",
     "output_type": "stream",
     "text": [
      "gulf\n"
     ]
    },
    {
     "name": "stdout",
     "output_type": "stream",
     "text": [
      "gullible\n"
     ]
    },
    {
     "name": "stdout",
     "output_type": "stream",
     "text": [
      "gurgling\n"
     ]
    },
    {
     "name": "stdout",
     "output_type": "stream",
     "text": [
      "gush\n"
     ]
    },
    {
     "name": "stdout",
     "output_type": "stream",
     "text": [
      "gushing\n"
     ]
    },
    {
     "name": "stdout",
     "output_type": "stream",
     "text": [
      "gusto\n"
     ]
    },
    {
     "name": "stdout",
     "output_type": "stream",
     "text": [
      "gusty\n"
     ]
    },
    {
     "name": "stdout",
     "output_type": "stream",
     "text": [
      "guttural\n"
     ]
    },
    {
     "name": "stdout",
     "output_type": "stream",
     "text": [
      "gymnastic\n"
     ]
    },
    {
     "name": "stdout",
     "output_type": "stream",
     "text": [
      "habit\n"
     ]
    },
    {
     "name": "stdout",
     "output_type": "stream",
     "text": [
      "habits\n"
     ]
    },
    {
     "name": "stdout",
     "output_type": "stream",
     "text": [
      "habitual\n"
     ]
    },
    {
     "name": "stdout",
     "output_type": "stream",
     "text": [
      "habitually\n"
     ]
    },
    {
     "name": "stdout",
     "output_type": "stream",
     "text": [
      "hackneyed\n"
     ]
    },
    {
     "name": "stdout",
     "output_type": "stream",
     "text": [
      "haggard\n"
     ]
    },
    {
     "name": "stdout",
     "output_type": "stream",
     "text": [
      "hairbreadth\n"
     ]
    },
    {
     "name": "stdout",
     "output_type": "stream",
     "text": [
      "halcyon\n"
     ]
    },
    {
     "name": "stdout",
     "output_type": "stream",
     "text": [
      "hale\n"
     ]
    },
    {
     "name": "stdout",
     "output_type": "stream",
     "text": [
      "hallowed\n"
     ]
    },
    {
     "name": "stdout",
     "output_type": "stream",
     "text": [
      "hallucinations\n"
     ]
    },
    {
     "name": "stdout",
     "output_type": "stream",
     "text": [
      "halting\n"
     ]
    },
    {
     "name": "stdout",
     "output_type": "stream",
     "text": [
      "hampered\n"
     ]
    },
    {
     "name": "stdout",
     "output_type": "stream",
     "text": [
      "hand\n"
     ]
    },
    {
     "name": "stdout",
     "output_type": "stream",
     "text": [
      "handicap\n"
     ]
    },
    {
     "name": "stdout",
     "output_type": "stream",
     "text": [
      "handicraft\n"
     ]
    },
    {
     "name": "stdout",
     "output_type": "stream",
     "text": [
      "handsome\n"
     ]
    },
    {
     "name": "stdout",
     "output_type": "stream",
     "text": [
      "handsomely\n"
     ]
    },
    {
     "name": "stdout",
     "output_type": "stream",
     "text": [
      "haphazard\n"
     ]
    },
    {
     "name": "stdout",
     "output_type": "stream",
     "text": [
      "happiness\n"
     ]
    },
    {
     "name": "stdout",
     "output_type": "stream",
     "text": [
      "happy\n"
     ]
    },
    {
     "name": "stdout",
     "output_type": "stream",
     "text": [
      "harangues\n"
     ]
    },
    {
     "name": "stdout",
     "output_type": "stream",
     "text": [
      "harass\n"
     ]
    },
    {
     "name": "stdout",
     "output_type": "stream",
     "text": [
      "harassing\n"
     ]
    },
    {
     "name": "stdout",
     "output_type": "stream",
     "text": [
      "hard\n"
     ]
    },
    {
     "name": "stdout",
     "output_type": "stream",
     "text": [
      "hard-working\n"
     ]
    },
    {
     "name": "stdout",
     "output_type": "stream",
     "text": [
      "harden\n"
     ]
    },
    {
     "name": "stdout",
     "output_type": "stream",
     "text": [
      "hardened\n"
     ]
    },
    {
     "name": "stdout",
     "output_type": "stream",
     "text": [
      "hardihood\n"
     ]
    },
    {
     "name": "stdout",
     "output_type": "stream",
     "text": [
      "hardship\n"
     ]
    },
    {
     "name": "stdout",
     "output_type": "stream",
     "text": [
      "hardships\n"
     ]
    },
    {
     "name": "stdout",
     "output_type": "stream",
     "text": [
      "harmful\n"
     ]
    },
    {
     "name": "stdout",
     "output_type": "stream",
     "text": [
      "harmless\n"
     ]
    },
    {
     "name": "stdout",
     "output_type": "stream",
     "text": [
      "harmonious\n"
     ]
    },
    {
     "name": "stdout",
     "output_type": "stream",
     "text": [
      "harmonize\n"
     ]
    },
    {
     "name": "stdout",
     "output_type": "stream",
     "text": [
      "harmony\n"
     ]
    },
    {
     "name": "stdout",
     "output_type": "stream",
     "text": [
      "harrowing\n"
     ]
    },
    {
     "name": "stdout",
     "output_type": "stream",
     "text": [
      "harsh\n"
     ]
    },
    {
     "name": "stdout",
     "output_type": "stream",
     "text": [
      "harvest\n"
     ]
    },
    {
     "name": "stdout",
     "output_type": "stream",
     "text": [
      "haste\n"
     ]
    },
    {
     "name": "stdout",
     "output_type": "stream",
     "text": [
      "hasty\n"
     ]
    },
    {
     "name": "stdout",
     "output_type": "stream",
     "text": [
      "hate\n"
     ]
    },
    {
     "name": "stdout",
     "output_type": "stream",
     "text": [
      "hateful\n"
     ]
    },
    {
     "name": "stdout",
     "output_type": "stream",
     "text": [
      "hatred\n"
     ]
    },
    {
     "name": "stdout",
     "output_type": "stream",
     "text": [
      "haughtiness\n"
     ]
    },
    {
     "name": "stdout",
     "output_type": "stream",
     "text": [
      "haughty\n"
     ]
    },
    {
     "name": "stdout",
     "output_type": "stream",
     "text": [
      "haunting\n"
     ]
    },
    {
     "name": "stdout",
     "output_type": "stream",
     "text": [
      "hauteur\n"
     ]
    },
    {
     "name": "stdout",
     "output_type": "stream",
     "text": [
      "hazard\n"
     ]
    },
    {
     "name": "stdout",
     "output_type": "stream",
     "text": [
      "hazardous\n"
     ]
    },
    {
     "name": "stdout",
     "output_type": "stream",
     "text": [
      "hazy\n"
     ]
    },
    {
     "name": "stdout",
     "output_type": "stream",
     "text": [
      "head\n"
     ]
    },
    {
     "name": "stdout",
     "output_type": "stream",
     "text": [
      "headlong\n"
     ]
    },
    {
     "name": "stdout",
     "output_type": "stream",
     "text": [
      "headstrong\n"
     ]
    },
    {
     "name": "stdout",
     "output_type": "stream",
     "text": [
      "health\n"
     ]
    },
    {
     "name": "stdout",
     "output_type": "stream",
     "text": [
      "healthful\n"
     ]
    },
    {
     "name": "stdout",
     "output_type": "stream",
     "text": [
      "healthy\n"
     ]
    },
    {
     "name": "stdout",
     "output_type": "stream",
     "text": [
      "heart\n"
     ]
    },
    {
     "name": "stdout",
     "output_type": "stream",
     "text": [
      "heart-sick\n"
     ]
    },
    {
     "name": "stdout",
     "output_type": "stream",
     "text": [
      "heartfelt\n"
     ]
    },
    {
     "name": "stdout",
     "output_type": "stream",
     "text": [
      "hearth\n"
     ]
    },
    {
     "name": "stdout",
     "output_type": "stream",
     "text": [
      "heartiness\n"
     ]
    },
    {
     "name": "stdout",
     "output_type": "stream",
     "text": [
      "heartless\n"
     ]
    },
    {
     "name": "stdout",
     "output_type": "stream",
     "text": [
      "heartrending\n"
     ]
    },
    {
     "name": "stdout",
     "output_type": "stream",
     "text": [
      "hearty\n"
     ]
    },
    {
     "name": "stdout",
     "output_type": "stream",
     "text": [
      "heat\n"
     ]
    },
    {
     "name": "stdout",
     "output_type": "stream",
     "text": [
      "heated\n"
     ]
    },
    {
     "name": "stdout",
     "output_type": "stream",
     "text": [
      "heathen\n"
     ]
    },
    {
     "name": "stdout",
     "output_type": "stream",
     "text": [
      "heavenly\n"
     ]
    },
    {
     "name": "stdout",
     "output_type": "stream",
     "text": [
      "heaviness\n"
     ]
    },
    {
     "name": "stdout",
     "output_type": "stream",
     "text": [
      "heavy\n"
     ]
    },
    {
     "name": "stdout",
     "output_type": "stream",
     "text": [
      "hecklings\n"
     ]
    },
    {
     "name": "stdout",
     "output_type": "stream",
     "text": [
      "hectic\n"
     ]
    },
    {
     "name": "stdout",
     "output_type": "stream",
     "text": [
      "hectoring\n"
     ]
    },
    {
     "name": "stdout",
     "output_type": "stream",
     "text": [
      "heedless\n"
     ]
    },
    {
     "name": "stdout",
     "output_type": "stream",
     "text": [
      "heedlessness\n"
     ]
    },
    {
     "name": "stdout",
     "output_type": "stream",
     "text": [
      "height\n"
     ]
    },
    {
     "name": "stdout",
     "output_type": "stream",
     "text": [
      "heightened\n"
     ]
    },
    {
     "name": "stdout",
     "output_type": "stream",
     "text": [
      "heinous\n"
     ]
    },
    {
     "name": "stdout",
     "output_type": "stream",
     "text": [
      "helpful\n"
     ]
    },
    {
     "name": "stdout",
     "output_type": "stream",
     "text": [
      "helpfulness\n"
     ]
    },
    {
     "name": "stdout",
     "output_type": "stream",
     "text": [
      "helpless\n"
     ]
    },
    {
     "name": "stdout",
     "output_type": "stream",
     "text": [
      "helplessness\n"
     ]
    },
    {
     "name": "stdout",
     "output_type": "stream",
     "text": [
      "herculean\n"
     ]
    },
    {
     "name": "stdout",
     "output_type": "stream",
     "text": [
      "hereditary\n"
     ]
    },
    {
     "name": "stdout",
     "output_type": "stream",
     "text": [
      "heresy\n"
     ]
    },
    {
     "name": "stdout",
     "output_type": "stream",
     "text": [
      "heretical\n"
     ]
    },
    {
     "name": "stdout",
     "output_type": "stream",
     "text": [
      "heretics\n"
     ]
    },
    {
     "name": "stdout",
     "output_type": "stream",
     "text": [
      "heritage\n"
     ]
    },
    {
     "name": "stdout",
     "output_type": "stream",
     "text": [
      "hermetically\n"
     ]
    },
    {
     "name": "stdout",
     "output_type": "stream",
     "text": [
      "heroic\n"
     ]
    },
    {
     "name": "stdout",
     "output_type": "stream",
     "text": [
      "heroism\n"
     ]
    },
    {
     "name": "stdout",
     "output_type": "stream",
     "text": [
      "hesitating\n"
     ]
    },
    {
     "name": "stdout",
     "output_type": "stream",
     "text": [
      "hesitation\n"
     ]
    },
    {
     "name": "stdout",
     "output_type": "stream",
     "text": [
      "heterogeneous\n"
     ]
    },
    {
     "name": "stdout",
     "output_type": "stream",
     "text": [
      "hidden\n"
     ]
    },
    {
     "name": "stdout",
     "output_type": "stream",
     "text": [
      "hideous\n"
     ]
    },
    {
     "name": "stdout",
     "output_type": "stream",
     "text": [
      "high\n"
     ]
    },
    {
     "name": "stdout",
     "output_type": "stream",
     "text": [
      "high-flying\n"
     ]
    },
    {
     "name": "stdout",
     "output_type": "stream",
     "text": [
      "high-minded\n"
     ]
    },
    {
     "name": "stdout",
     "output_type": "stream",
     "text": [
      "high-spirited\n"
     ]
    },
    {
     "name": "stdout",
     "output_type": "stream",
     "text": [
      "highly\n"
     ]
    },
    {
     "name": "stdout",
     "output_type": "stream",
     "text": [
      "highly-strung\n"
     ]
    },
    {
     "name": "stdout",
     "output_type": "stream",
     "text": [
      "hilarious\n"
     ]
    },
    {
     "name": "stdout",
     "output_type": "stream",
     "text": [
      "hilarity\n"
     ]
    },
    {
     "name": "stdout",
     "output_type": "stream",
     "text": [
      "hills\n"
     ]
    },
    {
     "name": "stdout",
     "output_type": "stream",
     "text": [
      "hillside\n"
     ]
    },
    {
     "name": "stdout",
     "output_type": "stream",
     "text": [
      "hint\n"
     ]
    },
    {
     "name": "stdout",
     "output_type": "stream",
     "text": [
      "hints\n"
     ]
    },
    {
     "name": "stdout",
     "output_type": "stream",
     "text": [
      "hissing\n"
     ]
    },
    {
     "name": "stdout",
     "output_type": "stream",
     "text": [
      "historic\n"
     ]
    },
    {
     "name": "stdout",
     "output_type": "stream",
     "text": [
      "history\n"
     ]
    },
    {
     "name": "stdout",
     "output_type": "stream",
     "text": [
      "hither\n"
     ]
    },
    {
     "name": "stdout",
     "output_type": "stream",
     "text": [
      "hoarded\n"
     ]
    },
    {
     "name": "stdout",
     "output_type": "stream",
     "text": [
      "hoarse\n"
     ]
    },
    {
     "name": "stdout",
     "output_type": "stream",
     "text": [
      "hoarseness\n"
     ]
    },
    {
     "name": "stdout",
     "output_type": "stream",
     "text": [
      "hoary\n"
     ]
    },
    {
     "name": "stdout",
     "output_type": "stream",
     "text": [
      "hobbies\n"
     ]
    },
    {
     "name": "stdout",
     "output_type": "stream",
     "text": [
      "hodge-podge\n"
     ]
    },
    {
     "name": "stdout",
     "output_type": "stream",
     "text": [
      "hollow\n"
     ]
    },
    {
     "name": "stdout",
     "output_type": "stream",
     "text": [
      "hollowness\n"
     ]
    },
    {
     "name": "stdout",
     "output_type": "stream",
     "text": [
      "holy\n"
     ]
    },
    {
     "name": "stdout",
     "output_type": "stream",
     "text": [
      "homage\n"
     ]
    },
    {
     "name": "stdout",
     "output_type": "stream",
     "text": [
      "homebred\n"
     ]
    },
    {
     "name": "stdout",
     "output_type": "stream",
     "text": [
      "homeless\n"
     ]
    },
    {
     "name": "stdout",
     "output_type": "stream",
     "text": [
      "homeliness\n"
     ]
    },
    {
     "name": "stdout",
     "output_type": "stream",
     "text": [
      "homely\n"
     ]
    },
    {
     "name": "stdout",
     "output_type": "stream",
     "text": [
      "homespun\n"
     ]
    },
    {
     "name": "stdout",
     "output_type": "stream",
     "text": [
      "homicidal\n"
     ]
    },
    {
     "name": "stdout",
     "output_type": "stream",
     "text": [
      "homogeneous\n"
     ]
    },
    {
     "name": "stdout",
     "output_type": "stream",
     "text": [
      "honest\n"
     ]
    },
    {
     "name": "stdout",
     "output_type": "stream",
     "text": [
      "honestly\n"
     ]
    },
    {
     "name": "stdout",
     "output_type": "stream",
     "text": [
      "honesty\n"
     ]
    },
    {
     "name": "stdout",
     "output_type": "stream",
     "text": [
      "honeyed\n"
     ]
    },
    {
     "name": "stdout",
     "output_type": "stream",
     "text": [
      "honor\n"
     ]
    },
    {
     "name": "stdout",
     "output_type": "stream",
     "text": [
      "honorable\n"
     ]
    },
    {
     "name": "stdout",
     "output_type": "stream",
     "text": [
      "honored\n"
     ]
    },
    {
     "name": "stdout",
     "output_type": "stream",
     "text": [
      "honors\n"
     ]
    },
    {
     "name": "stdout",
     "output_type": "stream",
     "text": [
      "hooligan\n"
     ]
    },
    {
     "name": "stdout",
     "output_type": "stream",
     "text": [
      "hooted\n"
     ]
    },
    {
     "name": "stdout",
     "output_type": "stream",
     "text": [
      "hope\n"
     ]
    },
    {
     "name": "stdout",
     "output_type": "stream",
     "text": [
      "hopeful\n"
     ]
    },
    {
     "name": "stdout",
     "output_type": "stream",
     "text": [
      "hopefulness\n"
     ]
    },
    {
     "name": "stdout",
     "output_type": "stream",
     "text": [
      "hopeless\n"
     ]
    },
    {
     "name": "stdout",
     "output_type": "stream",
     "text": [
      "hopelessly\n"
     ]
    },
    {
     "name": "stdout",
     "output_type": "stream",
     "text": [
      "hopelessness\n"
     ]
    },
    {
     "name": "stdout",
     "output_type": "stream",
     "text": [
      "hopes\n"
     ]
    },
    {
     "name": "stdout",
     "output_type": "stream",
     "text": [
      "horde\n"
     ]
    },
    {
     "name": "stdout",
     "output_type": "stream",
     "text": [
      "hordes\n"
     ]
    },
    {
     "name": "stdout",
     "output_type": "stream",
     "text": [
      "horizon\n"
     ]
    },
    {
     "name": "stdout",
     "output_type": "stream",
     "text": [
      "horrible\n"
     ]
    },
    {
     "name": "stdout",
     "output_type": "stream",
     "text": [
      "horrid\n"
     ]
    },
    {
     "name": "stdout",
     "output_type": "stream",
     "text": [
      "horror\n"
     ]
    },
    {
     "name": "stdout",
     "output_type": "stream",
     "text": [
      "hortatory\n"
     ]
    },
    {
     "name": "stdout",
     "output_type": "stream",
     "text": [
      "hospitable\n"
     ]
    },
    {
     "name": "stdout",
     "output_type": "stream",
     "text": [
      "hospitality\n"
     ]
    },
    {
     "name": "stdout",
     "output_type": "stream",
     "text": [
      "host\n"
     ]
    },
    {
     "name": "stdout",
     "output_type": "stream",
     "text": [
      "hostile\n"
     ]
    },
    {
     "name": "stdout",
     "output_type": "stream",
     "text": [
      "hostility\n"
     ]
    },
    {
     "name": "stdout",
     "output_type": "stream",
     "text": [
      "hosts\n"
     ]
    },
    {
     "name": "stdout",
     "output_type": "stream",
     "text": [
      "hot\n"
     ]
    },
    {
     "name": "stdout",
     "output_type": "stream",
     "text": [
      "hovering\n"
     ]
    },
    {
     "name": "stdout",
     "output_type": "stream",
     "text": [
      "howling\n"
     ]
    },
    {
     "name": "stdout",
     "output_type": "stream",
     "text": [
      "hubbub\n"
     ]
    },
    {
     "name": "stdout",
     "output_type": "stream",
     "text": [
      "huddled\n"
     ]
    },
    {
     "name": "stdout",
     "output_type": "stream",
     "text": [
      "huge\n"
     ]
    },
    {
     "name": "stdout",
     "output_type": "stream",
     "text": [
      "hum\n"
     ]
    },
    {
     "name": "stdout",
     "output_type": "stream",
     "text": [
      "human\n"
     ]
    },
    {
     "name": "stdout",
     "output_type": "stream",
     "text": [
      "humane\n"
     ]
    },
    {
     "name": "stdout",
     "output_type": "stream",
     "text": [
      "humanitarian\n"
     ]
    },
    {
     "name": "stdout",
     "output_type": "stream",
     "text": [
      "humanity\n"
     ]
    },
    {
     "name": "stdout",
     "output_type": "stream",
     "text": [
      "humble\n"
     ]
    },
    {
     "name": "stdout",
     "output_type": "stream",
     "text": [
      "humbly\n"
     ]
    },
    {
     "name": "stdout",
     "output_type": "stream",
     "text": [
      "humbug\n"
     ]
    },
    {
     "name": "stdout",
     "output_type": "stream",
     "text": [
      "humdrum\n"
     ]
    },
    {
     "name": "stdout",
     "output_type": "stream",
     "text": [
      "humid\n"
     ]
    },
    {
     "name": "stdout",
     "output_type": "stream",
     "text": [
      "humiliating\n"
     ]
    },
    {
     "name": "stdout",
     "output_type": "stream",
     "text": [
      "humiliation\n"
     ]
    },
    {
     "name": "stdout",
     "output_type": "stream",
     "text": [
      "humility\n"
     ]
    },
    {
     "name": "stdout",
     "output_type": "stream",
     "text": [
      "humor\n"
     ]
    },
    {
     "name": "stdout",
     "output_type": "stream",
     "text": [
      "humorless\n"
     ]
    },
    {
     "name": "stdout",
     "output_type": "stream",
     "text": [
      "humorous\n"
     ]
    },
    {
     "name": "stdout",
     "output_type": "stream",
     "text": [
      "humors\n"
     ]
    },
    {
     "name": "stdout",
     "output_type": "stream",
     "text": [
      "hungry\n"
     ]
    },
    {
     "name": "stdout",
     "output_type": "stream",
     "text": [
      "hurry\n"
     ]
    },
    {
     "name": "stdout",
     "output_type": "stream",
     "text": [
      "hurrying\n"
     ]
    },
    {
     "name": "stdout",
     "output_type": "stream",
     "text": [
      "hurtful\n"
     ]
    },
    {
     "name": "stdout",
     "output_type": "stream",
     "text": [
      "hushed\n"
     ]
    },
    {
     "name": "stdout",
     "output_type": "stream",
     "text": [
      "husks\n"
     ]
    },
    {
     "name": "stdout",
     "output_type": "stream",
     "text": [
      "husky\n"
     ]
    },
    {
     "name": "stdout",
     "output_type": "stream",
     "text": [
      "hybrid\n"
     ]
    },
    {
     "name": "stdout",
     "output_type": "stream",
     "text": [
      "hypnotic\n"
     ]
    },
    {
     "name": "stdout",
     "output_type": "stream",
     "text": [
      "hypochondriacal\n"
     ]
    },
    {
     "name": "stdout",
     "output_type": "stream",
     "text": [
      "hypocrisies\n"
     ]
    },
    {
     "name": "stdout",
     "output_type": "stream",
     "text": [
      "hypocrisy\n"
     ]
    },
    {
     "name": "stdout",
     "output_type": "stream",
     "text": [
      "hypocrite\n"
     ]
    },
    {
     "name": "stdout",
     "output_type": "stream",
     "text": [
      "hypocrites\n"
     ]
    },
    {
     "name": "stdout",
     "output_type": "stream",
     "text": [
      "hypocritical\n"
     ]
    },
    {
     "name": "stdout",
     "output_type": "stream",
     "text": [
      "hypotheses\n"
     ]
    },
    {
     "name": "stdout",
     "output_type": "stream",
     "text": [
      "hypothesis\n"
     ]
    },
    {
     "name": "stdout",
     "output_type": "stream",
     "text": [
      "hysteria\n"
     ]
    },
    {
     "name": "stdout",
     "output_type": "stream",
     "text": [
      "hysterical\n"
     ]
    },
    {
     "name": "stdout",
     "output_type": "stream",
     "text": [
      "iciness\n"
     ]
    },
    {
     "name": "stdout",
     "output_type": "stream",
     "text": [
      "iconoclastic\n"
     ]
    },
    {
     "name": "stdout",
     "output_type": "stream",
     "text": [
      "icy\n"
     ]
    },
    {
     "name": "stdout",
     "output_type": "stream",
     "text": [
      "idea\n"
     ]
    },
    {
     "name": "stdout",
     "output_type": "stream",
     "text": [
      "ideal\n"
     ]
    },
    {
     "name": "stdout",
     "output_type": "stream",
     "text": [
      "idealistic\n"
     ]
    },
    {
     "name": "stdout",
     "output_type": "stream",
     "text": [
      "idealists\n"
     ]
    },
    {
     "name": "stdout",
     "output_type": "stream",
     "text": [
      "ideals\n"
     ]
    },
    {
     "name": "stdout",
     "output_type": "stream",
     "text": [
      "ideas\n"
     ]
    },
    {
     "name": "stdout",
     "output_type": "stream",
     "text": [
      "identical\n"
     ]
    },
    {
     "name": "stdout",
     "output_type": "stream",
     "text": [
      "identity\n"
     ]
    },
    {
     "name": "stdout",
     "output_type": "stream",
     "text": [
      "idiomatic\n"
     ]
    },
    {
     "name": "stdout",
     "output_type": "stream",
     "text": [
      "idiosyncrasies\n"
     ]
    },
    {
     "name": "stdout",
     "output_type": "stream",
     "text": [
      "idiotic\n"
     ]
    },
    {
     "name": "stdout",
     "output_type": "stream",
     "text": [
      "idle\n"
     ]
    },
    {
     "name": "stdout",
     "output_type": "stream",
     "text": [
      "idleness\n"
     ]
    },
    {
     "name": "stdout",
     "output_type": "stream",
     "text": [
      "idolatrous\n"
     ]
    },
    {
     "name": "stdout",
     "output_type": "stream",
     "text": [
      "idyllic\n"
     ]
    },
    {
     "name": "stdout",
     "output_type": "stream",
     "text": [
      "ignoble\n"
     ]
    },
    {
     "name": "stdout",
     "output_type": "stream",
     "text": [
      "ignominious\n"
     ]
    },
    {
     "name": "stdout",
     "output_type": "stream",
     "text": [
      "ignominy\n"
     ]
    },
    {
     "name": "stdout",
     "output_type": "stream",
     "text": [
      "ignoramus\n"
     ]
    },
    {
     "name": "stdout",
     "output_type": "stream",
     "text": [
      "ignorance\n"
     ]
    },
    {
     "name": "stdout",
     "output_type": "stream",
     "text": [
      "ignorant\n"
     ]
    },
    {
     "name": "stdout",
     "output_type": "stream",
     "text": [
      "ill-balanced\n"
     ]
    },
    {
     "name": "stdout",
     "output_type": "stream",
     "text": [
      "ill-concealed\n"
     ]
    },
    {
     "name": "stdout",
     "output_type": "stream",
     "text": [
      "ill-tempered\n"
     ]
    },
    {
     "name": "stdout",
     "output_type": "stream",
     "text": [
      "illiberal\n"
     ]
    },
    {
     "name": "stdout",
     "output_type": "stream",
     "text": [
      "illimitable\n"
     ]
    },
    {
     "name": "stdout",
     "output_type": "stream",
     "text": [
      "illiterate\n"
     ]
    },
    {
     "name": "stdout",
     "output_type": "stream",
     "text": [
      "illogical\n"
     ]
    },
    {
     "name": "stdout",
     "output_type": "stream",
     "text": [
      "illuminating\n"
     ]
    },
    {
     "name": "stdout",
     "output_type": "stream",
     "text": [
      "illuminations\n"
     ]
    },
    {
     "name": "stdout",
     "output_type": "stream",
     "text": [
      "illuminative\n"
     ]
    },
    {
     "name": "stdout",
     "output_type": "stream",
     "text": [
      "illumine\n"
     ]
    },
    {
     "name": "stdout",
     "output_type": "stream",
     "text": [
      "illumined\n"
     ]
    },
    {
     "name": "stdout",
     "output_type": "stream",
     "text": [
      "illusion\n"
     ]
    },
    {
     "name": "stdout",
     "output_type": "stream",
     "text": [
      "illusions\n"
     ]
    },
    {
     "name": "stdout",
     "output_type": "stream",
     "text": [
      "illusive\n"
     ]
    },
    {
     "name": "stdout",
     "output_type": "stream",
     "text": [
      "illusiveness\n"
     ]
    },
    {
     "name": "stdout",
     "output_type": "stream",
     "text": [
      "illustration\n"
     ]
    },
    {
     "name": "stdout",
     "output_type": "stream",
     "text": [
      "illustrative\n"
     ]
    },
    {
     "name": "stdout",
     "output_type": "stream",
     "text": [
      "illustrious\n"
     ]
    },
    {
     "name": "stdout",
     "output_type": "stream",
     "text": [
      "imagery\n"
     ]
    },
    {
     "name": "stdout",
     "output_type": "stream",
     "text": [
      "images\n"
     ]
    },
    {
     "name": "stdout",
     "output_type": "stream",
     "text": [
      "imagination\n"
     ]
    },
    {
     "name": "stdout",
     "output_type": "stream",
     "text": [
      "imaginative\n"
     ]
    },
    {
     "name": "stdout",
     "output_type": "stream",
     "text": [
      "imbecile\n"
     ]
    },
    {
     "name": "stdout",
     "output_type": "stream",
     "text": [
      "imbecility\n"
     ]
    },
    {
     "name": "stdout",
     "output_type": "stream",
     "text": [
      "imbitter\n"
     ]
    },
    {
     "name": "stdout",
     "output_type": "stream",
     "text": [
      "imbittered\n"
     ]
    },
    {
     "name": "stdout",
     "output_type": "stream",
     "text": [
      "imitated\n"
     ]
    },
    {
     "name": "stdout",
     "output_type": "stream",
     "text": [
      "imitation\n"
     ]
    },
    {
     "name": "stdout",
     "output_type": "stream",
     "text": [
      "imitations\n"
     ]
    },
    {
     "name": "stdout",
     "output_type": "stream",
     "text": [
      "imitators\n"
     ]
    },
    {
     "name": "stdout",
     "output_type": "stream",
     "text": [
      "immaterial\n"
     ]
    },
    {
     "name": "stdout",
     "output_type": "stream",
     "text": [
      "immature\n"
     ]
    },
    {
     "name": "stdout",
     "output_type": "stream",
     "text": [
      "immeasurable\n"
     ]
    },
    {
     "name": "stdout",
     "output_type": "stream",
     "text": [
      "immediate\n"
     ]
    },
    {
     "name": "stdout",
     "output_type": "stream",
     "text": [
      "immemorial\n"
     ]
    },
    {
     "name": "stdout",
     "output_type": "stream",
     "text": [
      "immense\n"
     ]
    },
    {
     "name": "stdout",
     "output_type": "stream",
     "text": [
      "immensity\n"
     ]
    },
    {
     "name": "stdout",
     "output_type": "stream",
     "text": [
      "immethodical\n"
     ]
    },
    {
     "name": "stdout",
     "output_type": "stream",
     "text": [
      "imminent\n"
     ]
    },
    {
     "name": "stdout",
     "output_type": "stream",
     "text": [
      "immitigable\n"
     ]
    },
    {
     "name": "stdout",
     "output_type": "stream",
     "text": [
      "immobility\n"
     ]
    },
    {
     "name": "stdout",
     "output_type": "stream",
     "text": [
      "immoderate\n"
     ]
    },
    {
     "name": "stdout",
     "output_type": "stream",
     "text": [
      "immoral\n"
     ]
    },
    {
     "name": "stdout",
     "output_type": "stream",
     "text": [
      "immortal\n"
     ]
    },
    {
     "name": "stdout",
     "output_type": "stream",
     "text": [
      "immovable\n"
     ]
    },
    {
     "name": "stdout",
     "output_type": "stream",
     "text": [
      "immovably\n"
     ]
    },
    {
     "name": "stdout",
     "output_type": "stream",
     "text": [
      "immunity\n"
     ]
    },
    {
     "name": "stdout",
     "output_type": "stream",
     "text": [
      "immutable\n"
     ]
    },
    {
     "name": "stdout",
     "output_type": "stream",
     "text": [
      "impaired\n"
     ]
    },
    {
     "name": "stdout",
     "output_type": "stream",
     "text": [
      "impalpable\n"
     ]
    },
    {
     "name": "stdout",
     "output_type": "stream",
     "text": [
      "impartial\n"
     ]
    },
    {
     "name": "stdout",
     "output_type": "stream",
     "text": [
      "impartiality\n"
     ]
    },
    {
     "name": "stdout",
     "output_type": "stream",
     "text": [
      "impassable\n"
     ]
    },
    {
     "name": "stdout",
     "output_type": "stream",
     "text": [
      "impassioned\n"
     ]
    },
    {
     "name": "stdout",
     "output_type": "stream",
     "text": [
      "impatience\n"
     ]
    },
    {
     "name": "stdout",
     "output_type": "stream",
     "text": [
      "impatient\n"
     ]
    },
    {
     "name": "stdout",
     "output_type": "stream",
     "text": [
      "impatientimprovident\n"
     ]
    },
    {
     "name": "stdout",
     "output_type": "stream",
     "text": [
      "impeccable\n"
     ]
    },
    {
     "name": "stdout",
     "output_type": "stream",
     "text": [
      "impecunious\n"
     ]
    },
    {
     "name": "stdout",
     "output_type": "stream",
     "text": [
      "impel\n"
     ]
    },
    {
     "name": "stdout",
     "output_type": "stream",
     "text": [
      "impelling\n"
     ]
    },
    {
     "name": "stdout",
     "output_type": "stream",
     "text": [
      "impending\n"
     ]
    },
    {
     "name": "stdout",
     "output_type": "stream",
     "text": [
      "impenetrable\n"
     ]
    },
    {
     "name": "stdout",
     "output_type": "stream",
     "text": [
      "impenitent\n"
     ]
    },
    {
     "name": "stdout",
     "output_type": "stream",
     "text": [
      "imperative\n"
     ]
    },
    {
     "name": "stdout",
     "output_type": "stream",
     "text": [
      "imperceptible\n"
     ]
    },
    {
     "name": "stdout",
     "output_type": "stream",
     "text": [
      "imperfect\n"
     ]
    },
    {
     "name": "stdout",
     "output_type": "stream",
     "text": [
      "imperfection\n"
     ]
    },
    {
     "name": "stdout",
     "output_type": "stream",
     "text": [
      "imperial\n"
     ]
    },
    {
     "name": "stdout",
     "output_type": "stream",
     "text": [
      "imperil\n"
     ]
    },
    {
     "name": "stdout",
     "output_type": "stream",
     "text": [
      "imperious\n"
     ]
    },
    {
     "name": "stdout",
     "output_type": "stream",
     "text": [
      "imperiousarchitecture\n"
     ]
    },
    {
     "name": "stdout",
     "output_type": "stream",
     "text": [
      "imperishable\n"
     ]
    },
    {
     "name": "stdout",
     "output_type": "stream",
     "text": [
      "impersonal\n"
     ]
    },
    {
     "name": "stdout",
     "output_type": "stream",
     "text": [
      "impertinence\n"
     ]
    },
    {
     "name": "stdout",
     "output_type": "stream",
     "text": [
      "impertinent\n"
     ]
    },
    {
     "name": "stdout",
     "output_type": "stream",
     "text": [
      "imperturbable\n"
     ]
    },
    {
     "name": "stdout",
     "output_type": "stream",
     "text": [
      "impervious\n"
     ]
    },
    {
     "name": "stdout",
     "output_type": "stream",
     "text": [
      "impetuosity\n"
     ]
    },
    {
     "name": "stdout",
     "output_type": "stream",
     "text": [
      "impetuous\n"
     ]
    },
    {
     "name": "stdout",
     "output_type": "stream",
     "text": [
      "impetus\n"
     ]
    },
    {
     "name": "stdout",
     "output_type": "stream",
     "text": [
      "impinging\n"
     ]
    },
    {
     "name": "stdout",
     "output_type": "stream",
     "text": [
      "impious\n"
     ]
    },
    {
     "name": "stdout",
     "output_type": "stream",
     "text": [
      "impish\n"
     ]
    },
    {
     "name": "stdout",
     "output_type": "stream",
     "text": [
      "implacable\n"
     ]
    },
    {
     "name": "stdout",
     "output_type": "stream",
     "text": [
      "implicit\n"
     ]
    },
    {
     "name": "stdout",
     "output_type": "stream",
     "text": [
      "implied\n"
     ]
    },
    {
     "name": "stdout",
     "output_type": "stream",
     "text": [
      "implore\n"
     ]
    },
    {
     "name": "stdout",
     "output_type": "stream",
     "text": [
      "implored\n"
     ]
    },
    {
     "name": "stdout",
     "output_type": "stream",
     "text": [
      "imponderable\n"
     ]
    },
    {
     "name": "stdout",
     "output_type": "stream",
     "text": [
      "importance\n"
     ]
    },
    {
     "name": "stdout",
     "output_type": "stream",
     "text": [
      "important\n"
     ]
    },
    {
     "name": "stdout",
     "output_type": "stream",
     "text": [
      "importunate\n"
     ]
    },
    {
     "name": "stdout",
     "output_type": "stream",
     "text": [
      "importunesorrow\n"
     ]
    },
    {
     "name": "stdout",
     "output_type": "stream",
     "text": [
      "importunity\n"
     ]
    },
    {
     "name": "stdout",
     "output_type": "stream",
     "text": [
      "imposed\n"
     ]
    },
    {
     "name": "stdout",
     "output_type": "stream",
     "text": [
      "imposing\n"
     ]
    },
    {
     "name": "stdout",
     "output_type": "stream",
     "text": [
      "imposition\n"
     ]
    },
    {
     "name": "stdout",
     "output_type": "stream",
     "text": [
      "impossibilities\n"
     ]
    },
    {
     "name": "stdout",
     "output_type": "stream",
     "text": [
      "impossible\n"
     ]
    },
    {
     "name": "stdout",
     "output_type": "stream",
     "text": [
      "impostor\n"
     ]
    },
    {
     "name": "stdout",
     "output_type": "stream",
     "text": [
      "imposture\n"
     ]
    },
    {
     "name": "stdout",
     "output_type": "stream",
     "text": [
      "impotent\n"
     ]
    },
    {
     "name": "stdout",
     "output_type": "stream",
     "text": [
      "impoverished\n"
     ]
    },
    {
     "name": "stdout",
     "output_type": "stream",
     "text": [
      "impracticable\n"
     ]
    },
    {
     "name": "stdout",
     "output_type": "stream",
     "text": [
      "imprecations\n"
     ]
    },
    {
     "name": "stdout",
     "output_type": "stream",
     "text": [
      "impregnable\n"
     ]
    },
    {
     "name": "stdout",
     "output_type": "stream",
     "text": [
      "impressible\n"
     ]
    },
    {
     "name": "stdout",
     "output_type": "stream",
     "text": [
      "impression\n"
     ]
    },
    {
     "name": "stdout",
     "output_type": "stream",
     "text": [
      "impressionistic\n"
     ]
    },
    {
     "name": "stdout",
     "output_type": "stream",
     "text": [
      "impressions\n"
     ]
    },
    {
     "name": "stdout",
     "output_type": "stream",
     "text": [
      "impressive\n"
     ]
    },
    {
     "name": "stdout",
     "output_type": "stream",
     "text": [
      "impressiveness\n"
     ]
    },
    {
     "name": "stdout",
     "output_type": "stream",
     "text": [
      "imprisoning\n"
     ]
    },
    {
     "name": "stdout",
     "output_type": "stream",
     "text": [
      "improbable\n"
     ]
    },
    {
     "name": "stdout",
     "output_type": "stream",
     "text": [
      "impromptu\n"
     ]
    },
    {
     "name": "stdout",
     "output_type": "stream",
     "text": [
      "improprieties\n"
     ]
    },
    {
     "name": "stdout",
     "output_type": "stream",
     "text": [
      "impropriety\n"
     ]
    },
    {
     "name": "stdout",
     "output_type": "stream",
     "text": [
      "improvement\n"
     ]
    },
    {
     "name": "stdout",
     "output_type": "stream",
     "text": [
      "improvising\n"
     ]
    },
    {
     "name": "stdout",
     "output_type": "stream",
     "text": [
      "imprudent\n"
     ]
    },
    {
     "name": "stdout",
     "output_type": "stream",
     "text": [
      "impudence\n"
     ]
    },
    {
     "name": "stdout",
     "output_type": "stream",
     "text": [
      "impudent\n"
     ]
    },
    {
     "name": "stdout",
     "output_type": "stream",
     "text": [
      "impulse\n"
     ]
    },
    {
     "name": "stdout",
     "output_type": "stream",
     "text": [
      "impulses\n"
     ]
    },
    {
     "name": "stdout",
     "output_type": "stream",
     "text": [
      "impulsive\n"
     ]
    },
    {
     "name": "stdout",
     "output_type": "stream",
     "text": [
      "inaccessible\n"
     ]
    },
    {
     "name": "stdout",
     "output_type": "stream",
     "text": [
      "inaccurate\n"
     ]
    },
    {
     "name": "stdout",
     "output_type": "stream",
     "text": [
      "inactive\n"
     ]
    },
    {
     "name": "stdout",
     "output_type": "stream",
     "text": [
      "inactivity\n"
     ]
    },
    {
     "name": "stdout",
     "output_type": "stream",
     "text": [
      "inadequate\n"
     ]
    },
    {
     "name": "stdout",
     "output_type": "stream",
     "text": [
      "inadmissible\n"
     ]
    },
    {
     "name": "stdout",
     "output_type": "stream",
     "text": [
      "inadvertency\n"
     ]
    },
    {
     "name": "stdout",
     "output_type": "stream",
     "text": [
      "inadvertent\n"
     ]
    },
    {
     "name": "stdout",
     "output_type": "stream",
     "text": [
      "inalienable\n"
     ]
    },
    {
     "name": "stdout",
     "output_type": "stream",
     "text": [
      "inane\n"
     ]
    },
    {
     "name": "stdout",
     "output_type": "stream",
     "text": [
      "inanimate\n"
     ]
    },
    {
     "name": "stdout",
     "output_type": "stream",
     "text": [
      "inapplicable\n"
     ]
    },
    {
     "name": "stdout",
     "output_type": "stream",
     "text": [
      "inapposite\n"
     ]
    },
    {
     "name": "stdout",
     "output_type": "stream",
     "text": [
      "inaptly\n"
     ]
    },
    {
     "name": "stdout",
     "output_type": "stream",
     "text": [
      "inarticulate\n"
     ]
    },
    {
     "name": "stdout",
     "output_type": "stream",
     "text": [
      "inaugural\n"
     ]
    },
    {
     "name": "stdout",
     "output_type": "stream",
     "text": [
      "inborn\n"
     ]
    },
    {
     "name": "stdout",
     "output_type": "stream",
     "text": [
      "inbred\n"
     ]
    },
    {
     "name": "stdout",
     "output_type": "stream",
     "text": [
      "incalculable\n"
     ]
    },
    {
     "name": "stdout",
     "output_type": "stream",
     "text": [
      "incarnate\n"
     ]
    },
    {
     "name": "stdout",
     "output_type": "stream",
     "text": [
      "incautious\n"
     ]
    },
    {
     "name": "stdout",
     "output_type": "stream",
     "text": [
      "incendiary\n"
     ]
    },
    {
     "name": "stdout",
     "output_type": "stream",
     "text": [
      "incense\n"
     ]
    },
    {
     "name": "stdout",
     "output_type": "stream",
     "text": [
      "incensed\n"
     ]
    },
    {
     "name": "stdout",
     "output_type": "stream",
     "text": [
      "incentive\n"
     ]
    },
    {
     "name": "stdout",
     "output_type": "stream",
     "text": [
      "incessant\n"
     ]
    },
    {
     "name": "stdout",
     "output_type": "stream",
     "text": [
      "incessantly\n"
     ]
    },
    {
     "name": "stdout",
     "output_type": "stream",
     "text": [
      "inchoate\n"
     ]
    },
    {
     "name": "stdout",
     "output_type": "stream",
     "text": [
      "incident\n"
     ]
    },
    {
     "name": "stdout",
     "output_type": "stream",
     "text": [
      "incidental\n"
     ]
    },
    {
     "name": "stdout",
     "output_type": "stream",
     "text": [
      "incidents\n"
     ]
    },
    {
     "name": "stdout",
     "output_type": "stream",
     "text": [
      "incipient\n"
     ]
    },
    {
     "name": "stdout",
     "output_type": "stream",
     "text": [
      "incisive\n"
     ]
    },
    {
     "name": "stdout",
     "output_type": "stream",
     "text": [
      "incisiveness\n"
     ]
    },
    {
     "name": "stdout",
     "output_type": "stream",
     "text": [
      "inclinations\n"
     ]
    },
    {
     "name": "stdout",
     "output_type": "stream",
     "text": [
      "incoherence\n"
     ]
    },
    {
     "name": "stdout",
     "output_type": "stream",
     "text": [
      "incoherent\n"
     ]
    },
    {
     "name": "stdout",
     "output_type": "stream",
     "text": [
      "incommunicable\n"
     ]
    },
    {
     "name": "stdout",
     "output_type": "stream",
     "text": [
      "incomparable\n"
     ]
    },
    {
     "name": "stdout",
     "output_type": "stream",
     "text": [
      "incompatibility\n"
     ]
    },
    {
     "name": "stdout",
     "output_type": "stream",
     "text": [
      "incompetence\n"
     ]
    },
    {
     "name": "stdout",
     "output_type": "stream",
     "text": [
      "incomplete\n"
     ]
    },
    {
     "name": "stdout",
     "output_type": "stream",
     "text": [
      "incompletely\n"
     ]
    },
    {
     "name": "stdout",
     "output_type": "stream",
     "text": [
      "incomprehensible\n"
     ]
    },
    {
     "name": "stdout",
     "output_type": "stream",
     "text": [
      "inconceivable\n"
     ]
    },
    {
     "name": "stdout",
     "output_type": "stream",
     "text": [
      "inconclusive\n"
     ]
    },
    {
     "name": "stdout",
     "output_type": "stream",
     "text": [
      "inconclusiveness\n"
     ]
    },
    {
     "name": "stdout",
     "output_type": "stream",
     "text": [
      "incongruity\n"
     ]
    },
    {
     "name": "stdout",
     "output_type": "stream",
     "text": [
      "incongruous\n"
     ]
    },
    {
     "name": "stdout",
     "output_type": "stream",
     "text": [
      "inconsecutive\n"
     ]
    },
    {
     "name": "stdout",
     "output_type": "stream",
     "text": [
      "inconsiderable\n"
     ]
    },
    {
     "name": "stdout",
     "output_type": "stream",
     "text": [
      "inconsiderate\n"
     ]
    },
    {
     "name": "stdout",
     "output_type": "stream",
     "text": [
      "inconsistencies\n"
     ]
    },
    {
     "name": "stdout",
     "output_type": "stream",
     "text": [
      "inconsistency\n"
     ]
    },
    {
     "name": "stdout",
     "output_type": "stream",
     "text": [
      "inconsistent\n"
     ]
    },
    {
     "name": "stdout",
     "output_type": "stream",
     "text": [
      "inconsolable\n"
     ]
    },
    {
     "name": "stdout",
     "output_type": "stream",
     "text": [
      "incontestable\n"
     ]
    },
    {
     "name": "stdout",
     "output_type": "stream",
     "text": [
      "incontrovertible\n"
     ]
    },
    {
     "name": "stdout",
     "output_type": "stream",
     "text": [
      "inconveniences\n"
     ]
    },
    {
     "name": "stdout",
     "output_type": "stream",
     "text": [
      "inconvenient\n"
     ]
    },
    {
     "name": "stdout",
     "output_type": "stream",
     "text": [
      "incorrigible\n"
     ]
    },
    {
     "name": "stdout",
     "output_type": "stream",
     "text": [
      "incorruptible\n"
     ]
    },
    {
     "name": "stdout",
     "output_type": "stream",
     "text": [
      "increasing\n"
     ]
    },
    {
     "name": "stdout",
     "output_type": "stream",
     "text": [
      "incredible\n"
     ]
    },
    {
     "name": "stdout",
     "output_type": "stream",
     "text": [
      "incredulity\n"
     ]
    },
    {
     "name": "stdout",
     "output_type": "stream",
     "text": [
      "incredulous\n"
     ]
    },
    {
     "name": "stdout",
     "output_type": "stream",
     "text": [
      "indebtedness\n"
     ]
    },
    {
     "name": "stdout",
     "output_type": "stream",
     "text": [
      "indecent\n"
     ]
    },
    {
     "name": "stdout",
     "output_type": "stream",
     "text": [
      "indecision\n"
     ]
    },
    {
     "name": "stdout",
     "output_type": "stream",
     "text": [
      "indecorously\n"
     ]
    },
    {
     "name": "stdout",
     "output_type": "stream",
     "text": [
      "indecorum\n"
     ]
    },
    {
     "name": "stdout",
     "output_type": "stream",
     "text": [
      "indefatigable\n"
     ]
    },
    {
     "name": "stdout",
     "output_type": "stream",
     "text": [
      "indefeasible\n"
     ]
    },
    {
     "name": "stdout",
     "output_type": "stream",
     "text": [
      "indefinable\n"
     ]
    },
    {
     "name": "stdout",
     "output_type": "stream",
     "text": [
      "indefinite\n"
     ]
    },
    {
     "name": "stdout",
     "output_type": "stream",
     "text": [
      "indelible\n"
     ]
    },
    {
     "name": "stdout",
     "output_type": "stream",
     "text": [
      "indelicate\n"
     ]
    },
    {
     "name": "stdout",
     "output_type": "stream",
     "text": [
      "indented\n"
     ]
    },
    {
     "name": "stdout",
     "output_type": "stream",
     "text": [
      "independence\n"
     ]
    },
    {
     "name": "stdout",
     "output_type": "stream",
     "text": [
      "independent\n"
     ]
    },
    {
     "name": "stdout",
     "output_type": "stream",
     "text": [
      "indescribable\n"
     ]
    },
    {
     "name": "stdout",
     "output_type": "stream",
     "text": [
      "indescribably\n"
     ]
    },
    {
     "name": "stdout",
     "output_type": "stream",
     "text": [
      "indestructible\n"
     ]
    },
    {
     "name": "stdout",
     "output_type": "stream",
     "text": [
      "indeterminable\n"
     ]
    },
    {
     "name": "stdout",
     "output_type": "stream",
     "text": [
      "indications\n"
     ]
    },
    {
     "name": "stdout",
     "output_type": "stream",
     "text": [
      "indifference\n"
     ]
    },
    {
     "name": "stdout",
     "output_type": "stream",
     "text": [
      "indifferent\n"
     ]
    },
    {
     "name": "stdout",
     "output_type": "stream",
     "text": [
      "indigence\n"
     ]
    },
    {
     "name": "stdout",
     "output_type": "stream",
     "text": [
      "indigenous\n"
     ]
    },
    {
     "name": "stdout",
     "output_type": "stream",
     "text": [
      "indignant\n"
     ]
    },
    {
     "name": "stdout",
     "output_type": "stream",
     "text": [
      "indignation\n"
     ]
    },
    {
     "name": "stdout",
     "output_type": "stream",
     "text": [
      "indignities\n"
     ]
    },
    {
     "name": "stdout",
     "output_type": "stream",
     "text": [
      "indirect\n"
     ]
    },
    {
     "name": "stdout",
     "output_type": "stream",
     "text": [
      "indirectly\n"
     ]
    },
    {
     "name": "stdout",
     "output_type": "stream",
     "text": [
      "indiscretion\n"
     ]
    },
    {
     "name": "stdout",
     "output_type": "stream",
     "text": [
      "indiscriminate\n"
     ]
    },
    {
     "name": "stdout",
     "output_type": "stream",
     "text": [
      "indispensable\n"
     ]
    },
    {
     "name": "stdout",
     "output_type": "stream",
     "text": [
      "indisputable\n"
     ]
    },
    {
     "name": "stdout",
     "output_type": "stream",
     "text": [
      "indissoluble\n"
     ]
    },
    {
     "name": "stdout",
     "output_type": "stream",
     "text": [
      "indistinct\n"
     ]
    },
    {
     "name": "stdout",
     "output_type": "stream",
     "text": [
      "individual\n"
     ]
    },
    {
     "name": "stdout",
     "output_type": "stream",
     "text": [
      "individuality\n"
     ]
    },
    {
     "name": "stdout",
     "output_type": "stream",
     "text": [
      "individually\n"
     ]
    },
    {
     "name": "stdout",
     "output_type": "stream",
     "text": [
      "indivisible\n"
     ]
    },
    {
     "name": "stdout",
     "output_type": "stream",
     "text": [
      "indolence\n"
     ]
    },
    {
     "name": "stdout",
     "output_type": "stream",
     "text": [
      "indolent\n"
     ]
    },
    {
     "name": "stdout",
     "output_type": "stream",
     "text": [
      "indomitable\n"
     ]
    },
    {
     "name": "stdout",
     "output_type": "stream",
     "text": [
      "indorsed\n"
     ]
    },
    {
     "name": "stdout",
     "output_type": "stream",
     "text": [
      "indubitable\n"
     ]
    },
    {
     "name": "stdout",
     "output_type": "stream",
     "text": [
      "indulge\n"
     ]
    },
    {
     "name": "stdout",
     "output_type": "stream",
     "text": [
      "indulged\n"
     ]
    },
    {
     "name": "stdout",
     "output_type": "stream",
     "text": [
      "indulgence\n"
     ]
    },
    {
     "name": "stdout",
     "output_type": "stream",
     "text": [
      "indulgent\n"
     ]
    },
    {
     "name": "stdout",
     "output_type": "stream",
     "text": [
      "industrious\n"
     ]
    },
    {
     "name": "stdout",
     "output_type": "stream",
     "text": [
      "industry\n"
     ]
    },
    {
     "name": "stdout",
     "output_type": "stream",
     "text": [
      "indwelling\n"
     ]
    },
    {
     "name": "stdout",
     "output_type": "stream",
     "text": [
      "ineffable\n"
     ]
    },
    {
     "name": "stdout",
     "output_type": "stream",
     "text": [
      "ineffaceable\n"
     ]
    },
    {
     "name": "stdout",
     "output_type": "stream",
     "text": [
      "ineffective\n"
     ]
    },
    {
     "name": "stdout",
     "output_type": "stream",
     "text": [
      "ineffectual\n"
     ]
    },
    {
     "name": "stdout",
     "output_type": "stream",
     "text": [
      "inefficiency\n"
     ]
    },
    {
     "name": "stdout",
     "output_type": "stream",
     "text": [
      "inefficient\n"
     ]
    },
    {
     "name": "stdout",
     "output_type": "stream",
     "text": [
      "inelastic\n"
     ]
    },
    {
     "name": "stdout",
     "output_type": "stream",
     "text": [
      "inept\n"
     ]
    },
    {
     "name": "stdout",
     "output_type": "stream",
     "text": [
      "ineptitude\n"
     ]
    },
    {
     "name": "stdout",
     "output_type": "stream",
     "text": [
      "inequalities\n"
     ]
    },
    {
     "name": "stdout",
     "output_type": "stream",
     "text": [
      "ineradicable\n"
     ]
    },
    {
     "name": "stdout",
     "output_type": "stream",
     "text": [
      "inert\n"
     ]
    },
    {
     "name": "stdout",
     "output_type": "stream",
     "text": [
      "inertness\n"
     ]
    },
    {
     "name": "stdout",
     "output_type": "stream",
     "text": [
      "inestimable\n"
     ]
    },
    {
     "name": "stdout",
     "output_type": "stream",
     "text": [
      "inevitable\n"
     ]
    },
    {
     "name": "stdout",
     "output_type": "stream",
     "text": [
      "inexact\n"
     ]
    },
    {
     "name": "stdout",
     "output_type": "stream",
     "text": [
      "inexcusable\n"
     ]
    },
    {
     "name": "stdout",
     "output_type": "stream",
     "text": [
      "inexhaustible\n"
     ]
    },
    {
     "name": "stdout",
     "output_type": "stream",
     "text": [
      "inexorable\n"
     ]
    },
    {
     "name": "stdout",
     "output_type": "stream",
     "text": [
      "inexpedient\n"
     ]
    },
    {
     "name": "stdout",
     "output_type": "stream",
     "text": [
      "inexpensive\n"
     ]
    },
    {
     "name": "stdout",
     "output_type": "stream",
     "text": [
      "inexperienced\n"
     ]
    },
    {
     "name": "stdout",
     "output_type": "stream",
     "text": [
      "inexplicable\n"
     ]
    },
    {
     "name": "stdout",
     "output_type": "stream",
     "text": [
      "inexpressible\n"
     ]
    },
    {
     "name": "stdout",
     "output_type": "stream",
     "text": [
      "inexpressive\n"
     ]
    },
    {
     "name": "stdout",
     "output_type": "stream",
     "text": [
      "inextricable\n"
     ]
    },
    {
     "name": "stdout",
     "output_type": "stream",
     "text": [
      "infallible\n"
     ]
    },
    {
     "name": "stdout",
     "output_type": "stream",
     "text": [
      "infamous\n"
     ]
    },
    {
     "name": "stdout",
     "output_type": "stream",
     "text": [
      "infamy\n"
     ]
    },
    {
     "name": "stdout",
     "output_type": "stream",
     "text": [
      "infantile\n"
     ]
    },
    {
     "name": "stdout",
     "output_type": "stream",
     "text": [
      "infantine\n"
     ]
    },
    {
     "name": "stdout",
     "output_type": "stream",
     "text": [
      "infatuations\n"
     ]
    },
    {
     "name": "stdout",
     "output_type": "stream",
     "text": [
      "infectious\n"
     ]
    },
    {
     "name": "stdout",
     "output_type": "stream",
     "text": [
      "infelicitous\n"
     ]
    },
    {
     "name": "stdout",
     "output_type": "stream",
     "text": [
      "infelicity\n"
     ]
    },
    {
     "name": "stdout",
     "output_type": "stream",
     "text": [
      "inference\n"
     ]
    },
    {
     "name": "stdout",
     "output_type": "stream",
     "text": [
      "inferences\n"
     ]
    },
    {
     "name": "stdout",
     "output_type": "stream",
     "text": [
      "inferential\n"
     ]
    },
    {
     "name": "stdout",
     "output_type": "stream",
     "text": [
      "inferior\n"
     ]
    },
    {
     "name": "stdout",
     "output_type": "stream",
     "text": [
      "inferiors\n"
     ]
    },
    {
     "name": "stdout",
     "output_type": "stream",
     "text": [
      "infernal\n"
     ]
    },
    {
     "name": "stdout",
     "output_type": "stream",
     "text": [
      "infinite\n"
     ]
    },
    {
     "name": "stdout",
     "output_type": "stream",
     "text": [
      "infinitesimal\n"
     ]
    },
    {
     "name": "stdout",
     "output_type": "stream",
     "text": [
      "infirm\n"
     ]
    },
    {
     "name": "stdout",
     "output_type": "stream",
     "text": [
      "infirmities\n"
     ]
    },
    {
     "name": "stdout",
     "output_type": "stream",
     "text": [
      "inflamed\n"
     ]
    },
    {
     "name": "stdout",
     "output_type": "stream",
     "text": [
      "inflated\n"
     ]
    },
    {
     "name": "stdout",
     "output_type": "stream",
     "text": [
      "inflexibilityoffensive\n"
     ]
    },
    {
     "name": "stdout",
     "output_type": "stream",
     "text": [
      "inflexible\n"
     ]
    },
    {
     "name": "stdout",
     "output_type": "stream",
     "text": [
      "influence\n"
     ]
    },
    {
     "name": "stdout",
     "output_type": "stream",
     "text": [
      "influences\n"
     ]
    },
    {
     "name": "stdout",
     "output_type": "stream",
     "text": [
      "influential\n"
     ]
    },
    {
     "name": "stdout",
     "output_type": "stream",
     "text": [
      "inform\n"
     ]
    },
    {
     "name": "stdout",
     "output_type": "stream",
     "text": [
      "informal\n"
     ]
    },
    {
     "name": "stdout",
     "output_type": "stream",
     "text": [
      "information\n"
     ]
    },
    {
     "name": "stdout",
     "output_type": "stream",
     "text": [
      "informed\n"
     ]
    },
    {
     "name": "stdout",
     "output_type": "stream",
     "text": [
      "informing\n"
     ]
    },
    {
     "name": "stdout",
     "output_type": "stream",
     "text": [
      "infuriate\n"
     ]
    },
    {
     "name": "stdout",
     "output_type": "stream",
     "text": [
      "infuriated\n"
     ]
    },
    {
     "name": "stdout",
     "output_type": "stream",
     "text": [
      "ingenious\n"
     ]
    },
    {
     "name": "stdout",
     "output_type": "stream",
     "text": [
      "ingenuity\n"
     ]
    },
    {
     "name": "stdout",
     "output_type": "stream",
     "text": [
      "ingenuous\n"
     ]
    },
    {
     "name": "stdout",
     "output_type": "stream",
     "text": [
      "ingenuousness\n"
     ]
    },
    {
     "name": "stdout",
     "output_type": "stream",
     "text": [
      "inglorious\n"
     ]
    },
    {
     "name": "stdout",
     "output_type": "stream",
     "text": [
      "ingrained\n"
     ]
    },
    {
     "name": "stdout",
     "output_type": "stream",
     "text": [
      "ingratiating\n"
     ]
    },
    {
     "name": "stdout",
     "output_type": "stream",
     "text": [
      "ingratitude\n"
     ]
    },
    {
     "name": "stdout",
     "output_type": "stream",
     "text": [
      "inharmonious\n"
     ]
    },
    {
     "name": "stdout",
     "output_type": "stream",
     "text": [
      "inherent\n"
     ]
    },
    {
     "name": "stdout",
     "output_type": "stream",
     "text": [
      "inherited\n"
     ]
    },
    {
     "name": "stdout",
     "output_type": "stream",
     "text": [
      "inhuman\n"
     ]
    },
    {
     "name": "stdout",
     "output_type": "stream",
     "text": [
      "inhumanity\n"
     ]
    },
    {
     "name": "stdout",
     "output_type": "stream",
     "text": [
      "inimitable\n"
     ]
    },
    {
     "name": "stdout",
     "output_type": "stream",
     "text": [
      "iniquitous\n"
     ]
    },
    {
     "name": "stdout",
     "output_type": "stream",
     "text": [
      "initiatory\n"
     ]
    },
    {
     "name": "stdout",
     "output_type": "stream",
     "text": [
      "injudicious\n"
     ]
    },
    {
     "name": "stdout",
     "output_type": "stream",
     "text": [
      "injunction\n"
     ]
    },
    {
     "name": "stdout",
     "output_type": "stream",
     "text": [
      "injure\n"
     ]
    },
    {
     "name": "stdout",
     "output_type": "stream",
     "text": [
      "injured\n"
     ]
    },
    {
     "name": "stdout",
     "output_type": "stream",
     "text": [
      "injurious\n"
     ]
    },
    {
     "name": "stdout",
     "output_type": "stream",
     "text": [
      "injury\n"
     ]
    },
    {
     "name": "stdout",
     "output_type": "stream",
     "text": [
      "injustice\n"
     ]
    },
    {
     "name": "stdout",
     "output_type": "stream",
     "text": [
      "inky\n"
     ]
    },
    {
     "name": "stdout",
     "output_type": "stream",
     "text": [
      "inmost\n"
     ]
    },
    {
     "name": "stdout",
     "output_type": "stream",
     "text": [
      "innate\n"
     ]
    },
    {
     "name": "stdout",
     "output_type": "stream",
     "text": [
      "inner\n"
     ]
    },
    {
     "name": "stdout",
     "output_type": "stream",
     "text": [
      "innocence\n"
     ]
    },
    {
     "name": "stdout",
     "output_type": "stream",
     "text": [
      "innocent\n"
     ]
    },
    {
     "name": "stdout",
     "output_type": "stream",
     "text": [
      "innocently\n"
     ]
    },
    {
     "name": "stdout",
     "output_type": "stream",
     "text": [
      "innocuous\n"
     ]
    },
    {
     "name": "stdout",
     "output_type": "stream",
     "text": [
      "innovating\n"
     ]
    },
    {
     "name": "stdout",
     "output_type": "stream",
     "text": [
      "innuendo\n"
     ]
    },
    {
     "name": "stdout",
     "output_type": "stream",
     "text": [
      "innuendoes\n"
     ]
    },
    {
     "name": "stdout",
     "output_type": "stream",
     "text": [
      "inoffensive\n"
     ]
    },
    {
     "name": "stdout",
     "output_type": "stream",
     "text": [
      "inopportune\n"
     ]
    },
    {
     "name": "stdout",
     "output_type": "stream",
     "text": [
      "inordinate\n"
     ]
    },
    {
     "name": "stdout",
     "output_type": "stream",
     "text": [
      "inquiries\n"
     ]
    },
    {
     "name": "stdout",
     "output_type": "stream",
     "text": [
      "inquiry\n"
     ]
    },
    {
     "name": "stdout",
     "output_type": "stream",
     "text": [
      "inquisitional\n"
     ]
    },
    {
     "name": "stdout",
     "output_type": "stream",
     "text": [
      "inquisitive\n"
     ]
    },
    {
     "name": "stdout",
     "output_type": "stream",
     "text": [
      "inquisitiveness\n"
     ]
    },
    {
     "name": "stdout",
     "output_type": "stream",
     "text": [
      "insanely\n"
     ]
    },
    {
     "name": "stdout",
     "output_type": "stream",
     "text": [
      "insatiable\n"
     ]
    },
    {
     "name": "stdout",
     "output_type": "stream",
     "text": [
      "inscrutable\n"
     ]
    },
    {
     "name": "stdout",
     "output_type": "stream",
     "text": [
      "insecure\n"
     ]
    },
    {
     "name": "stdout",
     "output_type": "stream",
     "text": [
      "insecurity\n"
     ]
    },
    {
     "name": "stdout",
     "output_type": "stream",
     "text": [
      "insensate\n"
     ]
    },
    {
     "name": "stdout",
     "output_type": "stream",
     "text": [
      "insensibility\n"
     ]
    },
    {
     "name": "stdout",
     "output_type": "stream",
     "text": [
      "insensible\n"
     ]
    },
    {
     "name": "stdout",
     "output_type": "stream",
     "text": [
      "insensibly\n"
     ]
    },
    {
     "name": "stdout",
     "output_type": "stream",
     "text": [
      "inseparably\n"
     ]
    },
    {
     "name": "stdout",
     "output_type": "stream",
     "text": [
      "insidious\n"
     ]
    },
    {
     "name": "stdout",
     "output_type": "stream",
     "text": [
      "insight\n"
     ]
    },
    {
     "name": "stdout",
     "output_type": "stream",
     "text": [
      "insignificant\n"
     ]
    },
    {
     "name": "stdout",
     "output_type": "stream",
     "text": [
      "insincere\n"
     ]
    },
    {
     "name": "stdout",
     "output_type": "stream",
     "text": [
      "insincerity\n"
     ]
    },
    {
     "name": "stdout",
     "output_type": "stream",
     "text": [
      "insinuatingly\n"
     ]
    },
    {
     "name": "stdout",
     "output_type": "stream",
     "text": [
      "insinuations\n"
     ]
    },
    {
     "name": "stdout",
     "output_type": "stream",
     "text": [
      "insipid\n"
     ]
    },
    {
     "name": "stdout",
     "output_type": "stream",
     "text": [
      "insipidity\n"
     ]
    },
    {
     "name": "stdout",
     "output_type": "stream",
     "text": [
      "insistence\n"
     ]
    },
    {
     "name": "stdout",
     "output_type": "stream",
     "text": [
      "insistent\n"
     ]
    },
    {
     "name": "stdout",
     "output_type": "stream",
     "text": [
      "insolence\n"
     ]
    },
    {
     "name": "stdout",
     "output_type": "stream",
     "text": [
      "insolent\n"
     ]
    },
    {
     "name": "stdout",
     "output_type": "stream",
     "text": [
      "insoluble\n"
     ]
    },
    {
     "name": "stdout",
     "output_type": "stream",
     "text": [
      "inspiration\n"
     ]
    },
    {
     "name": "stdout",
     "output_type": "stream",
     "text": [
      "inspiring\n"
     ]
    },
    {
     "name": "stdout",
     "output_type": "stream",
     "text": [
      "inspirit\n"
     ]
    },
    {
     "name": "stdout",
     "output_type": "stream",
     "text": [
      "inspiriting\n"
     ]
    },
    {
     "name": "stdout",
     "output_type": "stream",
     "text": [
      "instability\n"
     ]
    },
    {
     "name": "stdout",
     "output_type": "stream",
     "text": [
      "instance\n"
     ]
    },
    {
     "name": "stdout",
     "output_type": "stream",
     "text": [
      "instances\n"
     ]
    },
    {
     "name": "stdout",
     "output_type": "stream",
     "text": [
      "instant\n"
     ]
    },
    {
     "name": "stdout",
     "output_type": "stream",
     "text": [
      "instantaneous\n"
     ]
    },
    {
     "name": "stdout",
     "output_type": "stream",
     "text": [
      "instigate\n"
     ]
    },
    {
     "name": "stdout",
     "output_type": "stream",
     "text": [
      "instinct\n"
     ]
    },
    {
     "name": "stdout",
     "output_type": "stream",
     "text": [
      "instinctive\n"
     ]
    },
    {
     "name": "stdout",
     "output_type": "stream",
     "text": [
      "instincts\n"
     ]
    },
    {
     "name": "stdout",
     "output_type": "stream",
     "text": [
      "institutions\n"
     ]
    },
    {
     "name": "stdout",
     "output_type": "stream",
     "text": [
      "instruct\n"
     ]
    },
    {
     "name": "stdout",
     "output_type": "stream",
     "text": [
      "instruction\n"
     ]
    },
    {
     "name": "stdout",
     "output_type": "stream",
     "text": [
      "insufferable\n"
     ]
    },
    {
     "name": "stdout",
     "output_type": "stream",
     "text": [
      "insufferably\n"
     ]
    },
    {
     "name": "stdout",
     "output_type": "stream",
     "text": [
      "insufficient\n"
     ]
    },
    {
     "name": "stdout",
     "output_type": "stream",
     "text": [
      "insular\n"
     ]
    },
    {
     "name": "stdout",
     "output_type": "stream",
     "text": [
      "insulted\n"
     ]
    },
    {
     "name": "stdout",
     "output_type": "stream",
     "text": [
      "insulting\n"
     ]
    },
    {
     "name": "stdout",
     "output_type": "stream",
     "text": [
      "insuperable\n"
     ]
    },
    {
     "name": "stdout",
     "output_type": "stream",
     "text": [
      "insupportable\n"
     ]
    },
    {
     "name": "stdout",
     "output_type": "stream",
     "text": [
      "insurmountable\n"
     ]
    },
    {
     "name": "stdout",
     "output_type": "stream",
     "text": [
      "intangible\n"
     ]
    },
    {
     "name": "stdout",
     "output_type": "stream",
     "text": [
      "integral\n"
     ]
    },
    {
     "name": "stdout",
     "output_type": "stream",
     "text": [
      "integrity\n"
     ]
    },
    {
     "name": "stdout",
     "output_type": "stream",
     "text": [
      "intellect\n"
     ]
    },
    {
     "name": "stdout",
     "output_type": "stream",
     "text": [
      "intellectual\n"
     ]
    },
    {
     "name": "stdout",
     "output_type": "stream",
     "text": [
      "intelligence\n"
     ]
    },
    {
     "name": "stdout",
     "output_type": "stream",
     "text": [
      "intelligent\n"
     ]
    },
    {
     "name": "stdout",
     "output_type": "stream",
     "text": [
      "intelligible\n"
     ]
    },
    {
     "name": "stdout",
     "output_type": "stream",
     "text": [
      "intemperate\n"
     ]
    },
    {
     "name": "stdout",
     "output_type": "stream",
     "text": [
      "intense\n"
     ]
    },
    {
     "name": "stdout",
     "output_type": "stream",
     "text": [
      "intensified\n"
     ]
    },
    {
     "name": "stdout",
     "output_type": "stream",
     "text": [
      "intensify\n"
     ]
    },
    {
     "name": "stdout",
     "output_type": "stream",
     "text": [
      "intensity\n"
     ]
    },
    {
     "name": "stdout",
     "output_type": "stream",
     "text": [
      "intensive\n"
     ]
    },
    {
     "name": "stdout",
     "output_type": "stream",
     "text": [
      "intention\n"
     ]
    },
    {
     "name": "stdout",
     "output_type": "stream",
     "text": [
      "intentional\n"
     ]
    },
    {
     "name": "stdout",
     "output_type": "stream",
     "text": [
      "intentions\n"
     ]
    },
    {
     "name": "stdout",
     "output_type": "stream",
     "text": [
      "intentness\n"
     ]
    },
    {
     "name": "stdout",
     "output_type": "stream",
     "text": [
      "interaction\n"
     ]
    },
    {
     "name": "stdout",
     "output_type": "stream",
     "text": [
      "intercourse\n"
     ]
    },
    {
     "name": "stdout",
     "output_type": "stream",
     "text": [
      "interdependence\n"
     ]
    },
    {
     "name": "stdout",
     "output_type": "stream",
     "text": [
      "interdependent\n"
     ]
    },
    {
     "name": "stdout",
     "output_type": "stream",
     "text": [
      "interest\n"
     ]
    },
    {
     "name": "stdout",
     "output_type": "stream",
     "text": [
      "interested\n"
     ]
    },
    {
     "name": "stdout",
     "output_type": "stream",
     "text": [
      "interesting\n"
     ]
    },
    {
     "name": "stdout",
     "output_type": "stream",
     "text": [
      "interests\n"
     ]
    },
    {
     "name": "stdout",
     "output_type": "stream",
     "text": [
      "interference\n"
     ]
    },
    {
     "name": "stdout",
     "output_type": "stream",
     "text": [
      "interior\n"
     ]
    },
    {
     "name": "stdout",
     "output_type": "stream",
     "text": [
      "interlacings\n"
     ]
    },
    {
     "name": "stdout",
     "output_type": "stream",
     "text": [
      "interlocking\n"
     ]
    },
    {
     "name": "stdout",
     "output_type": "stream",
     "text": [
      "interlude\n"
     ]
    },
    {
     "name": "stdout",
     "output_type": "stream",
     "text": [
      "interludes\n"
     ]
    },
    {
     "name": "stdout",
     "output_type": "stream",
     "text": [
      "intermediate\n"
     ]
    },
    {
     "name": "stdout",
     "output_type": "stream",
     "text": [
      "interminable\n"
     ]
    },
    {
     "name": "stdout",
     "output_type": "stream",
     "text": [
      "intermingled\n"
     ]
    },
    {
     "name": "stdout",
     "output_type": "stream",
     "text": [
      "intermittent\n"
     ]
    },
    {
     "name": "stdout",
     "output_type": "stream",
     "text": [
      "internal\n"
     ]
    },
    {
     "name": "stdout",
     "output_type": "stream",
     "text": [
      "interpolated\n"
     ]
    },
    {
     "name": "stdout",
     "output_type": "stream",
     "text": [
      "interpretation\n"
     ]
    },
    {
     "name": "stdout",
     "output_type": "stream",
     "text": [
      "interpretative\n"
     ]
    },
    {
     "name": "stdout",
     "output_type": "stream",
     "text": [
      "interrogation\n"
     ]
    },
    {
     "name": "stdout",
     "output_type": "stream",
     "text": [
      "interruption\n"
     ]
    },
    {
     "name": "stdout",
     "output_type": "stream",
     "text": [
      "interruptions\n"
     ]
    },
    {
     "name": "stdout",
     "output_type": "stream",
     "text": [
      "interwoven\n"
     ]
    },
    {
     "name": "stdout",
     "output_type": "stream",
     "text": [
      "intimacy\n"
     ]
    },
    {
     "name": "stdout",
     "output_type": "stream",
     "text": [
      "intimate\n"
     ]
    },
    {
     "name": "stdout",
     "output_type": "stream",
     "text": [
      "intimately\n"
     ]
    },
    {
     "name": "stdout",
     "output_type": "stream",
     "text": [
      "intimation\n"
     ]
    },
    {
     "name": "stdout",
     "output_type": "stream",
     "text": [
      "intimations\n"
     ]
    },
    {
     "name": "stdout",
     "output_type": "stream",
     "text": [
      "intolerable\n"
     ]
    },
    {
     "name": "stdout",
     "output_type": "stream",
     "text": [
      "intolerably\n"
     ]
    },
    {
     "name": "stdout",
     "output_type": "stream",
     "text": [
      "intolerant\n"
     ]
    },
    {
     "name": "stdout",
     "output_type": "stream",
     "text": [
      "intoxicating\n"
     ]
    },
    {
     "name": "stdout",
     "output_type": "stream",
     "text": [
      "intractable\n"
     ]
    },
    {
     "name": "stdout",
     "output_type": "stream",
     "text": [
      "intrenched\n"
     ]
    },
    {
     "name": "stdout",
     "output_type": "stream",
     "text": [
      "intrepid\n"
     ]
    },
    {
     "name": "stdout",
     "output_type": "stream",
     "text": [
      "intricacy\n"
     ]
    },
    {
     "name": "stdout",
     "output_type": "stream",
     "text": [
      "intricate\n"
     ]
    },
    {
     "name": "stdout",
     "output_type": "stream",
     "text": [
      "intrigues\n"
     ]
    },
    {
     "name": "stdout",
     "output_type": "stream",
     "text": [
      "intriguing\n"
     ]
    },
    {
     "name": "stdout",
     "output_type": "stream",
     "text": [
      "intrinsic\n"
     ]
    },
    {
     "name": "stdout",
     "output_type": "stream",
     "text": [
      "intrusive\n"
     ]
    },
    {
     "name": "stdout",
     "output_type": "stream",
     "text": [
      "intuition\n"
     ]
    },
    {
     "name": "stdout",
     "output_type": "stream",
     "text": [
      "intuitive\n"
     ]
    },
    {
     "name": "stdout",
     "output_type": "stream",
     "text": [
      "invaluable\n"
     ]
    },
    {
     "name": "stdout",
     "output_type": "stream",
     "text": [
      "invariable\n"
     ]
    },
    {
     "name": "stdout",
     "output_type": "stream",
     "text": [
      "invasion\n"
     ]
    },
    {
     "name": "stdout",
     "output_type": "stream",
     "text": [
      "invective\n"
     ]
    },
    {
     "name": "stdout",
     "output_type": "stream",
     "text": [
      "invectives\n"
     ]
    },
    {
     "name": "stdout",
     "output_type": "stream",
     "text": [
      "inveighing\n"
     ]
    },
    {
     "name": "stdout",
     "output_type": "stream",
     "text": [
      "invent\n"
     ]
    },
    {
     "name": "stdout",
     "output_type": "stream",
     "text": [
      "invention\n"
     ]
    },
    {
     "name": "stdout",
     "output_type": "stream",
     "text": [
      "inventions\n"
     ]
    },
    {
     "name": "stdout",
     "output_type": "stream",
     "text": [
      "inventive\n"
     ]
    },
    {
     "name": "stdout",
     "output_type": "stream",
     "text": [
      "investigation\n"
     ]
    },
    {
     "name": "stdout",
     "output_type": "stream",
     "text": [
      "inveterate\n"
     ]
    },
    {
     "name": "stdout",
     "output_type": "stream",
     "text": [
      "invidious\n"
     ]
    },
    {
     "name": "stdout",
     "output_type": "stream",
     "text": [
      "invigorate\n"
     ]
    },
    {
     "name": "stdout",
     "output_type": "stream",
     "text": [
      "invigorating\n"
     ]
    },
    {
     "name": "stdout",
     "output_type": "stream",
     "text": [
      "invincible\n"
     ]
    },
    {
     "name": "stdout",
     "output_type": "stream",
     "text": [
      "inviolable\n"
     ]
    },
    {
     "name": "stdout",
     "output_type": "stream",
     "text": [
      "inviolate\n"
     ]
    },
    {
     "name": "stdout",
     "output_type": "stream",
     "text": [
      "invisible\n"
     ]
    },
    {
     "name": "stdout",
     "output_type": "stream",
     "text": [
      "inviting\n"
     ]
    },
    {
     "name": "stdout",
     "output_type": "stream",
     "text": [
      "invocation\n"
     ]
    },
    {
     "name": "stdout",
     "output_type": "stream",
     "text": [
      "involuntary\n"
     ]
    },
    {
     "name": "stdout",
     "output_type": "stream",
     "text": [
      "involuted\n"
     ]
    },
    {
     "name": "stdout",
     "output_type": "stream",
     "text": [
      "involve\n"
     ]
    },
    {
     "name": "stdout",
     "output_type": "stream",
     "text": [
      "involved\n"
     ]
    },
    {
     "name": "stdout",
     "output_type": "stream",
     "text": [
      "invulnerable\n"
     ]
    },
    {
     "name": "stdout",
     "output_type": "stream",
     "text": [
      "inward\n"
     ]
    },
    {
     "name": "stdout",
     "output_type": "stream",
     "text": [
      "inwardness\n"
     ]
    },
    {
     "name": "stdout",
     "output_type": "stream",
     "text": [
      "irascible\n"
     ]
    },
    {
     "name": "stdout",
     "output_type": "stream",
     "text": [
      "irate\n"
     ]
    },
    {
     "name": "stdout",
     "output_type": "stream",
     "text": [
      "iridescent\n"
     ]
    },
    {
     "name": "stdout",
     "output_type": "stream",
     "text": [
      "irksome\n"
     ]
    },
    {
     "name": "stdout",
     "output_type": "stream",
     "text": [
      "iron\n"
     ]
    },
    {
     "name": "stdout",
     "output_type": "stream",
     "text": [
      "ironic\n"
     ]
    },
    {
     "name": "stdout",
     "output_type": "stream",
     "text": [
      "ironical\n"
     ]
    },
    {
     "name": "stdout",
     "output_type": "stream",
     "text": [
      "irony\n"
     ]
    },
    {
     "name": "stdout",
     "output_type": "stream",
     "text": [
      "irradiate\n"
     ]
    },
    {
     "name": "stdout",
     "output_type": "stream",
     "text": [
      "irradiating\n"
     ]
    },
    {
     "name": "stdout",
     "output_type": "stream",
     "text": [
      "irrational\n"
     ]
    },
    {
     "name": "stdout",
     "output_type": "stream",
     "text": [
      "irreclaimable\n"
     ]
    },
    {
     "name": "stdout",
     "output_type": "stream",
     "text": [
      "irreconcilable\n"
     ]
    },
    {
     "name": "stdout",
     "output_type": "stream",
     "text": [
      "irrecoverably\n"
     ]
    },
    {
     "name": "stdout",
     "output_type": "stream",
     "text": [
      "irrefragable\n"
     ]
    },
    {
     "name": "stdout",
     "output_type": "stream",
     "text": [
      "irrefutable\n"
     ]
    },
    {
     "name": "stdout",
     "output_type": "stream",
     "text": [
      "irregular\n"
     ]
    },
    {
     "name": "stdout",
     "output_type": "stream",
     "text": [
      "irregularities\n"
     ]
    },
    {
     "name": "stdout",
     "output_type": "stream",
     "text": [
      "irrelevancy\n"
     ]
    },
    {
     "name": "stdout",
     "output_type": "stream",
     "text": [
      "irrelevant\n"
     ]
    },
    {
     "name": "stdout",
     "output_type": "stream",
     "text": [
      "irreligious\n"
     ]
    },
    {
     "name": "stdout",
     "output_type": "stream",
     "text": [
      "irremediable\n"
     ]
    },
    {
     "name": "stdout",
     "output_type": "stream",
     "text": [
      "irreparable\n"
     ]
    },
    {
     "name": "stdout",
     "output_type": "stream",
     "text": [
      "irreplaceable\n"
     ]
    },
    {
     "name": "stdout",
     "output_type": "stream",
     "text": [
      "irrepressible\n"
     ]
    },
    {
     "name": "stdout",
     "output_type": "stream",
     "text": [
      "irreproachable\n"
     ]
    },
    {
     "name": "stdout",
     "output_type": "stream",
     "text": [
      "irresistible\n"
     ]
    },
    {
     "name": "stdout",
     "output_type": "stream",
     "text": [
      "irresolute\n"
     ]
    },
    {
     "name": "stdout",
     "output_type": "stream",
     "text": [
      "irresolution\n"
     ]
    },
    {
     "name": "stdout",
     "output_type": "stream",
     "text": [
      "irresponsible\n"
     ]
    },
    {
     "name": "stdout",
     "output_type": "stream",
     "text": [
      "irresponsibly\n"
     ]
    },
    {
     "name": "stdout",
     "output_type": "stream",
     "text": [
      "irretrievable\n"
     ]
    },
    {
     "name": "stdout",
     "output_type": "stream",
     "text": [
      "irreverence\n"
     ]
    },
    {
     "name": "stdout",
     "output_type": "stream",
     "text": [
      "irreverent\n"
     ]
    },
    {
     "name": "stdout",
     "output_type": "stream",
     "text": [
      "irreversible\n"
     ]
    },
    {
     "name": "stdout",
     "output_type": "stream",
     "text": [
      "irrevocable\n"
     ]
    },
    {
     "name": "stdout",
     "output_type": "stream",
     "text": [
      "irrevocably\n"
     ]
    },
    {
     "name": "stdout",
     "output_type": "stream",
     "text": [
      "irritability\n"
     ]
    },
    {
     "name": "stdout",
     "output_type": "stream",
     "text": [
      "irritable\n"
     ]
    },
    {
     "name": "stdout",
     "output_type": "stream",
     "text": [
      "irritation\n"
     ]
    },
    {
     "name": "stdout",
     "output_type": "stream",
     "text": [
      "isolated\n"
     ]
    },
    {
     "name": "stdout",
     "output_type": "stream",
     "text": [
      "issues\n"
     ]
    },
    {
     "name": "stdout",
     "output_type": "stream",
     "text": [
      "iteration\n"
     ]
    },
    {
     "name": "stdout",
     "output_type": "stream",
     "text": [
      "jabber\n"
     ]
    },
    {
     "name": "stdout",
     "output_type": "stream",
     "text": [
      "jackanapesforce\n"
     ]
    },
    {
     "name": "stdout",
     "output_type": "stream",
     "text": [
      "jaded\n"
     ]
    },
    {
     "name": "stdout",
     "output_type": "stream",
     "text": [
      "jagged\n"
     ]
    },
    {
     "name": "stdout",
     "output_type": "stream",
     "text": [
      "jangle\n"
     ]
    },
    {
     "name": "stdout",
     "output_type": "stream",
     "text": [
      "jargon\n"
     ]
    },
    {
     "name": "stdout",
     "output_type": "stream",
     "text": [
      "jarring\n"
     ]
    },
    {
     "name": "stdout",
     "output_type": "stream",
     "text": [
      "jarrings\n"
     ]
    },
    {
     "name": "stdout",
     "output_type": "stream",
     "text": [
      "jaundiced\n"
     ]
    },
    {
     "name": "stdout",
     "output_type": "stream",
     "text": [
      "jaunty\n"
     ]
    },
    {
     "name": "stdout",
     "output_type": "stream",
     "text": [
      "jealous\n"
     ]
    },
    {
     "name": "stdout",
     "output_type": "stream",
     "text": [
      "jealousies\n"
     ]
    },
    {
     "name": "stdout",
     "output_type": "stream",
     "text": [
      "jealousy\n"
     ]
    },
    {
     "name": "stdout",
     "output_type": "stream",
     "text": [
      "jeer\n"
     ]
    },
    {
     "name": "stdout",
     "output_type": "stream",
     "text": [
      "jeopardy\n"
     ]
    },
    {
     "name": "stdout",
     "output_type": "stream",
     "text": [
      "jest\n"
     ]
    },
    {
     "name": "stdout",
     "output_type": "stream",
     "text": [
      "jesting\n"
     ]
    },
    {
     "name": "stdout",
     "output_type": "stream",
     "text": [
      "jests\n"
     ]
    },
    {
     "name": "stdout",
     "output_type": "stream",
     "text": [
      "jetsam\n"
     ]
    },
    {
     "name": "stdout",
     "output_type": "stream",
     "text": [
      "jibes\n"
     ]
    },
    {
     "name": "stdout",
     "output_type": "stream",
     "text": [
      "jingling\n"
     ]
    },
    {
     "name": "stdout",
     "output_type": "stream",
     "text": [
      "jocular\n"
     ]
    },
    {
     "name": "stdout",
     "output_type": "stream",
     "text": [
      "jocularity\n"
     ]
    },
    {
     "name": "stdout",
     "output_type": "stream",
     "text": [
      "jocund\n"
     ]
    },
    {
     "name": "stdout",
     "output_type": "stream",
     "text": [
      "jostle\n"
     ]
    },
    {
     "name": "stdout",
     "output_type": "stream",
     "text": [
      "jostled\n"
     ]
    },
    {
     "name": "stdout",
     "output_type": "stream",
     "text": [
      "jostling\n"
     ]
    },
    {
     "name": "stdout",
     "output_type": "stream",
     "text": [
      "jottings\n"
     ]
    },
    {
     "name": "stdout",
     "output_type": "stream",
     "text": [
      "journals\n"
     ]
    },
    {
     "name": "stdout",
     "output_type": "stream",
     "text": [
      "jovial\n"
     ]
    },
    {
     "name": "stdout",
     "output_type": "stream",
     "text": [
      "joviality\n"
     ]
    },
    {
     "name": "stdout",
     "output_type": "stream",
     "text": [
      "joy\n"
     ]
    },
    {
     "name": "stdout",
     "output_type": "stream",
     "text": [
      "joyful\n"
     ]
    },
    {
     "name": "stdout",
     "output_type": "stream",
     "text": [
      "joyous\n"
     ]
    },
    {
     "name": "stdout",
     "output_type": "stream",
     "text": [
      "joys\n"
     ]
    },
    {
     "name": "stdout",
     "output_type": "stream",
     "text": [
      "jubilant\n"
     ]
    },
    {
     "name": "stdout",
     "output_type": "stream",
     "text": [
      "judgment\n"
     ]
    },
    {
     "name": "stdout",
     "output_type": "stream",
     "text": [
      "judgments\n"
     ]
    },
    {
     "name": "stdout",
     "output_type": "stream",
     "text": [
      "judicial\n"
     ]
    },
    {
     "name": "stdout",
     "output_type": "stream",
     "text": [
      "judicious\n"
     ]
    },
    {
     "name": "stdout",
     "output_type": "stream",
     "text": [
      "judiciously\n"
     ]
    },
    {
     "name": "stdout",
     "output_type": "stream",
     "text": [
      "juggled\n"
     ]
    },
    {
     "name": "stdout",
     "output_type": "stream",
     "text": [
      "jumble\n"
     ]
    },
    {
     "name": "stdout",
     "output_type": "stream",
     "text": [
      "jumpings\n"
     ]
    },
    {
     "name": "stdout",
     "output_type": "stream",
     "text": [
      "juncture\n"
     ]
    },
    {
     "name": "stdout",
     "output_type": "stream",
     "text": [
      "jurisdiction\n"
     ]
    },
    {
     "name": "stdout",
     "output_type": "stream",
     "text": [
      "just\n"
     ]
    },
    {
     "name": "stdout",
     "output_type": "stream",
     "text": [
      "justice\n"
     ]
    },
    {
     "name": "stdout",
     "output_type": "stream",
     "text": [
      "justifiable\n"
     ]
    },
    {
     "name": "stdout",
     "output_type": "stream",
     "text": [
      "juvenile\n"
     ]
    }
   ],
   "source": [
    "get_meanings('vocab_words_1.txt', 'vocab_results_1.txt')"
   ]
  },
  {
   "cell_type": "code",
   "execution_count": null,
   "metadata": {},
   "outputs": [],
   "source": []
  }
 ],
 "metadata": {
  "kernelspec": {
   "display_name": "Python 3",
   "language": "python",
   "name": "python3"
  },
  "language_info": {
   "codemirror_mode": {
    "name": "ipython",
    "version": 3
   },
   "file_extension": ".py",
   "mimetype": "text/x-python",
   "name": "python",
   "nbconvert_exporter": "python",
   "pygments_lexer": "ipython3",
   "version": "3.6.7"
  }
 },
 "nbformat": 4,
 "nbformat_minor": 2
}
